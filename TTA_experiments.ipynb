{
  "cells": [
    {
      "cell_type": "markdown",
      "metadata": {
        "id": "view-in-github",
        "colab_type": "text"
      },
      "source": [
        "<a href=\"https://colab.research.google.com/github/RachelRamirez/tta/blob/main/TTA_experiments.ipynb\" target=\"_parent\"><img src=\"https://colab.research.google.com/assets/colab-badge.svg\" alt=\"Open In Colab\"/></a>"
      ]
    },
    {
      "cell_type": "markdown",
      "source": [
        "# **Comparison of 4 Techniques** Traditional CNN (baseline),  2 \"Bayesian\" CNNs, and Test-Time Augmentations on CIFAR-9 classes and one novel class"
      ],
      "metadata": {
        "id": "bTsV0gZz-tQ3"
      }
    },
    {
      "cell_type": "markdown",
      "source": [
        "This is a resource originally about Bayesian Neural Networks,  by TensorChiefs found as supplemental coding material for their book [Probabilistic Deep Learning](https://tensorchiefs.github.io/dl_book/), their original code is [here](https://colab.research.google.com/drive/1ZCNuGd9z_ZvJ7irFH-FQmqlFXP5jeK8z#scrollTo=TNFhkloWTImi).  I  added and compared Test Time Augmentation.\n",
        "\n",
        "Future: I plan to add [time and memory run profiles](https://colab.research.google.com/github/jakevdp/PythonDataScienceHandbook/blob/master/notebooks/01.07-Timing-and-Profiling.ipynb#scrollTo=HdeOK7Qhw0wp) to also compare the methods"
      ],
      "metadata": {
        "id": "Gt-QCpnVHyFd"
      }
    },
    {
      "cell_type": "code",
      "source": [
        "#@title Just do TTA experiments? { display-mode: \"form\" }\n",
        "#@markdown This Colab will skip everything but TTA if checked\n",
        "just_TTA  = True #@param {type: \"boolean\"} \n",
        "\n",
        "if just_TTA:\n",
        "  print(\"Will skip everything but TTA experiments\")"
      ],
      "metadata": {
        "id": "9TE-7aBxoXLI",
        "outputId": "709a1612-61e0-471e-f887-8c0c29f17bf4",
        "colab": {
          "base_uri": "https://localhost:8080/"
        }
      },
      "execution_count": null,
      "outputs": [
        {
          "output_type": "stream",
          "name": "stdout",
          "text": [
            "Will skip everything but TTA experiments\n"
          ]
        }
      ]
    },
    {
      "cell_type": "markdown",
      "metadata": {
        "id": "-aR_ls1Ci-nl"
      },
      "source": [
        "# Cifar10 classification case study with novel class\n",
        "\n",
        "**Goal:** In this notebook you will investigate which advantages Bayesian NNs can offer in a classification task. You will use train data from 9 of the 10 classes in the Cifar10 dataset to fit different three probabilistic NN.\n",
        "First you fit a \"traditional\" non-Bayesian NN and then you will fit two Bayesian NN, one via variational inference and one via dropout. You will compare the accuracy of the different NN on the 9 known classes. Further you will investigate and compare the uncertainties expressed by the NNs for both the known classes and unknown class. Finally you will use these uncertainties to detect novel classes and filter out uncertain predictions.\n",
        "\n",
        "**Usage:** The idea of the notebook is that you try to understand the provided code by running it, checking the output and playing with it by slightly changing the code and rerunning it.\n",
        "\n",
        "**Dataset:** You work with the Cifar10 dataset. You have 60'000 32x32 pixel color images of 10 classes (\"airplane\",\"automobile\",\"bird\",\"cat\",\"deer\",\"dog\",\"frog\",\"horse\",\"ship\",\"truck\"). You will delete all images from the class \"horse\" in the training dataset to simulate a novel class. Note that we keep the class \"horse\" in the test dataset.\n",
        "\n",
        "**Content:**\n",
        "* Load the Cifar10 dataset\n",
        "* Delete all images of the class \"horse\" from the training dataset\n",
        "* Split the train dataset into a train and validation dataset (60:40 split) \n",
        "* Fit a non-Bayesian NN \n",
        "* Fit a Bayesian NN via variational inference \n",
        "* Fit a Bayesian NN via dropout \n",
        "* Compare the  of the accuracy of the models on the known classes\n",
        "* Compare the  of the uncertainties of the models on the known and unknown classes\n",
        "* Use the uncertainties to filter uncertain predictions\n",
        "\n",
        "| [open in colab](https://colab.research.google.com/github/tensorchiefs/dl_book/blob/master/chapter_08/nb_ch08_04.ipynb)"
      ]
    },
    {
      "cell_type": "code",
      "execution_count": null,
      "metadata": {
        "colab": {
          "base_uri": "https://localhost:8080/"
        },
        "id": "JwdOrJ_JMC4W",
        "outputId": "6d9289c7-70ef-4a47-eb62-6509318e1073"
      },
      "outputs": [
        {
          "output_type": "stream",
          "name": "stdout",
          "text": [
            "Colab only includes TensorFlow 2.x; %tensorflow_version has no effect.\n"
          ]
        }
      ],
      "source": [
        "try: #If running in colab \n",
        "    import google.colab\n",
        "    IN_COLAB = True \n",
        "    %tensorflow_version 2.x\n",
        "except:\n",
        "    IN_COLAB = False"
      ]
    },
    {
      "cell_type": "code",
      "execution_count": null,
      "metadata": {
        "colab": {
          "base_uri": "https://localhost:8080/"
        },
        "id": "KdtMWyE3fYI3",
        "outputId": "978b1dd4-0143-48aa-fbde-b0aabb37698d"
      },
      "outputs": [
        {
          "output_type": "stream",
          "name": "stdout",
          "text": [
            "Tensorflow version:  2.9.2  running in colab?:  True\n"
          ]
        }
      ],
      "source": [
        "import tensorflow as tf\n",
        "if (not tf.__version__.startswith('2')): #Checking if tf 2.0 is installed\n",
        "    print('Please install tensorflow 2.0 to run this notebook')\n",
        "print('Tensorflow version: ',tf.__version__, ' running in colab?: ', IN_COLAB)"
      ]
    },
    {
      "cell_type": "code",
      "execution_count": null,
      "metadata": {
        "id": "BLerHJCHFWMy"
      },
      "outputs": [],
      "source": [
        "# I commented this out because I think there are too many outdated dependencies\n",
        "\n",
        "# if IN_COLAB:\n",
        "#     !pip install tensorflow_probability==0.8.0"
      ]
    },
    {
      "cell_type": "markdown",
      "metadata": {
        "id": "rE8KfEvxFxq9"
      },
      "source": [
        "#### Imports"
      ]
    },
    {
      "cell_type": "code",
      "execution_count": null,
      "metadata": {
        "colab": {
          "base_uri": "https://localhost:8080/"
        },
        "id": "ESl26w7xML1z",
        "outputId": "974f24ec-a169-4127-b715-b738d2464217"
      },
      "outputs": [
        {
          "output_type": "stream",
          "name": "stdout",
          "text": [
            "TFP Version 0.17.0\n",
            "TF  Version 2.9.2\n"
          ]
        }
      ],
      "source": [
        "import matplotlib.pyplot as plt\n",
        "import numpy as np\n",
        "import pandas as pd\n",
        "from tqdm import tqdm_notebook as tqdm\n",
        "import urllib.request\n",
        "from sklearn.model_selection import train_test_split\n",
        "\n",
        "#I added this below from StackOverflow to see if it wouldsolve import issues\n",
        "#https://stackoverflow.com/questions/62743492/cannot-import-tensorflow-probability\n",
        "# !pip install --upgrade tf_agents\n",
        "\n",
        "import tensorflow_probability as tfp\n",
        "\n",
        "%matplotlib inline\n",
        "plt.style.use('default')\n",
        "\n",
        "print(\"TFP Version\", tfp.__version__)\n",
        "print(\"TF  Version\",tf.__version__)\n",
        "\n",
        "## Adding Test time Augmentation TTA\n",
        "import keras\n",
        "from keras.preprocessing.image import ImageDataGenerator\n",
        "from keras.utils import to_categorical"
      ]
    },
    {
      "cell_type": "markdown",
      "metadata": {
        "id": "BmemfmRxF0pt"
      },
      "source": [
        "In the next cell you disable the tensorflow eager mode. We need to do this because otherwise we would get errors for the variational inference NN and we  would not be able to turn on and off the dropout in the MC dropout NN."
      ]
    },
    {
      "cell_type": "code",
      "execution_count": null,
      "metadata": {
        "id": "XHzeQBbhcV3W"
      },
      "outputs": [],
      "source": [
        "from tensorflow.python.framework.ops import disable_eager_execution\n",
        "disable_eager_execution()"
      ]
    },
    {
      "cell_type": "markdown",
      "metadata": {
        "id": "APxoLqsjkM31"
      },
      "source": [
        "#### Loading and preparation of the dataset\n",
        "\n",
        "Let's load the cifar 10 dataset. It is already splited into a train and test dataset. To get a feeling for the dataset, you plot a random example of each class of the trainingset. You can see that the images are quite small and its not always easy to see the class on the image."
      ]
    },
    {
      "cell_type": "code",
      "execution_count": null,
      "metadata": {
        "id": "RHnWbEuDMzKv"
      },
      "outputs": [],
      "source": [
        "(x_train, y_train), (x_test, y_test) = tf.keras.datasets.cifar10.load_data()"
      ]
    },
    {
      "cell_type": "code",
      "execution_count": null,
      "metadata": {
        "colab": {
          "base_uri": "https://localhost:8080/",
          "height": 188
        },
        "id": "bAqFwLxMPHQU",
        "outputId": "8e0e0902-0e89-4d4b-cd65-349ca058ba57"
      },
      "outputs": [
        {
          "output_type": "stream",
          "name": "stderr",
          "text": [
            "<ipython-input-12-012e5f5aa791>:10: DeprecationWarning: `np.str` is a deprecated alias for the builtin `str`. To silence this warning, use `str` by itself. Doing this will not modify any behavior and is safe. If you specifically wanted the numpy scalar type, use `np.str_` here.\n",
            "Deprecated in NumPy 1.20; for more details and guidance: https://numpy.org/devdocs/release/1.20.0-notes.html#deprecations\n",
            "  plt.title(np.str(y_train[rmd][0][0])+ \": \" +labels[i],fontsize=16)\n"
          ]
        },
        {
          "output_type": "display_data",
          "data": {
            "text/plain": [
              "<Figure size 2000x2000 with 10 Axes>"
            ],
            "image/png": "[encoded data removed]"
          },
          "metadata": {}
        }
      ],
      "source": [
        "labels=np.array([\"airplane\",\"automobile\",\"bird\",\"cat\",\"deer\",\"dog\",\"frog\",\"horse\",\"ship\",\"truck\"])\n",
        "#sample image of each label\n",
        "np.random.seed(22)\n",
        "plt.figure(figsize=(20,20))\n",
        "for i in range(0,len(np.unique(y_train))):\n",
        "    rmd=np.random.choice(np.where(y_train==i)[0],1)\n",
        "    plt.subplot(1,10,i+1)\n",
        "    img=x_train[rmd]\n",
        "    plt.imshow(img[0,:,:,:])\n",
        "    plt.title(np.str(y_train[rmd][0][0])+ \": \" +labels[i],fontsize=16)\n",
        "plt.savefig(\"Figure_8_cifar.pdf\")\n",
        "#from google.colab import files\n",
        "#files.download('Figure_8_cifar.pdf') \n"
      ]
    },
    {
      "cell_type": "markdown",
      "metadata": {
        "id": "MQZdM-PHG2x2"
      },
      "source": [
        "To simualte a novel class, you will delete all images of the class \"horse\" from the traning dataset. Note that you do this only in the trainset, the test dataset stays the same. In the train dataset you will now have 9 classes with 5'000 images of every class, in total 45'000 images. This will be your traning dataset for the three models.   "
      ]
    },
    {
      "cell_type": "code",
      "execution_count": null,
      "metadata": {
        "colab": {
          "base_uri": "https://localhost:8080/"
        },
        "id": "Go4tZ3Xwf8Wc",
        "outputId": "a814c288-1077-4965-d021-5f3b8de761f6"
      },
      "outputs": [
        {
          "output_type": "stream",
          "name": "stdout",
          "text": [
            "(45000,)\n",
            "(45000, 32, 32, 3)\n",
            "(45000, 9)\n"
          ]
        }
      ],
      "source": [
        "y_train_no_horse=np.delete(y_train,np.where(y_train==7)[0])\n",
        "x_train_no_horse=np.delete(x_train,np.where(y_train==7)[0],axis=0)\n",
        "print(y_train_no_horse.shape)\n",
        "print(x_train_no_horse.shape)\n",
        "y_train_no_horse=np.array(pd.get_dummies(y_train_no_horse))\n",
        "labels_no_horse=np.array([\"airplane\",\"automobile\",\"bird\",\"cat\",\"deer\",\"dog\",\"frog\",\"ship\",\"truck\"])\n",
        "print(y_train_no_horse.shape)"
      ]
    },
    {
      "cell_type": "markdown",
      "metadata": {
        "id": "ymY2h4GzLrQe"
      },
      "source": [
        "Now you split the new training dataset without the horses randomly into a train and validationset. You use a 60:40 ratio for the split, so you have 27'000 train images with 9 classes and 18'000 validation images with 9 classes. The test dataset has 10'000 images and 10 classes. Note that we have a novel (unknown) class \"horse\" in the testset."
      ]
    },
    {
      "cell_type": "code",
      "execution_count": null,
      "metadata": {
        "colab": {
          "base_uri": "https://localhost:8080/"
        },
        "id": "pfTBvgg8SkiZ",
        "outputId": "18e24c90-ca39-4838-b13a-115febfe40bf"
      },
      "outputs": [
        {
          "output_type": "stream",
          "name": "stdout",
          "text": [
            "(27000, 32, 32, 3)\n",
            "(27000, 9)\n",
            "(18000, 32, 32, 3)\n",
            "(18000, 9)\n",
            "(10000, 32, 32, 3)\n",
            "(10000, 1)\n"
          ]
        },
        {
          "output_type": "execute_result",
          "data": {
            "text/plain": [
              "(-1.0, 1.0)"
            ]
          },
          "metadata": {},
          "execution_count": 14
        }
      ],
      "source": [
        "from sklearn.model_selection import train_test_split\n",
        "x_train, x_val, y_train, y_val = train_test_split(x_train_no_horse, y_train_no_horse, test_size=0.4, random_state=22)\n",
        "print(x_train.shape)\n",
        "print(y_train.shape)\n",
        "print(x_val.shape)\n",
        "print(y_val.shape)\n",
        "print(x_test.shape)\n",
        "print(y_test.shape)\n",
        "\n",
        "#Before training the NNs with the data, we normalize the data to be in the range between -1 and 1. \n",
        "x_train=((x_train/255)-0.5)*2\n",
        "x_val=((x_val/255)-0.5)*2\n",
        "x_test=((x_test/255)-0.5)*2\n",
        "\n",
        "x_test.min(), x_test.max()"
      ]
    },
    {
      "cell_type": "code",
      "source": [
        "#Experiment to bring it back to 0 and 255\n",
        "x_test_exp=((x_test/2)+0.5)*255\n",
        "x_test_exp.min(), x_test_exp.max()\n",
        "\n",
        "# Experiment with experument to bring it to 0 and 1.\n",
        "def revertscale_fn(img):\n",
        "    img = img.astype(np.float32) / 2\n",
        "    img = (img + 0.5) * 255\n",
        "    return img\n",
        "# gen = ImageDataGenerator(\n",
        "#     preprocessing_function=revertscale_fn,\n",
        "#     rescale = 1./255,\n",
        "# )"
      ],
      "metadata": {
        "id": "uLC0VoMWr0el"
      },
      "execution_count": null,
      "outputs": []
    },
    {
      "cell_type": "markdown",
      "metadata": {
        "id": "dVA0YHjvYlB_"
      },
      "source": [
        "## Non-Bayesian CNN\n",
        "\n",
        "In this section we use a CNN with two convolutional blocks, followed by maxpooling layers. You use 8 kernels with the size 3x3 in the first convolutional block and in the second block you use 16 kernels with the size 3x3. The maxpoolingsize is 2x2 pixels. After the feature extraction you use a flatten layer and do the classification with 3 fully connected layers. Because the training takes a lot of time, you will load an already trained CNN with the learning curve."
      ]
    },
    {
      "cell_type": "code",
      "execution_count": null,
      "metadata": {
        "colab": {
          "base_uri": "https://localhost:8080/"
        },
        "id": "XLOW7UPyYkKw",
        "outputId": "bde6c121-589f-49e6-9f71-14cb56acad6a"
      },
      "outputs": [
        {
          "output_type": "stream",
          "name": "stdout",
          "text": [
            "Model: \"sequential\"\n",
            "_________________________________________________________________\n",
            " Layer (type)                Output Shape              Param #   \n",
            "=================================================================\n",
            " conv2d (Conv2D)             (None, 32, 32, 8)         224       \n",
            "                                                                 \n",
            " conv2d_1 (Conv2D)           (None, 32, 32, 8)         584       \n",
            "                                                                 \n",
            " max_pooling2d (MaxPooling2D  (None, 16, 16, 8)        0         \n",
            " )                                                               \n",
            "                                                                 \n",
            " conv2d_2 (Conv2D)           (None, 16, 16, 16)        1168      \n",
            "                                                                 \n",
            " conv2d_3 (Conv2D)           (None, 16, 16, 16)        2320      \n",
            "                                                                 \n",
            " max_pooling2d_1 (MaxPooling  (None, 8, 8, 16)         0         \n",
            " 2D)                                                             \n",
            "                                                                 \n",
            " flatten (Flatten)           (None, 1024)              0         \n",
            "                                                                 \n",
            " dense (Dense)               (None, 100)               102500    \n",
            "                                                                 \n",
            " dropout (Dropout)           (None, 100)               0         \n",
            "                                                                 \n",
            " dense_1 (Dense)             (None, 100)               10100     \n",
            "                                                                 \n",
            " dropout_1 (Dropout)         (None, 100)               0         \n",
            "                                                                 \n",
            " dense_2 (Dense)             (None, 9)                 909       \n",
            "                                                                 \n",
            "=================================================================\n",
            "Total params: 117,805\n",
            "Trainable params: 117,805\n",
            "Non-trainable params: 0\n",
            "_________________________________________________________________\n"
          ]
        }
      ],
      "source": [
        "from tensorflow.keras.layers import Convolution2D,MaxPooling2D,Dropout,Flatten,Dense\n",
        "from tensorflow.keras import Sequential\n",
        "\n",
        "model = Sequential()\n",
        "model.add(Convolution2D(8,kernel_size=(3,3),padding=\"same\", activation = 'relu',input_shape=(32,32,3)))\n",
        "model.add(Convolution2D(8,kernel_size=(3,3),padding=\"same\", activation = 'relu'))\n",
        "model.add(MaxPooling2D((2,2)))\n",
        "model.add(Convolution2D(16,kernel_size=(3,3),padding=\"same\", activation = 'relu'))\n",
        "model.add(Convolution2D(16,kernel_size=(3,3),padding=\"same\", activation = 'relu'))\n",
        "model.add(MaxPooling2D((2,2)))\n",
        "model.add(Flatten())\n",
        "model.add(Dense(100, activation = 'relu'))\n",
        "model.add(Dropout((0.5)))\n",
        "model.add(Dense(100, activation = 'relu'))\n",
        "model.add(Dropout((0.5)))\n",
        "model.add(Dense(9, activation = 'softmax'))\n",
        "\n",
        "model.compile(loss='categorical_crossentropy', optimizer=\"adam\", metrics=['accuracy'])\n",
        "\n",
        "model.summary()"
      ]
    },
    {
      "cell_type": "code",
      "execution_count": null,
      "metadata": {
        "colab": {
          "base_uri": "https://localhost:8080/",
          "height": 390
        },
        "id": "PMB1B7hjYkFg",
        "outputId": "a0dac70a-976b-4687-9e94-5e00c3e37c0c"
      },
      "outputs": [
        {
          "output_type": "display_data",
          "data": {
            "text/plain": [
              "<Figure size 1200x500 with 2 Axes>"
            ],
            "image/png": "[encoded data removed]"
          },
          "metadata": {}
        }
      ],
      "source": [
        "urllib.request.urlretrieve(\"https://raw.githubusercontent.com/tensorchiefs/dl_book/master/data/history_baseline_cifar10.csv\", \"history_baseline_cifar10.csv\")\n",
        "history=np.loadtxt(\"history_baseline_cifar10.csv\",delimiter=\",\")\n",
        "\n",
        "plt.figure(figsize=(12,5))\n",
        "plt.subplot(1,2,1)\n",
        "plt.plot(history[:,0])\n",
        "plt.plot(history[:,1])\n",
        "plt.ylim(0, 1)\n",
        "plt.title('model accuracy')\n",
        "plt.ylabel('accuracy')\n",
        "plt.xlabel('epoch')\n",
        "plt.legend(['train', 'valid'], loc='lower right')\n",
        "plt.subplot(1,2,2)\n",
        "plt.plot(history[:,2])\n",
        "plt.plot(history[:,3])\n",
        "plt.title('model loss')\n",
        "plt.ylabel('loss')\n",
        "plt.xlabel('epoch')\n",
        "plt.legend(['train', 'valid'], loc='upper right')\n",
        "plt.show()"
      ]
    },
    {
      "cell_type": "code",
      "execution_count": null,
      "metadata": {
        "id": "sqwqWP8R4_6Y"
      },
      "outputs": [],
      "source": [
        "# load trained weights of the model\n",
        "urllib.request.urlretrieve(\"https://raw.githubusercontent.com/tensorchiefs/dl_book/master/data/model_cifar10_weights.hdf5\", \"model_cifar10_weights.hdf5\")\n",
        "model.load_weights(\"model_cifar10_weights.hdf5\")"
      ]
    },
    {
      "cell_type": "markdown",
      "metadata": {
        "id": "IUxjKqbKPk07"
      },
      "source": [
        "## Variational Inference\n",
        "\n",
        "Now we will train a bayesian neural network via variational inference. We again use a CNN with two convolutional blocks, followed by maxpooling layers. The setting is the same as above.\n",
        "\n",
        "Note that every weight in the network is now sampled from a normal distribution. The normal distribution has two paramters and therefore we have almost doubled our paramters (we don't use a distribution for bias terms) in the network.  Because the training takes a lot of time, you will load an already trained CNN with the learning curve."
      ]
    },
    {
      "cell_type": "code",
      "execution_count": null,
      "metadata": {
        "colab": {
          "base_uri": "https://localhost:8080/"
        },
        "id": "W8AlHlwoPhDS",
        "outputId": "586be9d1-7e81-4b7f-aeff-e81e8193989f"
      },
      "outputs": [
        {
          "output_type": "stream",
          "name": "stdout",
          "text": [
            "\n"
          ]
        }
      ],
      "source": [
        "if just_TTA:\n",
        "  print(\"\")  \n",
        "else:\n",
        "    kernel_divergence_fn=lambda q, p, _: tfp.distributions.kl_divergence(q, p) / (x_train.shape[0] *1.0)\n",
        "\n",
        "    model_vi = Sequential()\n",
        "    model_vi.add(tfp.layers.Convolution2DFlipout(8,kernel_size=(3,3),padding=\"same\", activation = 'relu', kernel_divergence_fn=kernel_divergence_fn,input_shape=(32,32,3)))\n",
        "    model_vi.add(tfp.layers.Convolution2DFlipout(8,kernel_size=(3,3),padding=\"same\", activation = 'relu', kernel_divergence_fn=kernel_divergence_fn))\n",
        "    model_vi.add(tf.keras.layers.MaxPooling2D((2,2)))\n",
        "    model_vi.add(tfp.layers.Convolution2DFlipout(16,kernel_size=(3,3),padding=\"same\", activation = 'relu', kernel_divergence_fn=kernel_divergence_fn))\n",
        "    model_vi.add(tfp.layers.Convolution2DFlipout(16,kernel_size=(3,3),padding=\"same\", activation = 'relu', kernel_divergence_fn=kernel_divergence_fn))\n",
        "    model_vi.add(tf.keras.layers.MaxPooling2D((2,2)))\n",
        "    model_vi.add(tf.keras.layers.Flatten())\n",
        "    model_vi.add(tfp.layers.DenseFlipout(100, activation = 'relu', kernel_divergence_fn=kernel_divergence_fn))\n",
        "    model_vi.add(tfp.layers.DenseFlipout(100, activation = 'relu', kernel_divergence_fn=kernel_divergence_fn))\n",
        "    model_vi.add(tfp.layers.DenseFlipout(9, activation = 'softmax', kernel_divergence_fn=kernel_divergence_fn))\n",
        "\n",
        "    model_vi.compile(loss='categorical_crossentropy', optimizer=\"adam\", metrics=['accuracy'])\n",
        "    model_vi.summary()"
      ]
    },
    {
      "cell_type": "markdown",
      "metadata": {
        "id": "WdPiCuNkD6rO"
      },
      "source": [
        "In the next cell you can see that you get a different prediction for the same image, when you predict it multilple times. Everytime you sample each weight with the corresponding parameters and the prediction changes a bit. "
      ]
    },
    {
      "cell_type": "code",
      "execution_count": null,
      "metadata": {
        "colab": {
          "base_uri": "https://localhost:8080/"
        },
        "id": "YY5ZlcUHRBpC",
        "outputId": "544ceccc-d8ca-41d1-bde1-c3768533d416"
      },
      "outputs": [
        {
          "output_type": "stream",
          "name": "stdout",
          "text": [
            "\n"
          ]
        }
      ],
      "source": [
        "if just_TTA:\n",
        "  print(\"\")  \n",
        "else:\n",
        "  for i in range(0,5):\n",
        "    print(model_vi.predict(x_train[0:1])[0])"
      ]
    },
    {
      "cell_type": "code",
      "execution_count": null,
      "metadata": {
        "id": "_PEf2fCj3cwk"
      },
      "outputs": [],
      "source": [
        "# Training\n",
        "# Note that we trained longer for the VI methods, than for the MC Bayes\n",
        "# from  tensorflow.keras.callbacks import ModelCheckpoint\n",
        "# fp = \"vi_128_lrdefault_weights.{epoch:02d}-{val_loss:.2f}.hdf5\"\n",
        "# cb = ModelCheckpoint(filepath=fp, monitor='val_loss', verbose=0, save_best_only=False, save_weights_only=False, mode='auto', period=50)\n",
        "# history=model_vi.fit(x_train, y_train,validation_data=(x_val,y_val), batch_size=128,epochs=700,verbose=1, callbacks=[cb])\n",
        "# model_vi.save_weights('vi_128_lrdefault.hdf5')\n",
        "# import pickle\n",
        "# with open('model_vi_bs_128_lrdefault_hist.pickle', 'wb') as file_pi:\n",
        "#         pickle.dump(history.history, file_pi)"
      ]
    },
    {
      "cell_type": "code",
      "execution_count": null,
      "metadata": {
        "id": "VOS0j5lMFWM9",
        "colab": {
          "base_uri": "https://localhost:8080/"
        },
        "outputId": "b9e75c18-447e-40ab-dc43-710128ff97d1"
      },
      "outputs": [
        {
          "output_type": "stream",
          "name": "stdout",
          "text": [
            "\n"
          ]
        }
      ],
      "source": [
        "# download and load weights of the model\n",
        "if just_TTA:\n",
        "  print(\"\")  \n",
        "else:\n",
        "  urllib.request.urlretrieve(\"https://raw.githubusercontent.com/tensorchiefs/dl_book/master/data/vi_128_lrdefault.hdf5\", \"vi_128_lrdefault.hdf5\")\n",
        "  model_vi.load_weights(\"vi_128_lrdefault.hdf5\")\n",
        "\n",
        "  # download the history\n",
        "  import pickle\n",
        "  urllib.request.urlretrieve(\"https://raw.githubusercontent.com/tensorchiefs/dl_book/master/data/model_vi_bs_128_lrdefault_hist.pickle\", \"model_vi_bs_128_lrdefault_hist.pickle\")\n",
        "  with open('model_vi_bs_128_lrdefault_hist.pickle', 'rb') as f:\n",
        "      history = pickle.load(f)"
      ]
    },
    {
      "cell_type": "code",
      "execution_count": null,
      "metadata": {
        "colab": {
          "base_uri": "https://localhost:8080/"
        },
        "id": "3-lrwTU13CmW",
        "outputId": "11b0da14-86ac-4471-bd3d-fc83caad62ff"
      },
      "outputs": [
        {
          "output_type": "stream",
          "name": "stdout",
          "text": [
            "\n"
          ]
        }
      ],
      "source": [
        "if just_TTA:\n",
        "  print(\"\")  \n",
        "else:\n",
        "  plt.figure(figsize=(12,5))\n",
        "  plt.subplot(1,2,1)\n",
        "  #plt.plot(history[:,0])\n",
        "  plt.plot(history['accuracy'])\n",
        "  plt.plot(history['val_accuracy'])\n",
        "  plt.ylim(0, 1)\n",
        "  plt.title('model accuracy')\n",
        "  plt.ylabel('accuracy')\n",
        "  plt.xlabel('epoch')\n",
        "  plt.legend(['train', 'valid'], loc='lower right')\n",
        "  plt.subplot(1,2,2)\n",
        "  # plt.plot(history[:,2])\n",
        "  # plt.plot(history[:,3])\n",
        "  plt.plot(history['loss'])\n",
        "  plt.plot(history['val_loss'])\n",
        "  plt.title('model loss')\n",
        "  plt.ylabel('loss')\n",
        "  plt.xlabel('epoch')\n",
        "  plt.legend(['train', 'valid'], loc='upper right')\n",
        "  plt.savefig('lr.pdf')"
      ]
    },
    {
      "cell_type": "markdown",
      "metadata": {
        "id": "IXtF3hD4fGaB"
      },
      "source": [
        "## MC Dropout\n",
        "\n",
        "Now we will train a bayesian neural network via dropout. We again use a CNN with two convolutional blocks, followed by maxpooling layers. You use 8 kernels with the size 3x3 in the first convolutional block and in the second block you use 16 kernels with the size 3x3. The maxpoolingsize is 2x2 pixels. After the feature extraction you use a flatten layer and do the classification with 3 fully connected layers. \n",
        "\n",
        "The number of weights is the same as in the original network. \n",
        "\n",
        "Note that we added dropout before every layer now, also in the convolutional part.  Because the training takes a lot of time, you will load an already trained CNN with the learning curve."
      ]
    },
    {
      "cell_type": "code",
      "execution_count": null,
      "metadata": {
        "colab": {
          "base_uri": "https://localhost:8080/"
        },
        "id": "7mKre5K4eC_F",
        "outputId": "6bc2024e-9782-4f09-b32d-a00d646d009a"
      },
      "outputs": [
        {
          "output_type": "stream",
          "name": "stdout",
          "text": [
            "\n"
          ]
        }
      ],
      "source": [
        "if just_TTA:\n",
        "  print(\"\")  \n",
        "else:\n",
        "  model_mc = Sequential()\n",
        "  model_mc.add(Convolution2D(8,kernel_size=(3,3),padding=\"same\", activation = 'relu',input_shape=(32,32,3)))\n",
        "  model_mc.add(Dropout((0.3)))\n",
        "  model_mc.add(Convolution2D(8,kernel_size=(3,3),padding=\"same\", activation = 'relu'))\n",
        "  model_mc.add(Dropout((0.3)))\n",
        "  model_mc.add(MaxPooling2D((2,2)))\n",
        "  model_mc.add(Convolution2D(16,kernel_size=(3,3),padding=\"same\", activation = 'relu'))\n",
        "  model_mc.add(Dropout((0.3)))\n",
        "  model_mc.add(Convolution2D(16,kernel_size=(3,3),padding=\"same\", activation = 'relu'))\n",
        "  model_mc.add(Dropout((0.3)))\n",
        "  model_mc.add(MaxPooling2D((2,2)))\n",
        "  model_mc.add(Flatten())\n",
        "  model_mc.add(Dense(100, activation = 'relu'))\n",
        "  model_mc.add(Dropout((0.3)))\n",
        "  model_mc.add(Dense(100, activation = 'relu'))\n",
        "  model_mc.add(Dropout((0.3)))\n",
        "  model_mc.add(Dense(9, activation = 'softmax'))\n",
        "\n",
        "  model_mc.compile(loss='categorical_crossentropy', optimizer=\"adam\", metrics=['accuracy'])\n",
        "\n",
        "  model_mc.summary()"
      ]
    },
    {
      "cell_type": "markdown",
      "metadata": {
        "id": "EcKNxXNRFcJE"
      },
      "source": [
        "In the next few cells you define a funtion model_mc_pred, that gives the option to turn the dropout at test time on and off. If you set the learning_phase to 0 you turn the dropout at test time off and if you set it to 1, it on. When it is on, you get a different prediction for the same image in each run. This is because in each run different nodes are randomly deleted. To use it as a bayesian neural network we need to turn the dropout on also at test time.  "
      ]
    },
    {
      "cell_type": "markdown",
      "metadata": {
        "id": "9jMrcIBXFWM_"
      },
      "source": [
        "#### Listing 8.5 Getting mc dropout predictions"
      ]
    },
    {
      "cell_type": "code",
      "execution_count": null,
      "metadata": {
        "id": "K-_XAtOBdBqi",
        "colab": {
          "base_uri": "https://localhost:8080/"
        },
        "outputId": "00ebab8c-8f74-4209-b299-da57af82cce4"
      },
      "outputs": [
        {
          "output_type": "stream",
          "name": "stdout",
          "text": [
            "\n"
          ]
        }
      ],
      "source": [
        "if just_TTA:\n",
        "  print(\"\")  \n",
        "else:\n",
        "  import tensorflow.keras.backend as K\n",
        "  model_mc_pred = K.function([model_mc.input, K.learning_phase()], [model_mc.output])"
      ]
    },
    {
      "cell_type": "code",
      "execution_count": null,
      "metadata": {
        "colab": {
          "base_uri": "https://localhost:8080/"
        },
        "id": "q_Qh_m3rde4B",
        "outputId": "a8890844-cdee-43dd-f36b-90235645edba"
      },
      "outputs": [
        {
          "output_type": "stream",
          "name": "stdout",
          "text": [
            "\n"
          ]
        }
      ],
      "source": [
        "#no dropout at test time\n",
        "if just_TTA:\n",
        "  print(\"\")  \n",
        "else:\n",
        "\n",
        "\n",
        "  for i in range(0,5):\n",
        "    print(model_mc_pred([x_train[0:1],0])[0])"
      ]
    },
    {
      "cell_type": "code",
      "execution_count": null,
      "metadata": {
        "colab": {
          "base_uri": "https://localhost:8080/"
        },
        "id": "KxVGW_knowVu",
        "outputId": "542746aa-76eb-4806-b931-fd6920c9cd04"
      },
      "outputs": [
        {
          "output_type": "stream",
          "name": "stdout",
          "text": [
            "\n"
          ]
        }
      ],
      "source": [
        "#dropout at test time\n",
        "if just_TTA:\n",
        "  print(\"\")  \n",
        "else:\n",
        "  for i in range(0,5):\n",
        "    print(model_mc_pred([x_train[0:1],1])[0])"
      ]
    },
    {
      "cell_type": "code",
      "execution_count": null,
      "metadata": {
        "id": "Ch45yZrnfP0_"
      },
      "outputs": [],
      "source": [
        "#history=model_mc.fit(x_train, y_train,validation_data=(x_val,y_val), batch_size=128,epochs=400,verbose=1)"
      ]
    },
    {
      "cell_type": "code",
      "execution_count": null,
      "metadata": {
        "colab": {
          "base_uri": "https://localhost:8080/"
        },
        "id": "GYxRKILJBpOB",
        "outputId": "32dafc16-708b-47a9-8893-a5f2f463ad87"
      },
      "outputs": [
        {
          "output_type": "stream",
          "name": "stdout",
          "text": [
            "\n"
          ]
        }
      ],
      "source": [
        "if just_TTA:\n",
        "  print(\"\")  \n",
        "else:\n",
        "  urllib.request.urlretrieve(\"https://raw.githubusercontent.com/tensorchiefs/dl_book/master/data/history_mc_cifar10.csv\", \"history_mc_cifar10.csv\")\n",
        "  history=np.loadtxt(\"history_mc_cifar10.csv\",delimiter=\",\")\n",
        "  plt.figure(figsize=(12,5))\n",
        "  plt.subplot(1,2,1)\n",
        "  plt.plot(history[:,0])\n",
        "  plt.plot(history[:,1])\n",
        "  plt.ylim(0, 1)\n",
        "  plt.title('model accuracy')\n",
        "  plt.ylabel('accuracy')\n",
        "  plt.xlabel('epoch')\n",
        "  plt.legend(['train', 'valid'], loc='lower right')\n",
        "  plt.subplot(1,2,2)\n",
        "  plt.plot(history[:,2])\n",
        "  plt.plot(history[:,3])\n",
        "  plt.title('model loss')\n",
        "  plt.ylabel('loss')\n",
        "  plt.xlabel('epoch')\n",
        "  plt.legend(['train', 'valid'], loc='upper right')\n",
        "  plt.show()"
      ]
    },
    {
      "cell_type": "code",
      "execution_count": null,
      "metadata": {
        "id": "SmcDnvZl9ivH",
        "colab": {
          "base_uri": "https://localhost:8080/"
        },
        "outputId": "f1b85d5b-c626-4ecd-c3bb-6a77c8e00af4"
      },
      "outputs": [
        {
          "output_type": "stream",
          "name": "stdout",
          "text": [
            "\n"
          ]
        }
      ],
      "source": [
        "if just_TTA:\n",
        "  print(\"\")  \n",
        "else:\n",
        "  # download and load weights of the model\n",
        "  urllib.request.urlretrieve(\"https://raw.githubusercontent.com/tensorchiefs/dl_book/master/data/model_mc_cifar10_weights.hdf5\", \"model_mc_cifar10_weights.hdf5\")\n",
        "  model_mc.load_weights(\"model_mc_cifar10_weights.hdf5\")"
      ]
    },
    {
      "cell_type": "markdown",
      "metadata": {
        "id": "WBqfSpLWhNNH"
      },
      "source": [
        "## Accuracy on the the known labels in the train set for all three models \n",
        "In this section you will calculate the accuracies and of all three models. For the non bayesian NN, you will predict every test image once and for the two bayesian NN, you will predict every image 50 times and then takes the mean of all predicted classes. \n",
        "\n",
        "\n",
        "\n"
      ]
    },
    {
      "cell_type": "markdown",
      "metadata": {
        "id": "b9fsQMnMpRgz"
      },
      "source": [
        "Here you save the indices of the known and the unknown (horse) classes. You will use them later to evaluate the uncertainty measures."
      ]
    },
    {
      "cell_type": "code",
      "execution_count": null,
      "metadata": {
        "colab": {
          "base_uri": "https://localhost:8080/"
        },
        "id": "SvNbeGEtKcNb",
        "outputId": "fa3d2c33-dd29-457a-b6b4-a5b2457ffacb"
      },
      "outputs": [
        {
          "output_type": "stream",
          "name": "stdout",
          "text": [
            "9000\n",
            "1000\n"
          ]
        }
      ],
      "source": [
        "known_idx=np.where(y_test!=7)[0]\n",
        "unknown_idx=np.where(y_test==7)[0]\n",
        "\n",
        "print(len(known_idx))\n",
        "print(len(unknown_idx))"
      ]
    },
    {
      "cell_type": "markdown",
      "metadata": {
        "id": "8Ja_1L-xp-9u"
      },
      "source": [
        "#### Non-Bayesian prediction\n",
        "\n",
        "Here you predict the labels for the non-bayesian CNN and calculate the uncertainty measures. You calculate the nll and the entropy, note that there is no total standart deviation in the non-bayesian model, because the same image will always get the same prediction. This is also the reason why we don't need to predict the same image for multiple times."
      ]
    },
    {
      "cell_type": "code",
      "execution_count": null,
      "metadata": {
        "colab": {
          "base_uri": "https://localhost:8080/"
        },
        "id": "K-bOyOue0_hj",
        "outputId": "3b4b48de-47fb-4f05-b713-cca40f544c64"
      },
      "outputs": [
        {
          "output_type": "stream",
          "name": "stderr",
          "text": [
            "/usr/local/lib/python3.8/dist-packages/keras/engine/training_v1.py:2067: UserWarning: `Model.state_updates` will be removed in a future version. This property should not be used in TensorFlow 2.0, as `updates` are applied automatically.\n",
            "  updates=self.state_updates,\n"
          ]
        }
      ],
      "source": [
        "pred=model.predict(x_test)\n",
        "pred_max_p=np.max(pred,axis=1)\n",
        "entropy=np.array([-np.sum( pred[i] * np.log2(pred[i] + 1E-14)) for i in range(0,len(pred))])\n",
        "nll_=-np.log(pred_max_p)\n",
        "pred_labels=np.array([labels_no_horse[np.argmax(pred[i])] for i in range(0,len(pred))])\n",
        "true_labels=np.array([labels[y_test[i][0]] for i in range(0,len(y_test))])"
      ]
    },
    {
      "cell_type": "code",
      "execution_count": null,
      "metadata": {
        "colab": {
          "base_uri": "https://localhost:8080/"
        },
        "id": "R98YlXwe0_bS",
        "outputId": "421a868d-56a6-42b9-cc4a-69ce595de1a4"
      },
      "outputs": [
        {
          "output_type": "execute_result",
          "data": {
            "text/plain": [
              "(0.5845, 0.6494444444444445)"
            ]
          },
          "metadata": {},
          "execution_count": 33
        }
      ],
      "source": [
        "\n",
        "test_acc_all=np.average(true_labels==pred_labels)\n",
        "test_acc_known=np.average(true_labels[known_idx]==pred_labels[known_idx])\n",
        "test_acc_all, test_acc_known"
      ]
    },
    {
      "cell_type": "markdown",
      "source": [
        "#### 🆕 Test Time Augmentation\n",
        "\n",
        "Here I predict the labels for the traditional CNN with Test Time Augmentation and possibly calculate the uncertainty measures.  I predict the same image for 50 times and calculate the mean predicted probabilities, the nll, the entropy, and total standard deviations. "
      ],
      "metadata": {
        "id": "ErVsj1dAKSXs"
      }
    },
    {
      "cell_type": "code",
      "source": [
        "# My TTA was 0.09, which makes me think there is a disconnect between the types of format for x_train, x_val, or x_test being in the format specified here between -1 and 1 and the TTA notebook where it is simply between 0 and 1.\n",
        "# So my first step is to try to display the pictures\n",
        "train_datagen = ImageDataGenerator(\n",
        "        \n",
        "       preprocessing_function=revertscale_fn,   #yay that worked\n",
        "       rescale = 1./255,\n",
        "       shear_range=0.1,\n",
        "       zoom_range=0.1,\n",
        "       horizontal_flip=True,\n",
        "       rotation_range=10.,\n",
        "       fill_mode='reflect',\n",
        "       width_shift_range = 0.1, \n",
        "       height_shift_range = 0.1)\n",
        "\n",
        "train_datagen.fit(x_train)\n",
        "\n",
        "plt.figure(figsize=(10,5))\n",
        "\n",
        "for X_batch, y_batch in train_datagen.flow(x_train, y_train, batch_size=15):\n",
        "    for i in range(0, 15):\n",
        "        plt.subplot(3, 5, i+1)\n",
        "        plt.imshow(X_batch[i].reshape(32, 32, 3), cmap=plt.get_cmap('gray'))\n",
        "        plt.axis('off')\n",
        "    plt.tight_layout(pad=0.1)\n",
        "    plt.show()\n",
        "    break"
      ],
      "metadata": {
        "colab": {
          "base_uri": "https://localhost:8080/",
          "height": 442
        },
        "id": "X90Vqw4KYLfN",
        "outputId": "ef45be0e-1d45-4e62-cb10-88f0fd544383"
      },
      "execution_count": null,
      "outputs": [
        {
          "output_type": "display_data",
          "data": {
            "text/plain": [
              "<Figure size 1000x500 with 15 Axes>"
            ],
            "image/png": "[encoded data removed]"
          },
          "metadata": {}
        }
      ]
    },
    {
      "metadata": {
        "id": "_ICzIOrPQ6Lu"
      },
      "cell_type": "markdown",
      "source": [
        "Define the Test Time Image Generator\n",
        "\n",
        "Keras has predefined choices of [augmentations defined here](https://www.tensorflow.org/api_docs/python/tf/keras/preprocessing/image/ImageDataGenerator) and explained visually well [here](https://towardsdatascience.com/exploring-image-data-augmentation-with-keras-and-tensorflow-a8162d89b844) in a TowardsDataScience Medium Blog Post "
      ]
    },
    {
      "metadata": {
        "id": "9zJGPFtEQ6Lw"
      },
      "cell_type": "code",
      "source": [
        "tta_steps = 50\n",
        "bs = 64\n",
        "# epochs = 15"
      ],
      "execution_count": null,
      "outputs": []
    },
    {
      "cell_type": "markdown",
      "source": [
        "There are the original tried test_datagen that have resulted in the highest accuracy scores:\n",
        "\n",
        "        shear_range=0.1,\n",
        "        zoom_range=0.1,\n",
        "        horizontal_flip=True,\n",
        "        rotation_range=10.,\n",
        "        fill_mode='reflect', \n",
        "        width_shift_range = 0.1, \n",
        "        height_shift_range = 0.1)"
      ],
      "metadata": {
        "id": "QOEgxOVed9sE"
      }
    },
    {
      "metadata": {
        "id": "ZVU-2IQQQ6Lz"
      },
      "cell_type": "code",
      "source": [
        "test_datagen = ImageDataGenerator(\n",
        "        # preprocessing_function=revertscale_fn,   #hoping this will increase the overall accuracy of TTA from 0.448 to something more similar to the vanilla CNN without TTA - IT DID NOT\n",
        "        # rescale = 1./255,\n",
        "        shear_range=-1,\n",
        "        zoom_range=0.1,\n",
        "        horizontal_flip=True,\n",
        "        rotation_range=10.,\n",
        "        fill_mode='reflect' ,\n",
        "        width_shift_range = 0.1, \n",
        "        height_shift_range = 0.1,\n",
        "        )"
      ],
      "execution_count": null,
      "outputs": []
    },
    {
      "metadata": {
        "id": "-kgjEFe-Q6L3",
        "colab": {
          "base_uri": "https://localhost:8080/",
          "height": 101,
          "referenced_widgets": [
            "b3fb8602c5b14385965a7decdbfa4d97",
            "e066574e4aa645e4a96b101fabae6817",
            "1598bc05cc934b049c4d61c40ba5b044",
            "112c802e812542a9b0ba2dacf9c2839e",
            "77a4947772ed49318daf98ad7f1d32d7",
            "d8af1ba66a3244b0bab7a2e76d505f50",
            "40b4c3a9b884487bb71575045afcc348",
            "fafd1c6449ac4b919746f8b1bb0af0ad",
            "ab8aa228a85b4a4ca3b8beb6e7a681f1",
            "ab5d4b80979a42f5bfec01677bb9aabe",
            "5c7014354f35433cb63f4381fa35b2b5"
          ]
        },
        "outputId": "376080c9-bcc7-4f42-cfb8-95badb299381"
      },
      "cell_type": "code",
      "source": [
        "predictions_tta = []\n",
        "\n",
        "for i in tqdm(range(tta_steps)):\n",
        "    preds = model.predict(test_datagen.flow(x_test, batch_size=bs, shuffle=False), steps = len(x_test)/bs)   #Changed X_val to X_test \n",
        "    predictions_tta.append(preds)\n",
        " "
      ],
      "execution_count": null,
      "outputs": [
        {
          "output_type": "stream",
          "name": "stderr",
          "text": [
            "<ipython-input-37-3dcd13f70952>:3: TqdmDeprecationWarning: This function will be removed in tqdm==5.0.0\n",
            "Please use `tqdm.notebook.tqdm` instead of `tqdm.tqdm_notebook`\n",
            "  for i in tqdm(range(tta_steps)):\n"
          ]
        },
        {
          "output_type": "display_data",
          "data": {
            "text/plain": [
              "  0%|          | 0/50 [00:00<?, ?it/s]"
            ],
            "application/vnd.jupyter.widget-view+json": {
              "version_major": 2,
              "version_minor": 0,
              "model_id": "b3fb8602c5b14385965a7decdbfa4d97"
            }
          },
          "metadata": {}
        }
      ]
    },
    {
      "cell_type": "code",
      "source": [
        "# predictions_tta[0][0]   #the first guess of 10 for the 0th image, 1st prob guess is \"3\" followed by \"5\"\n",
        "# predictions_tta[9][0]   #the 9th   guess of 10 for the 0th image, 1st largest prob is \"3\" followed by \"5\"\n",
        "# y_test[0]               #the actual label of the 0th test image is \"3\" so it would have got this correct."
      ],
      "metadata": {
        "id": "MOMekun2vugU"
      },
      "execution_count": null,
      "outputs": []
    },
    {
      "metadata": {
        "id": "l61pZL8HQ6L7"
      },
      "cell_type": "code",
      "source": [
        "final_pred = np.mean(predictions_tta, axis=0)\n",
        "\n",
        "#final_pred[0] #This is the average guess for image 0, \"3\" followed by \"5\""
      ],
      "execution_count": null,
      "outputs": []
    },
    {
      "cell_type": "code",
      "source": [
        "# Size of things\n",
        "#final_pred         # An array of 10000x9 10000 images with 9 classes of probabilities\n",
        "#predictions_tta    # A list of 11 of  10000 images with 9 classes of probabilities"
      ],
      "metadata": {
        "id": "mqafCtBM5Awi"
      },
      "execution_count": null,
      "outputs": []
    },
    {
      "cell_type": "code",
      "source": [
        "# final_pred\n",
        "\n",
        "pred_tta=np.zeros((len(x_test),9))\n",
        "pred_max_p_tta=np.zeros((len(x_test)))\n",
        "pred_std_tta=np.zeros((len(x_test)))\n",
        "entropy_tta = np.zeros((len(x_test)))\n",
        "\n",
        "\n",
        "for i in tqdm(range(0,len(x_test))):\n",
        "  #multi_img=np.tile(x_test[i],(50,1,1,1))\n",
        "  #preds=model_mc_pred([multi_img,1])\n",
        "  pred_tta[i]= final_pred[i]\n",
        "  pred_max_p_tta[i]=np.argmax(final_pred[i]) #mean over n runs of every proba class\n",
        "  pred_std_tta[i]= np.sqrt(np.sum(np.var(final_pred[i])))\n",
        "  entropy_tta[i] = -np.sum( pred_tta[i] * np.log2(pred_tta[i] + 1E-14)) #Numerical Stability\n",
        "pred_labels_tta=np.array([labels_no_horse[np.argmax(pred_tta[i])] for i in range(0,len(pred_tta))])\n",
        "pred_tta_mean_max_p=np.array([pred_tta[i][np.argmax(pred_tta[i])] for i in range(0,len(pred_tta))])\n",
        "nll_tta=-np.log(pred_tta_mean_max_p)\n",
        "\n",
        "\n",
        "\n",
        "\n",
        "# Non-Bayesian copy/paste with final_pred, didn't work... \n",
        "# pred_max_p=np.max(final_pred,axis=1)\n",
        "# entropy_tta=np.array([-np.sum( final_pred[i] * np.log2(final_pred[i] + 1E-14)) for i in range(0,len(final_pred))])\n",
        "# nll_tta=-np.log(pred_max_p)\n",
        "# pred_labels_tta=np.array([labels_no_horse[np.argmax(final_pred[i])] for i in range(0,len(final_pred))])\n",
        "# true_labels=np.array([labels[y_test[i][0]] for i in range(0,len(y_test))])\n",
        "\n",
        "\n",
        "test_acc_all_tta=np.average(true_labels==pred_labels_tta)\n",
        "test_acc_known_tta=np.average(true_labels[known_idx]==pred_labels_tta[known_idx])\n",
        "test_acc_all_tta, test_acc_known_tta"
      ],
      "metadata": {
        "colab": {
          "base_uri": "https://localhost:8080/",
          "height": 118,
          "referenced_widgets": [
            "b580f90edf16482ab21dc86d5dc8a9c9",
            "633aa80d6dda4b2aad12d8fc06347aba",
            "f963474aa23542d0b423cadcf64cadc9",
            "8b2dc10c648448daa35e4da9ad57b90d",
            "341f3a63ba3847e39376429bab0f253b",
            "ba35aa11634f4b88b19ad07fd3d6a71f",
            "6ea48b70eb7547f09b68acef79672ab3",
            "5b235bf89e294148a382d1251655ea08",
            "2d111b94caca4171bc325a061d7d39a3",
            "c254f606295b4167acccf0ed65b338ec",
            "1b8ef61879eb4bb9aff86880e519fd57"
          ]
        },
        "id": "9gf4iPfa0djG",
        "outputId": "1bbfb550-47b8-4265-9064-5cf21ff7f33e"
      },
      "execution_count": null,
      "outputs": [
        {
          "output_type": "stream",
          "name": "stderr",
          "text": [
            "<ipython-input-41-7dede9fced65>:9: TqdmDeprecationWarning: This function will be removed in tqdm==5.0.0\n",
            "Please use `tqdm.notebook.tqdm` instead of `tqdm.tqdm_notebook`\n",
            "  for i in tqdm(range(0,len(x_test))):\n"
          ]
        },
        {
          "output_type": "display_data",
          "data": {
            "text/plain": [
              "  0%|          | 0/10000 [00:00<?, ?it/s]"
            ],
            "application/vnd.jupyter.widget-view+json": {
              "version_major": 2,
              "version_minor": 0,
              "model_id": "b580f90edf16482ab21dc86d5dc8a9c9"
            }
          },
          "metadata": {}
        },
        {
          "output_type": "execute_result",
          "data": {
            "text/plain": [
              "(0.619, 0.6877777777777778)"
            ]
          },
          "metadata": {},
          "execution_count": 41
        }
      ]
    },
    {
      "cell_type": "markdown",
      "source": [
        "### Summarize Results So Far"
      ],
      "metadata": {
        "id": "i75qhwTxvbo_"
      }
    },
    {
      "cell_type": "markdown",
      "source": [
        "### 🛑  Stop Colab at this point,  if only doing TTA experiments"
      ],
      "metadata": {
        "id": "YNpiOO1LigZ7"
      }
    },
    {
      "cell_type": "code",
      "source": [
        "while 1: \n",
        "  if just_TTA:\n",
        "    break  \n",
        "  else:\n",
        "    print(\"Continue\")"
      ],
      "metadata": {
        "id": "2wWfYywGihxL"
      },
      "execution_count": null,
      "outputs": []
    },
    {
      "cell_type": "markdown",
      "source": [
        "\n",
        "*   .\n",
        "*   .\n",
        "*   .\n",
        "*   .\n",
        "*   .\n",
        "*   .\n",
        "\n",
        "\n",
        "\n",
        "\n",
        "\n"
      ],
      "metadata": {
        "id": "Q-P9CLn_vJJF"
      }
    },
    {
      "cell_type": "markdown",
      "metadata": {
        "id": "W1Wir0--sHbu"
      },
      "source": [
        "#### Bayesian VI prediction\n",
        "\n",
        "Here you predict the labels for the bayesian CNN via variational inferce and calculate the uncertainty measures. You predict the same image for 50 times and calculate the mean predicted probabilities, the nll, the entropy and total standart deviation."
      ]
    },
    {
      "cell_type": "code",
      "execution_count": null,
      "metadata": {
        "colab": {
          "base_uri": "https://localhost:8080/",
          "referenced_widgets": [
            "12890eee436c4eaeb9b52d0d18c45ab4",
            "ce07eaeeabbe42dd876425c53efddcb4",
            "8f979a7d0a23488d86db221a7df39b1e",
            "d349d9c2138f4cd09fa3943b55013f71",
            "7a07ce169bad488fb5bd0a64baf25b14",
            "ae832b8940e64ced9564f4346c4e23d2",
            "637cf2e26ea1439a9db9803578cf0315",
            "8c095aa4573246eb8eb1f49ddfb46b61",
            "a0d8f352c1ba471d9240f31070cc3ad5",
            "946c974e545f4e9faa3feaa9de2404a3",
            "90536b0465e844ca959e2aca963742c1"
          ],
          "height": 319
        },
        "id": "M6TbLVK3lgNE",
        "outputId": "239bb84a-aca0-4919-ede2-2dfabad398bd"
      },
      "outputs": [
        {
          "output_type": "stream",
          "name": "stderr",
          "text": [
            "<ipython-input-39-6eebe37ab104>:6: TqdmDeprecationWarning: This function will be removed in tqdm==5.0.0\n",
            "Please use `tqdm.notebook.tqdm` instead of `tqdm.tqdm_notebook`\n",
            "  for i in tqdm(range(0,len(x_test))):\n"
          ]
        },
        {
          "output_type": "display_data",
          "data": {
            "text/plain": [
              "  0%|          | 0/10000 [00:00<?, ?it/s]"
            ],
            "application/vnd.jupyter.widget-view+json": {
              "version_major": 2,
              "version_minor": 0,
              "model_id": "12890eee436c4eaeb9b52d0d18c45ab4"
            }
          },
          "metadata": {}
        },
        {
          "output_type": "error",
          "ename": "NameError",
          "evalue": "ignored",
          "traceback": [
            "\u001b[0;31m---------------------------------------------------------------------------\u001b[0m",
            "\u001b[0;31mNameError\u001b[0m                                 Traceback (most recent call last)",
            "\u001b[0;32m<ipython-input-39-6eebe37ab104>\u001b[0m in \u001b[0;36m<module>\u001b[0;34m\u001b[0m\n\u001b[1;32m      6\u001b[0m \u001b[0;32mfor\u001b[0m \u001b[0mi\u001b[0m \u001b[0;32min\u001b[0m \u001b[0mtqdm\u001b[0m\u001b[0;34m(\u001b[0m\u001b[0mrange\u001b[0m\u001b[0;34m(\u001b[0m\u001b[0;36m0\u001b[0m\u001b[0;34m,\u001b[0m\u001b[0mlen\u001b[0m\u001b[0;34m(\u001b[0m\u001b[0mx_test\u001b[0m\u001b[0;34m)\u001b[0m\u001b[0;34m)\u001b[0m\u001b[0;34m)\u001b[0m\u001b[0;34m:\u001b[0m\u001b[0;34m\u001b[0m\u001b[0;34m\u001b[0m\u001b[0m\n\u001b[1;32m      7\u001b[0m   \u001b[0mmulti_img\u001b[0m\u001b[0;34m=\u001b[0m\u001b[0mnp\u001b[0m\u001b[0;34m.\u001b[0m\u001b[0mtile\u001b[0m\u001b[0;34m(\u001b[0m\u001b[0mx_test\u001b[0m\u001b[0;34m[\u001b[0m\u001b[0mi\u001b[0m\u001b[0;34m]\u001b[0m\u001b[0;34m,\u001b[0m\u001b[0;34m(\u001b[0m\u001b[0;36m50\u001b[0m\u001b[0;34m,\u001b[0m\u001b[0;36m1\u001b[0m\u001b[0;34m,\u001b[0m\u001b[0;36m1\u001b[0m\u001b[0;34m,\u001b[0m\u001b[0;36m1\u001b[0m\u001b[0;34m)\u001b[0m\u001b[0;34m)\u001b[0m\u001b[0;34m\u001b[0m\u001b[0;34m\u001b[0m\u001b[0m\n\u001b[0;32m----> 8\u001b[0;31m   \u001b[0mpreds\u001b[0m\u001b[0;34m=\u001b[0m\u001b[0mmodel_vi\u001b[0m\u001b[0;34m.\u001b[0m\u001b[0mpredict\u001b[0m\u001b[0;34m(\u001b[0m\u001b[0mmulti_img\u001b[0m\u001b[0;34m)\u001b[0m\u001b[0;34m\u001b[0m\u001b[0;34m\u001b[0m\u001b[0m\n\u001b[0m\u001b[1;32m      9\u001b[0m   \u001b[0mpred_vi\u001b[0m\u001b[0;34m[\u001b[0m\u001b[0mi\u001b[0m\u001b[0;34m]\u001b[0m\u001b[0;34m=\u001b[0m\u001b[0mnp\u001b[0m\u001b[0;34m.\u001b[0m\u001b[0mmean\u001b[0m\u001b[0;34m(\u001b[0m\u001b[0mpreds\u001b[0m\u001b[0;34m,\u001b[0m\u001b[0maxis\u001b[0m\u001b[0;34m=\u001b[0m\u001b[0;36m0\u001b[0m\u001b[0;34m)\u001b[0m\u001b[0;31m#mean over n runs of every proba class\u001b[0m\u001b[0;34m\u001b[0m\u001b[0;34m\u001b[0m\u001b[0m\n\u001b[1;32m     10\u001b[0m   \u001b[0mpred_max_p_vi\u001b[0m\u001b[0;34m[\u001b[0m\u001b[0mi\u001b[0m\u001b[0;34m]\u001b[0m\u001b[0;34m=\u001b[0m\u001b[0mnp\u001b[0m\u001b[0;34m.\u001b[0m\u001b[0margmax\u001b[0m\u001b[0;34m(\u001b[0m\u001b[0mnp\u001b[0m\u001b[0;34m.\u001b[0m\u001b[0mmean\u001b[0m\u001b[0;34m(\u001b[0m\u001b[0mpreds\u001b[0m\u001b[0;34m,\u001b[0m\u001b[0maxis\u001b[0m\u001b[0;34m=\u001b[0m\u001b[0;36m0\u001b[0m\u001b[0;34m)\u001b[0m\u001b[0;34m)\u001b[0m\u001b[0;31m#mean over n runs of every proba class\u001b[0m\u001b[0;34m\u001b[0m\u001b[0;34m\u001b[0m\u001b[0m\n",
            "\u001b[0;31mNameError\u001b[0m: name 'model_vi' is not defined"
          ]
        }
      ],
      "source": [
        "pred_vi=np.zeros((len(x_test),9))\n",
        "pred_max_p_vi=np.zeros((len(x_test)))\n",
        "pred_std_vi=np.zeros((len(x_test)))\n",
        "entropy_vi = np.zeros((len(x_test)))\n",
        "\n",
        "for i in tqdm(range(0,len(x_test))):\n",
        "  multi_img=np.tile(x_test[i],(50,1,1,1))\n",
        "  preds=model_vi.predict(multi_img)\n",
        "  pred_vi[i]=np.mean(preds,axis=0)#mean over n runs of every proba class\n",
        "  pred_max_p_vi[i]=np.argmax(np.mean(preds,axis=0))#mean over n runs of every proba class\n",
        "  pred_std_vi[i]= np.sqrt(np.sum(np.var(preds, axis=0)))\n",
        "  entropy_vi[i] = -np.sum( pred_vi[i] * np.log2(pred_vi[i] + 1E-14)) #Numerical Stability\n",
        "pred_labels_vi=np.array([labels_no_horse[np.argmax(pred_vi[i])] for i in range(0,len(pred_vi))])\n",
        "pred_vi_mean_max_p=np.array([pred_vi[i][np.argmax(pred_vi[i])] for i in range(0,len(pred_vi))])\n",
        "nll_vi=-np.log(pred_vi_mean_max_p)"
      ]
    },
    {
      "cell_type": "code",
      "execution_count": null,
      "metadata": {
        "id": "g3bcP5__N5Oz"
      },
      "outputs": [],
      "source": [
        "test_acc_all_vi=np.average(true_labels==pred_labels_vi)\n",
        "test_acc_known_vi=np.average(true_labels[known_idx]==pred_labels_vi[known_idx])\n",
        "test_acc_all_vi, test_acc_known_vi"
      ]
    },
    {
      "cell_type": "markdown",
      "metadata": {
        "id": "EiUPdpbisoH-"
      },
      "source": [
        "#### Bayesian MC prediction\n",
        "\n",
        "Here you predict the labels for the bayesian CNN via dropout and calculate the uncertainty measures. You predict the same image for 50 times and calculate the mean predicted probabilities, the nll, the entropy and total standart deviation."
      ]
    },
    {
      "cell_type": "code",
      "execution_count": null,
      "metadata": {
        "id": "4dbkFoc0PF-I"
      },
      "outputs": [],
      "source": [
        "pred_mc=np.zeros((len(x_test),9))\n",
        "pred_max_p_mc=np.zeros((len(x_test)))\n",
        "pred_std_mc=np.zeros((len(x_test)))\n",
        "entropy_mc = np.zeros((len(x_test)))\n",
        "\n",
        "for i in tqdm(range(0,len(x_test))):\n",
        "  multi_img=np.tile(x_test[i],(50,1,1,1))\n",
        "  preds=model_mc_pred([multi_img,1])\n",
        "  pred_mc[i]= np.mean(preds,axis=1)\n",
        "  pred_max_p_mc[i]=np.argmax(np.mean(preds,axis=1))#mean over n runs of every proba class\n",
        "  pred_std_mc[i]= np.sqrt(np.sum(np.var(preds, axis=1)))\n",
        "  entropy_mc[i] = -np.sum( pred_mc[i] * np.log2(pred_mc[i] + 1E-14)) #Numerical Stability\n",
        "pred_labels_mc=np.array([labels_no_horse[np.argmax(pred_mc[i])] for i in range(0,len(pred_mc))])\n",
        "pred_mc_mean_max_p=np.array([pred_mc[i][np.argmax(pred_mc[i])] for i in range(0,len(pred_mc))])\n",
        "nll_mc=-np.log(pred_mc_mean_max_p)"
      ]
    },
    {
      "cell_type": "code",
      "execution_count": null,
      "metadata": {
        "id": "89WXRYdSPF4B"
      },
      "outputs": [],
      "source": [
        "test_acc_all_mc=np.average(true_labels==pred_labels_mc)\n",
        "test_acc_known_mc=np.average(true_labels[known_idx]==pred_labels_mc[known_idx])\n",
        "test_acc_all_mc, test_acc_known_mc"
      ]
    },
    {
      "cell_type": "markdown",
      "metadata": {
        "id": "jp_pBdOJt000"
      },
      "source": [
        "Let's look at the accuarcy on only the knowns and all the labels for all  three models. You cann see that the two bayesian models perform better than the non-bayesian model. Note that the mc-dropout model is the best model in this case."
      ]
    },
    {
      "cell_type": "code",
      "execution_count": null,
      "metadata": {
        "id": "AFTadf3lnbif"
      },
      "outputs": [],
      "source": [
        "import pandas as pd\n",
        "pd.DataFrame(np.array([[test_acc_known,test_acc_known_vi,test_acc_known_mc, test_acc_known_tta],[test_acc_all,test_acc_all_vi,test_acc_all_mc,  test_acc_all_tta]]), index=['test acc on known labels','test acc on all labels'],columns=['Non-Bayesian','VI','MC','TTA'])"
      ]
    },
    {
      "cell_type": "markdown",
      "metadata": {
        "id": "vh2CvHd9xQ_H"
      },
      "source": [
        "#### Predicted classes for the unknown class\n",
        "Now you will look a at the unknown class. What are the predicted classes for these images of the horses for each model?"
      ]
    },
    {
      "cell_type": "code",
      "execution_count": null,
      "metadata": {
        "id": "eFazJdW-R9gk"
      },
      "outputs": [],
      "source": [
        "plt.figure(figsize=(15,5))\n",
        "plt.subplot(1,4,1)\n",
        "plt.bar(np.unique(pred_labels[unknown_idx],return_counts=True)[0],np.unique(pred_labels[unknown_idx],return_counts=True)[1])\n",
        "plt.xticks(rotation=45)\n",
        "plt.title(\"Non-Bayesian: horses predicted as:\")\n",
        "plt.ylim([0,450])\n",
        "\n",
        "\n",
        "plt.subplot(1,4,2)\n",
        "plt.bar(np.unique(pred_labels_tta[unknown_idx],return_counts=True)[0],np.unique(pred_labels_tta[unknown_idx],return_counts=True)[1])\n",
        "plt.xticks(rotation=45)\n",
        "plt.title(\"With TTA: horses predicted as:\")\n",
        "plt.ylim([0,450])\n",
        "\n",
        "\n",
        "plt.subplot(1,4,3)\n",
        "plt.bar(np.unique(pred_labels_vi[unknown_idx],return_counts=True)[0],np.unique(pred_labels_vi[unknown_idx],return_counts=True)[1])\n",
        "plt.xticks(rotation=45)\n",
        "plt.title(\"VI: horses predicted as:\")\n",
        "plt.ylim([0,450])\n",
        "\n",
        "plt.subplot(1,4,4)\n",
        "plt.bar(np.unique(pred_labels_mc[unknown_idx],return_counts=True)[0],np.unique(pred_labels_mc[unknown_idx],return_counts=True)[1])\n",
        "plt.xticks(rotation=45)\n",
        "plt.title(\"MC: horses predicted as:\")\n",
        "plt.ylim([0,450])\n",
        "\n",
        "\n",
        " \n",
        "plt.show()\n"
      ]
    },
    {
      "cell_type": "markdown",
      "metadata": {
        "id": "wg0yXPAHGng3"
      },
      "source": [
        "As you see in the plot barplot above, most of the horses were classified as deers, which kind of makes sense, because it is the most simlar class to horse. There are also a lot of classifications as dogs or cats.  "
      ]
    },
    {
      "cell_type": "markdown",
      "metadata": {
        "id": "DMBRLqpJH-JM"
      },
      "source": [
        "#### Compare the predictions for a known and unknown image\n",
        "\n",
        "Let's compare the predictions of all three models, for a known and an unknown image. For the two bayesian neural network, you will predict the same image for \n",
        "50 times and look at the predictive distribution."
      ]
    },
    {
      "cell_type": "code",
      "execution_count": null,
      "metadata": {
        "id": "TNFhkloWTImi"
      },
      "outputs": [],
      "source": [
        "x_test_known = x_test[known_idx]\n",
        "y_test_known = y_test[known_idx]\n",
        "\n",
        "x_test_unknown = x_test[unknown_idx]\n",
        "y_test_unknown = y_test[unknown_idx]\n",
        "\n",
        "np.random.seed(7681)\n",
        "random_sample_known=np.random.choice(range(0,len(x_test_known)),1)\n",
        "np.random.seed(2384)\n",
        "random_sample_unknown=np.random.choice(range(0,len(x_test_unknown)),1)\n",
        "\n",
        "plt.figure(figsize=(18,12))\n",
        "plt.subplot(5,3,1)\n",
        "plt.axis('off')\n",
        "plt.text(0.5,0.5, \"Input image\",fontsize=22,horizontalalignment='center')\n",
        "plt.subplot(5,3,2)\n",
        "plt.imshow(np.squeeze(np.array(((((x_test_known[random_sample_known])/2)+0.5)*255),dtype=\"uint8\")))\n",
        "plt.title(\"known class\",fontsize=25)\n",
        "plt.subplot(5,3,3)\n",
        "plt.imshow(np.squeeze(np.array(((((x_test_unknown[random_sample_unknown])/2)+0.5)*255),dtype=\"uint8\")))\n",
        "plt.title(\"unknown class\",fontsize=25)\n",
        "\n",
        "plt.subplot(5,3,4)\n",
        "plt.axis('off')\n",
        "plt.text(0.5,0.5, \"Non-Bayesian CNN\",fontsize=22,horizontalalignment='center')\n",
        "plt.subplot(5,3,5)\n",
        "plt.scatter(range(0,9),model.predict(x_test_known[random_sample_known]),c=\"blue\")\n",
        "plt.ylabel(\"P(class)\",fontsize=16)\n",
        "plt.xticks(range(0,9),labels=np.repeat(\" \",9))\n",
        "plt.ylim([0,1])\n",
        "plt.subplot(5,3,6)\n",
        "plt.scatter(range(0,9),model.predict(x_test_unknown[random_sample_unknown]),c=\"blue\")\n",
        "plt.xticks(range(0,9),labels=np.repeat(\" \",9))\n",
        "plt.ylim([0,1])\n",
        "\n",
        "plt.subplot(5,3,7)\n",
        "plt.axis('off')\n",
        "plt.text(0.5,0.5, \"Bayesian CNN via VI\",fontsize=22,horizontalalignment='center')\n",
        "plt.subplot(5,3,8)\n",
        "for i in range(0,50):\n",
        "  plt.scatter(range(0,9),model_vi.predict(x_test_known[random_sample_known]),c=\"blue\",alpha=0.2)\n",
        "plt.xticks(range(0,9),labels=np.repeat(\" \",9))\n",
        "plt.ylim([0,1])\n",
        "plt.ylabel(\"P(class)\",fontsize=16)\n",
        "plt.subplot(5,3,9)\n",
        "for i in range(0,50):\n",
        "  plt.scatter(range(0,9),model_vi.predict(x_test_unknown[random_sample_unknown]),c=\"blue\",alpha=0.2)\n",
        "plt.xticks(range(0,9),labels=np.repeat(\" \",9))\n",
        "plt.ylim([0,1])\n",
        "\n",
        "plt.subplot(5,3,10)\n",
        "plt.axis('off')\n",
        "plt.text(0.5,0.5, \"Bayesian CNN via dropout\",fontsize=22,horizontalalignment='center')\n",
        "\n",
        "\n",
        "plt.subplot(5,3,11)\n",
        "for i in range(0,50):\n",
        "  plt.scatter(range(0,9),model_mc_pred([x_test_known[random_sample_known],1]),c=\"blue\",alpha=0.2)\n",
        "plt.xticks(range(0,9),labels=labels_no_horse,fontsize=16)\n",
        "plt.xticks(rotation=90)\n",
        "plt.ylim([0,1])\n",
        "plt.ylabel(\"P(class)\",fontsize=16)\n",
        "\n",
        "\n",
        "plt.subplot(5,3,12)\n",
        "for i in range(0,50):\n",
        "  plt.scatter(range(0,9),model_mc_pred([x_test_unknown[random_sample_unknown],1]),c=\"blue\",alpha=0.2)\n",
        "plt.xticks(range(0,9),labels=labels_no_horse,fontsize=16)\n",
        "plt.xticks(rotation=90)\n",
        "plt.ylim([0,1])\n",
        "\n",
        "\n",
        "\n",
        "plt.subplot(5,3,13)\n",
        "plt.axis('off')\n",
        "plt.text(0.5,0.5, \"CNN with TTA\",fontsize=22,horizontalalignment='center')\n",
        "\n",
        "\n",
        "\n",
        "plt.subplot(5,3,14)\n",
        "for i in range(0,50):\n",
        "  plt.scatter(range(0,9), model.predict(test_datagen.flow(x_test_known[random_sample_known], batch_size=1, shuffle=False)), c=\"blue\",alpha=0.2)\n",
        "plt.xticks(range(0,9),labels=labels_no_horse,fontsize=16)\n",
        "plt.xticks(rotation=90)\n",
        "plt.ylim([0,1])\n",
        "plt.ylabel(\"P(class)\",fontsize=16)\n",
        "\n",
        "\n",
        "plt.subplot(5,3,15)\n",
        "for i in range(0,50):\n",
        "  plt.scatter(range(0,9), model.predict_generator(test_datagen.flow(x_test_unknown[random_sample_unknown])), c=\"blue\",alpha=0.2)\n",
        "plt.xticks(range(0,9),labels=labels_no_horse,fontsize=16)\n",
        "plt.xticks(rotation=90)\n",
        "plt.ylim([0,1])\n",
        "\n",
        "\n",
        "\n",
        "plt.savefig(\"8.good2.pdf\")\n",
        "plt.show()\n",
        "#from google.colab import files\n",
        "#files.download('8.good2.pdf') "
      ]
    },
    {
      "cell_type": "code",
      "source": [
        "model.predict_generator(test_datagen.flow(x_test_known[random_sample_known], batch_size=1, shuffle=False))\n"
      ],
      "metadata": {
        "id": "5YpjfG5Ml0Rr"
      },
      "execution_count": null,
      "outputs": []
    },
    {
      "cell_type": "markdown",
      "metadata": {
        "id": "j1pdE2xPJFcG"
      },
      "source": [
        "When you look at the predictions for the unknown calls, you can see the two bayesian neural nets can express their uncertainty better than the non-bayesian net. All three work are quite certain about the known class as you can see in the predictive distributions."
      ]
    },
    {
      "cell_type": "markdown",
      "metadata": {
        "id": "SNwQ6ZJhPAKA"
      },
      "source": [
        "#### Compare the uncertainty measures for all known and unknown classes\n",
        "\n",
        "Let's compare the uncertainty measures for all images and all three models. Look at the distributions for the known and unknown class. Can you see a difference? You will look at the nll the total standard deviation and the entropy. Note that there is no total standard deviation for the non-bayesian network, because the prediction is always the same, even if you predict the same image for multiple times."
      ]
    },
    {
      "cell_type": "markdown",
      "metadata": {
        "id": "N-MJHkqqngvK"
      },
      "source": [
        "##### Unknown and known classes"
      ]
    },
    {
      "cell_type": "code",
      "execution_count": null,
      "metadata": {
        "id": "toprWVDiFWNF"
      },
      "outputs": [],
      "source": [
        "def plot_hists(dist, title, xlabel, xlim=None):\n",
        "    plt.hist(dist[unknown_idx],bins=30, density=True,alpha = 0.7)\n",
        "    plt.hist(dist[known_idx],bins=30,  density=True,alpha = 0.7)\n",
        "    plt.title(title)\n",
        "    plt.legend(['unknown','known'])\n",
        "    plt.xlabel(xlabel)\n",
        "    if xlim != None:\n",
        "        plt.xlim(xlim)"
      ]
    },
    {
      "cell_type": "code",
      "execution_count": null,
      "metadata": {
        "id": "v2ns7E9tsIes"
      },
      "outputs": [],
      "source": [
        "plt.figure(figsize=(18,18))\n",
        "\n",
        "# Non-Bayesian\n",
        "plt.subplot(4,3,1)\n",
        "plot_hists(nll_, \"Non-Bayesian nll of max p\", \"NLL\", [-0.2,2])\n",
        "plt.subplot(4,3,2)\n",
        "plt.axis(\"off\")\n",
        "plt.subplot(4,3,3)\n",
        "plot_hists(entropy, \"Non-Bayesian entropy\", \"Entropy\", [-0.2,2])\n",
        "\n",
        "# VI\n",
        "plt.subplot(4,3,4)\n",
        "plot_hists(nll_vi, \"VI nll of max p\", \"NLL\", [-0.2,2])\n",
        "plt.subplot(4,3,5)\n",
        "plot_hists(pred_std_vi, \"VI std dev.\", \"std\", [-0.2,0.8])\n",
        "plt.subplot(4,3,6)\n",
        "plot_hists(entropy_vi, \"VI entropy\", \"Entropy\", [-0.2,3.2])\n",
        "\n",
        "# MC Methods\n",
        "plt.subplot(4,3,7)\n",
        "plot_hists(nll_mc, \"MC nll of max p\", \"NLL\", [-0.2,2])\n",
        "plt.subplot(4,3,8)\n",
        "plot_hists(pred_std_mc, \"MC std dev.\", \"std\", [-0.2,0.8])\n",
        "plt.subplot(4,3,9)\n",
        "plot_hists(entropy_mc, \"MC entropy\", \"Entropy\", [-0.2,3.2])\n",
        "\n",
        "# w/TTA Methods\n",
        "plt.subplot(4,3,10)\n",
        "plot_hists(nll_tta, \"TTA nll of max p\", \"NLL\", [-0.2,2])\n",
        "plt.subplot(4,3,11)\n",
        "plot_hists(pred_std_tta, \"TTA std dev.\", \"std\", [-0.2,0.8])\n",
        "plt.subplot(4,3,12)\n",
        "plot_hists(entropy_tta, \"TTA entropy\", \"Entropy\", [-0.2,3.2])\n",
        "\n",
        "\n",
        "\n",
        "\n",
        "plt.show()"
      ]
    },
    {
      "cell_type": "markdown",
      "metadata": {
        "id": "Q4_CuZynTFBP"
      },
      "source": [
        "As you can see there is a clear difference in the uncertainty measures between the known and unknown classes. We have lower uncertainties in the known than in the unknown classes. You can also see that the bayesian models are showing higher uncertainties."
      ]
    },
    {
      "metadata": {
        "id": "m1dcQj2-Q6MJ"
      },
      "cell_type": "markdown",
      "source": [
        "### See the impact of TTA on a single image"
      ]
    },
    {
      "metadata": {
        "id": "cEA8OgcBQ6MJ"
      },
      "cell_type": "code",
      "source": [
        "image_ix = 20\n",
        "test_image = x_val[image_ix]\n",
        "plt.imshow(test_image)\n",
        "plt.title(f'real label: {np.argmax(y_val[image_ix])}')\n",
        "plt.axis('off');"
      ],
      "execution_count": null,
      "outputs": []
    },
    {
      "metadata": {
        "id": "3Zt-DoKJQ6MP"
      },
      "cell_type": "code",
      "source": [
        "plt.figure(figsize=(20,14))\n",
        "predictions_tta_idx = []\n",
        "\n",
        "for i in range(5):\n",
        "    im = test_datagen.flow(test_image.reshape(1,32,32,3), batch_size=1, shuffle=False)\n",
        "    im = next(im)\n",
        "    pred = model.predict(im.reshape(1,32,32,3))\n",
        "    predictions_tta_idx.append(pred)\n",
        "    plt.subplot(1, 5, i+1)\n",
        "    plt.title(f'pred label: {np.argmax(pred)}')\n",
        "    plt.imshow(im.reshape(32, 32, 3), cmap=plt.get_cmap('gray'))\n",
        "    plt.axis('off')\n",
        "plt.show()"
      ],
      "execution_count": null,
      "outputs": []
    },
    {
      "metadata": {
        "id": "Ozb5T7DqQ6MV"
      },
      "cell_type": "code",
      "source": [
        "final_pred_idx = np.mean(predictions_tta_idx, axis=0)\n",
        "print(f'final pred: {np.argmax(final_pred_idx)}')"
      ],
      "execution_count": null,
      "outputs": []
    },
    {
      "cell_type": "markdown",
      "metadata": {
        "id": "I-6z_hWHTJnO"
      },
      "source": [
        "## Use the uncertainty measures as filter\n",
        "\n",
        "In the next cells you will use the uncertainty measures as filter. You will sort the predicitons by the uncertainty measures and calcualte the accuracy on the n most certrain images. You will compare all three models based on this accuracy vs most certain images plot. To simplify the the sorting and plotting, we first define a the function plot_certainty_idx_filter. \n",
        "\n"
      ]
    },
    {
      "cell_type": "code",
      "execution_count": null,
      "metadata": {
        "id": "w8OjEiKFy7KG"
      },
      "outputs": [],
      "source": [
        "def plot_certainty_idx_filter(nr_of_best,certainty_measure,prediction,color,linetype):\n",
        "  certainty_idx = np.argsort(certainty_measure.reshape(len(certainty_measure)))\n",
        "  acc_nbest = np.zeros((nr_of_best))\n",
        "  for j in (range(0,nr_of_best)):\n",
        "    acc_nbest[j]=np.average(prediction[certainty_idx[0:j]]==true_labels[certainty_idx[0:j]])\n",
        "  plt.plot(acc_nbest,c=color,linewidth=2,linestyle=linetype)\n",
        "  plt.ylim([0.5,1.05])\n",
        "  plt.ylabel('accuracy',fontsize=14)\n",
        "  plt.xlabel('Number of Examples taken',fontsize=14)"
      ]
    },
    {
      "cell_type": "code",
      "execution_count": null,
      "metadata": {
        "id": "78i7kd-w2GzG"
      },
      "outputs": [],
      "source": [
        "plt.figure(figsize=(20,18))\n",
        "plt.subplot(3,2,1)\n",
        "plot_certainty_idx_filter(5000,nll_,pred_labels,'black','solid')\n",
        "plot_certainty_idx_filter(5000,nll_vi,pred_labels_vi,'red','dashed')\n",
        "plot_certainty_idx_filter(5000,nll_mc,pred_labels_mc,'blue','dotted')\n",
        "\n",
        "plot_certainty_idx_filter(5000,nll_tta,pred_labels_tta,'orange','dashdot')\n",
        "plt.title('Model Accuracy using p_max and p_mean_max as a filter',fontsize=16)\n",
        "plt.legend(['Non-Bayesian', 'VI',\"MC\",\"TTA\"], loc='upper right')\n",
        "\n",
        "plt.subplot(3,2,2)\n",
        "plot_certainty_idx_filter(10000,nll_,pred_labels,'black','solid')\n",
        "plot_certainty_idx_filter(10000,nll_vi,pred_labels_vi,'red','dashed')\n",
        "plot_certainty_idx_filter(10000,nll_mc,pred_labels_mc,'blue','dotted')\n",
        "\n",
        "plot_certainty_idx_filter(10000,nll_tta,pred_labels_tta,'orange','dashdot')\n",
        "plt.title('Model Accuracy using p_max and p_mean_max as a filter',fontsize=16)\n",
        "plt.legend(['Non-Bayesian', 'VI',\"MC\",\"TTA\"], loc='upper right')\n",
        "\n",
        "plt.subplot(3,2,3)\n",
        "plot_certainty_idx_filter(5000,entropy,pred_labels,'black','solid')\n",
        "plot_certainty_idx_filter(5000,entropy_vi,pred_labels_vi,'red','dashed')\n",
        "plot_certainty_idx_filter(5000,entropy_mc,pred_labels_mc,'blue','dotted')\n",
        "\n",
        "plot_certainty_idx_filter(5000,entropy_tta,pred_labels_tta,'orange','dashdot')\n",
        "\n",
        "plt.title('Model Accuracy using the entropy as a filter',fontsize=16)\n",
        "plt.legend(['Non-Bayesian', 'VI',\"MC\", \"TTA\"], loc='upper right')\n",
        "\n",
        "plt.subplot(3,2,4)\n",
        "plot_certainty_idx_filter(10000,entropy,pred_labels,'black','solid')\n",
        "plot_certainty_idx_filter(10000,entropy_vi,pred_labels_vi,'red','dashed')\n",
        "plot_certainty_idx_filter(10000,entropy_mc,pred_labels_mc,'blue','dotted')\n",
        "plot_certainty_idx_filter(10000,entropy_tta,pred_labels_tta,'orange','dashdot')\n",
        "\n",
        "plt.title('Model Accuracy using the entropy as a filter',fontsize=16)\n",
        "plt.legend(['Non-Bayesian', 'VI',\"MC\",\"TTA\"], loc='upper right')\n",
        "\n",
        "plt.subplot(3,2,5)\n",
        "plot_certainty_idx_filter(5000,pred_std_vi,pred_labels_vi,'red','dashed')\n",
        "plot_certainty_idx_filter(5000,pred_std_mc,pred_labels_mc,'blue','dotted')\n",
        "plot_certainty_idx_filter(5000,pred_std_tta,pred_labels_tta,'orange','dashdot')\n",
        "\n",
        "plt.title('Model Accuracy using the total standard deviation as a filter',fontsize=16)\n",
        "plt.legend(['VI',\"MC\",\"TTA\"], loc='upper right')\n",
        "\n",
        "plt.subplot(3,2,6)\n",
        "plot_certainty_idx_filter(10000,pred_std_vi,pred_labels_vi,'red','dashed')\n",
        "plot_certainty_idx_filter(10000,pred_std_mc,pred_labels_mc,'blue','dotted')\n",
        "plot_certainty_idx_filter(10000,pred_std_tta,pred_labels_tta,'orange','dashdot')\n",
        "\n",
        "plt.title('Model Accuracy using the total standard deviation as a filter',fontsize=16)\n",
        "plt.legend(['VI',\"MC\", \"TTA\"], loc='upper right')\n",
        "plt.savefig(\"8.filter.pdf\")\n",
        "plt.show()\n",
        "#from google.colab import files\n",
        "#files.download('8.filter.pdf')"
      ]
    },
    {
      "cell_type": "markdown",
      "metadata": {
        "id": "xsPSgnEpUGtW"
      },
      "source": [
        "You see that both bayesian models outperform the non-bayesian model. This means the bayesian model are more appropriate when you want to have an uncertainty measures. Note again that the mc-dropout model is the best model also in this case."
      ]
    }
  ],
  "metadata": {
    "accelerator": "GPU",
    "colab": {
      "provenance": [],
      "toc_visible": true,
      "history_visible": true,
      "include_colab_link": true
    },
    "kernelspec": {
      "display_name": "Python 3",
      "language": "python",
      "name": "python3"
    },
    "language_info": {
      "codemirror_mode": {
        "name": "ipython",
        "version": 3
      },
      "file_extension": ".py",
      "mimetype": "text/x-python",
      "name": "python",
      "nbconvert_exporter": "python",
      "pygments_lexer": "ipython3",
      "version": "3.6.8"
    },
    "widgets": {
      "application/vnd.jupyter.widget-state+json": {
        "b3fb8602c5b14385965a7decdbfa4d97": {
          "model_module": "@jupyter-widgets/controls",
          "model_name": "HBoxModel",
          "model_module_version": "1.5.0",
          "state": {
            "_dom_classes": [],
            "_model_module": "@jupyter-widgets/controls",
            "_model_module_version": "1.5.0",
            "_model_name": "HBoxModel",
            "_view_count": null,
            "_view_module": "@jupyter-widgets/controls",
            "_view_module_version": "1.5.0",
            "_view_name": "HBoxView",
            "box_style": "",
            "children": [
              "IPY_MODEL_e066574e4aa645e4a96b101fabae6817",
              "IPY_MODEL_1598bc05cc934b049c4d61c40ba5b044",
              "IPY_MODEL_112c802e812542a9b0ba2dacf9c2839e"
            ],
            "layout": "IPY_MODEL_77a4947772ed49318daf98ad7f1d32d7"
          }
        },
        "e066574e4aa645e4a96b101fabae6817": {
          "model_module": "@jupyter-widgets/controls",
          "model_name": "HTMLModel",
          "model_module_version": "1.5.0",
          "state": {
            "_dom_classes": [],
            "_model_module": "@jupyter-widgets/controls",
            "_model_module_version": "1.5.0",
            "_model_name": "HTMLModel",
            "_view_count": null,
            "_view_module": "@jupyter-widgets/controls",
            "_view_module_version": "1.5.0",
            "_view_name": "HTMLView",
            "description": "",
            "description_tooltip": null,
            "layout": "IPY_MODEL_d8af1ba66a3244b0bab7a2e76d505f50",
            "placeholder": "​",
            "style": "IPY_MODEL_40b4c3a9b884487bb71575045afcc348",
            "value": "100%"
          }
        },
        "1598bc05cc934b049c4d61c40ba5b044": {
          "model_module": "@jupyter-widgets/controls",
          "model_name": "FloatProgressModel",
          "model_module_version": "1.5.0",
          "state": {
            "_dom_classes": [],
            "_model_module": "@jupyter-widgets/controls",
            "_model_module_version": "1.5.0",
            "_model_name": "FloatProgressModel",
            "_view_count": null,
            "_view_module": "@jupyter-widgets/controls",
            "_view_module_version": "1.5.0",
            "_view_name": "ProgressView",
            "bar_style": "success",
            "description": "",
            "description_tooltip": null,
            "layout": "IPY_MODEL_fafd1c6449ac4b919746f8b1bb0af0ad",
            "max": 50,
            "min": 0,
            "orientation": "horizontal",
            "style": "IPY_MODEL_ab8aa228a85b4a4ca3b8beb6e7a681f1",
            "value": 50
          }
        },
        "112c802e812542a9b0ba2dacf9c2839e": {
          "model_module": "@jupyter-widgets/controls",
          "model_name": "HTMLModel",
          "model_module_version": "1.5.0",
          "state": {
            "_dom_classes": [],
            "_model_module": "@jupyter-widgets/controls",
            "_model_module_version": "1.5.0",
            "_model_name": "HTMLModel",
            "_view_count": null,
            "_view_module": "@jupyter-widgets/controls",
            "_view_module_version": "1.5.0",
            "_view_name": "HTMLView",
            "description": "",
            "description_tooltip": null,
            "layout": "IPY_MODEL_ab5d4b80979a42f5bfec01677bb9aabe",
            "placeholder": "​",
            "style": "IPY_MODEL_5c7014354f35433cb63f4381fa35b2b5",
            "value": " 50/50 [04:02&lt;00:00,  5.55s/it]"
          }
        },
        "77a4947772ed49318daf98ad7f1d32d7": {
          "model_module": "@jupyter-widgets/base",
          "model_name": "LayoutModel",
          "model_module_version": "1.2.0",
          "state": {
            "_model_module": "@jupyter-widgets/base",
            "_model_module_version": "1.2.0",
            "_model_name": "LayoutModel",
            "_view_count": null,
            "_view_module": "@jupyter-widgets/base",
            "_view_module_version": "1.2.0",
            "_view_name": "LayoutView",
            "align_content": null,
            "align_items": null,
            "align_self": null,
            "border": null,
            "bottom": null,
            "display": null,
            "flex": null,
            "flex_flow": null,
            "grid_area": null,
            "grid_auto_columns": null,
            "grid_auto_flow": null,
            "grid_auto_rows": null,
            "grid_column": null,
            "grid_gap": null,
            "grid_row": null,
            "grid_template_areas": null,
            "grid_template_columns": null,
            "grid_template_rows": null,
            "height": null,
            "justify_content": null,
            "justify_items": null,
            "left": null,
            "margin": null,
            "max_height": null,
            "max_width": null,
            "min_height": null,
            "min_width": null,
            "object_fit": null,
            "object_position": null,
            "order": null,
            "overflow": null,
            "overflow_x": null,
            "overflow_y": null,
            "padding": null,
            "right": null,
            "top": null,
            "visibility": null,
            "width": null
          }
        },
        "d8af1ba66a3244b0bab7a2e76d505f50": {
          "model_module": "@jupyter-widgets/base",
          "model_name": "LayoutModel",
          "model_module_version": "1.2.0",
          "state": {
            "_model_module": "@jupyter-widgets/base",
            "_model_module_version": "1.2.0",
            "_model_name": "LayoutModel",
            "_view_count": null,
            "_view_module": "@jupyter-widgets/base",
            "_view_module_version": "1.2.0",
            "_view_name": "LayoutView",
            "align_content": null,
            "align_items": null,
            "align_self": null,
            "border": null,
            "bottom": null,
            "display": null,
            "flex": null,
            "flex_flow": null,
            "grid_area": null,
            "grid_auto_columns": null,
            "grid_auto_flow": null,
            "grid_auto_rows": null,
            "grid_column": null,
            "grid_gap": null,
            "grid_row": null,
            "grid_template_areas": null,
            "grid_template_columns": null,
            "grid_template_rows": null,
            "height": null,
            "justify_content": null,
            "justify_items": null,
            "left": null,
            "margin": null,
            "max_height": null,
            "max_width": null,
            "min_height": null,
            "min_width": null,
            "object_fit": null,
            "object_position": null,
            "order": null,
            "overflow": null,
            "overflow_x": null,
            "overflow_y": null,
            "padding": null,
            "right": null,
            "top": null,
            "visibility": null,
            "width": null
          }
        },
        "40b4c3a9b884487bb71575045afcc348": {
          "model_module": "@jupyter-widgets/controls",
          "model_name": "DescriptionStyleModel",
          "model_module_version": "1.5.0",
          "state": {
            "_model_module": "@jupyter-widgets/controls",
            "_model_module_version": "1.5.0",
            "_model_name": "DescriptionStyleModel",
            "_view_count": null,
            "_view_module": "@jupyter-widgets/base",
            "_view_module_version": "1.2.0",
            "_view_name": "StyleView",
            "description_width": ""
          }
        },
        "fafd1c6449ac4b919746f8b1bb0af0ad": {
          "model_module": "@jupyter-widgets/base",
          "model_name": "LayoutModel",
          "model_module_version": "1.2.0",
          "state": {
            "_model_module": "@jupyter-widgets/base",
            "_model_module_version": "1.2.0",
            "_model_name": "LayoutModel",
            "_view_count": null,
            "_view_module": "@jupyter-widgets/base",
            "_view_module_version": "1.2.0",
            "_view_name": "LayoutView",
            "align_content": null,
            "align_items": null,
            "align_self": null,
            "border": null,
            "bottom": null,
            "display": null,
            "flex": null,
            "flex_flow": null,
            "grid_area": null,
            "grid_auto_columns": null,
            "grid_auto_flow": null,
            "grid_auto_rows": null,
            "grid_column": null,
            "grid_gap": null,
            "grid_row": null,
            "grid_template_areas": null,
            "grid_template_columns": null,
            "grid_template_rows": null,
            "height": null,
            "justify_content": null,
            "justify_items": null,
            "left": null,
            "margin": null,
            "max_height": null,
            "max_width": null,
            "min_height": null,
            "min_width": null,
            "object_fit": null,
            "object_position": null,
            "order": null,
            "overflow": null,
            "overflow_x": null,
            "overflow_y": null,
            "padding": null,
            "right": null,
            "top": null,
            "visibility": null,
            "width": null
          }
        },
        "ab8aa228a85b4a4ca3b8beb6e7a681f1": {
          "model_module": "@jupyter-widgets/controls",
          "model_name": "ProgressStyleModel",
          "model_module_version": "1.5.0",
          "state": {
            "_model_module": "@jupyter-widgets/controls",
            "_model_module_version": "1.5.0",
            "_model_name": "ProgressStyleModel",
            "_view_count": null,
            "_view_module": "@jupyter-widgets/base",
            "_view_module_version": "1.2.0",
            "_view_name": "StyleView",
            "bar_color": null,
            "description_width": ""
          }
        },
        "ab5d4b80979a42f5bfec01677bb9aabe": {
          "model_module": "@jupyter-widgets/base",
          "model_name": "LayoutModel",
          "model_module_version": "1.2.0",
          "state": {
            "_model_module": "@jupyter-widgets/base",
            "_model_module_version": "1.2.0",
            "_model_name": "LayoutModel",
            "_view_count": null,
            "_view_module": "@jupyter-widgets/base",
            "_view_module_version": "1.2.0",
            "_view_name": "LayoutView",
            "align_content": null,
            "align_items": null,
            "align_self": null,
            "border": null,
            "bottom": null,
            "display": null,
            "flex": null,
            "flex_flow": null,
            "grid_area": null,
            "grid_auto_columns": null,
            "grid_auto_flow": null,
            "grid_auto_rows": null,
            "grid_column": null,
            "grid_gap": null,
            "grid_row": null,
            "grid_template_areas": null,
            "grid_template_columns": null,
            "grid_template_rows": null,
            "height": null,
            "justify_content": null,
            "justify_items": null,
            "left": null,
            "margin": null,
            "max_height": null,
            "max_width": null,
            "min_height": null,
            "min_width": null,
            "object_fit": null,
            "object_position": null,
            "order": null,
            "overflow": null,
            "overflow_x": null,
            "overflow_y": null,
            "padding": null,
            "right": null,
            "top": null,
            "visibility": null,
            "width": null
          }
        },
        "5c7014354f35433cb63f4381fa35b2b5": {
          "model_module": "@jupyter-widgets/controls",
          "model_name": "DescriptionStyleModel",
          "model_module_version": "1.5.0",
          "state": {
            "_model_module": "@jupyter-widgets/controls",
            "_model_module_version": "1.5.0",
            "_model_name": "DescriptionStyleModel",
            "_view_count": null,
            "_view_module": "@jupyter-widgets/base",
            "_view_module_version": "1.2.0",
            "_view_name": "StyleView",
            "description_width": ""
          }
        },
        "b580f90edf16482ab21dc86d5dc8a9c9": {
          "model_module": "@jupyter-widgets/controls",
          "model_name": "HBoxModel",
          "model_module_version": "1.5.0",
          "state": {
            "_dom_classes": [],
            "_model_module": "@jupyter-widgets/controls",
            "_model_module_version": "1.5.0",
            "_model_name": "HBoxModel",
            "_view_count": null,
            "_view_module": "@jupyter-widgets/controls",
            "_view_module_version": "1.5.0",
            "_view_name": "HBoxView",
            "box_style": "",
            "children": [
              "IPY_MODEL_633aa80d6dda4b2aad12d8fc06347aba",
              "IPY_MODEL_f963474aa23542d0b423cadcf64cadc9",
              "IPY_MODEL_8b2dc10c648448daa35e4da9ad57b90d"
            ],
            "layout": "IPY_MODEL_341f3a63ba3847e39376429bab0f253b"
          }
        },
        "633aa80d6dda4b2aad12d8fc06347aba": {
          "model_module": "@jupyter-widgets/controls",
          "model_name": "HTMLModel",
          "model_module_version": "1.5.0",
          "state": {
            "_dom_classes": [],
            "_model_module": "@jupyter-widgets/controls",
            "_model_module_version": "1.5.0",
            "_model_name": "HTMLModel",
            "_view_count": null,
            "_view_module": "@jupyter-widgets/controls",
            "_view_module_version": "1.5.0",
            "_view_name": "HTMLView",
            "description": "",
            "description_tooltip": null,
            "layout": "IPY_MODEL_ba35aa11634f4b88b19ad07fd3d6a71f",
            "placeholder": "​",
            "style": "IPY_MODEL_6ea48b70eb7547f09b68acef79672ab3",
            "value": "100%"
          }
        },
        "f963474aa23542d0b423cadcf64cadc9": {
          "model_module": "@jupyter-widgets/controls",
          "model_name": "FloatProgressModel",
          "model_module_version": "1.5.0",
          "state": {
            "_dom_classes": [],
            "_model_module": "@jupyter-widgets/controls",
            "_model_module_version": "1.5.0",
            "_model_name": "FloatProgressModel",
            "_view_count": null,
            "_view_module": "@jupyter-widgets/controls",
            "_view_module_version": "1.5.0",
            "_view_name": "ProgressView",
            "bar_style": "success",
            "description": "",
            "description_tooltip": null,
            "layout": "IPY_MODEL_5b235bf89e294148a382d1251655ea08",
            "max": 10000,
            "min": 0,
            "orientation": "horizontal",
            "style": "IPY_MODEL_2d111b94caca4171bc325a061d7d39a3",
            "value": 10000
          }
        },
        "8b2dc10c648448daa35e4da9ad57b90d": {
          "model_module": "@jupyter-widgets/controls",
          "model_name": "HTMLModel",
          "model_module_version": "1.5.0",
          "state": {
            "_dom_classes": [],
            "_model_module": "@jupyter-widgets/controls",
            "_model_module_version": "1.5.0",
            "_model_name": "HTMLModel",
            "_view_count": null,
            "_view_module": "@jupyter-widgets/controls",
            "_view_module_version": "1.5.0",
            "_view_name": "HTMLView",
            "description": "",
            "description_tooltip": null,
            "layout": "IPY_MODEL_c254f606295b4167acccf0ed65b338ec",
            "placeholder": "​",
            "style": "IPY_MODEL_1b8ef61879eb4bb9aff86880e519fd57",
            "value": " 10000/10000 [00:00&lt;00:00, 18727.50it/s]"
          }
        },
        "341f3a63ba3847e39376429bab0f253b": {
          "model_module": "@jupyter-widgets/base",
          "model_name": "LayoutModel",
          "model_module_version": "1.2.0",
          "state": {
            "_model_module": "@jupyter-widgets/base",
            "_model_module_version": "1.2.0",
            "_model_name": "LayoutModel",
            "_view_count": null,
            "_view_module": "@jupyter-widgets/base",
            "_view_module_version": "1.2.0",
            "_view_name": "LayoutView",
            "align_content": null,
            "align_items": null,
            "align_self": null,
            "border": null,
            "bottom": null,
            "display": null,
            "flex": null,
            "flex_flow": null,
            "grid_area": null,
            "grid_auto_columns": null,
            "grid_auto_flow": null,
            "grid_auto_rows": null,
            "grid_column": null,
            "grid_gap": null,
            "grid_row": null,
            "grid_template_areas": null,
            "grid_template_columns": null,
            "grid_template_rows": null,
            "height": null,
            "justify_content": null,
            "justify_items": null,
            "left": null,
            "margin": null,
            "max_height": null,
            "max_width": null,
            "min_height": null,
            "min_width": null,
            "object_fit": null,
            "object_position": null,
            "order": null,
            "overflow": null,
            "overflow_x": null,
            "overflow_y": null,
            "padding": null,
            "right": null,
            "top": null,
            "visibility": null,
            "width": null
          }
        },
        "ba35aa11634f4b88b19ad07fd3d6a71f": {
          "model_module": "@jupyter-widgets/base",
          "model_name": "LayoutModel",
          "model_module_version": "1.2.0",
          "state": {
            "_model_module": "@jupyter-widgets/base",
            "_model_module_version": "1.2.0",
            "_model_name": "LayoutModel",
            "_view_count": null,
            "_view_module": "@jupyter-widgets/base",
            "_view_module_version": "1.2.0",
            "_view_name": "LayoutView",
            "align_content": null,
            "align_items": null,
            "align_self": null,
            "border": null,
            "bottom": null,
            "display": null,
            "flex": null,
            "flex_flow": null,
            "grid_area": null,
            "grid_auto_columns": null,
            "grid_auto_flow": null,
            "grid_auto_rows": null,
            "grid_column": null,
            "grid_gap": null,
            "grid_row": null,
            "grid_template_areas": null,
            "grid_template_columns": null,
            "grid_template_rows": null,
            "height": null,
            "justify_content": null,
            "justify_items": null,
            "left": null,
            "margin": null,
            "max_height": null,
            "max_width": null,
            "min_height": null,
            "min_width": null,
            "object_fit": null,
            "object_position": null,
            "order": null,
            "overflow": null,
            "overflow_x": null,
            "overflow_y": null,
            "padding": null,
            "right": null,
            "top": null,
            "visibility": null,
            "width": null
          }
        },
        "6ea48b70eb7547f09b68acef79672ab3": {
          "model_module": "@jupyter-widgets/controls",
          "model_name": "DescriptionStyleModel",
          "model_module_version": "1.5.0",
          "state": {
            "_model_module": "@jupyter-widgets/controls",
            "_model_module_version": "1.5.0",
            "_model_name": "DescriptionStyleModel",
            "_view_count": null,
            "_view_module": "@jupyter-widgets/base",
            "_view_module_version": "1.2.0",
            "_view_name": "StyleView",
            "description_width": ""
          }
        },
        "5b235bf89e294148a382d1251655ea08": {
          "model_module": "@jupyter-widgets/base",
          "model_name": "LayoutModel",
          "model_module_version": "1.2.0",
          "state": {
            "_model_module": "@jupyter-widgets/base",
            "_model_module_version": "1.2.0",
            "_model_name": "LayoutModel",
            "_view_count": null,
            "_view_module": "@jupyter-widgets/base",
            "_view_module_version": "1.2.0",
            "_view_name": "LayoutView",
            "align_content": null,
            "align_items": null,
            "align_self": null,
            "border": null,
            "bottom": null,
            "display": null,
            "flex": null,
            "flex_flow": null,
            "grid_area": null,
            "grid_auto_columns": null,
            "grid_auto_flow": null,
            "grid_auto_rows": null,
            "grid_column": null,
            "grid_gap": null,
            "grid_row": null,
            "grid_template_areas": null,
            "grid_template_columns": null,
            "grid_template_rows": null,
            "height": null,
            "justify_content": null,
            "justify_items": null,
            "left": null,
            "margin": null,
            "max_height": null,
            "max_width": null,
            "min_height": null,
            "min_width": null,
            "object_fit": null,
            "object_position": null,
            "order": null,
            "overflow": null,
            "overflow_x": null,
            "overflow_y": null,
            "padding": null,
            "right": null,
            "top": null,
            "visibility": null,
            "width": null
          }
        },
        "2d111b94caca4171bc325a061d7d39a3": {
          "model_module": "@jupyter-widgets/controls",
          "model_name": "ProgressStyleModel",
          "model_module_version": "1.5.0",
          "state": {
            "_model_module": "@jupyter-widgets/controls",
            "_model_module_version": "1.5.0",
            "_model_name": "ProgressStyleModel",
            "_view_count": null,
            "_view_module": "@jupyter-widgets/base",
            "_view_module_version": "1.2.0",
            "_view_name": "StyleView",
            "bar_color": null,
            "description_width": ""
          }
        },
        "c254f606295b4167acccf0ed65b338ec": {
          "model_module": "@jupyter-widgets/base",
          "model_name": "LayoutModel",
          "model_module_version": "1.2.0",
          "state": {
            "_model_module": "@jupyter-widgets/base",
            "_model_module_version": "1.2.0",
            "_model_name": "LayoutModel",
            "_view_count": null,
            "_view_module": "@jupyter-widgets/base",
            "_view_module_version": "1.2.0",
            "_view_name": "LayoutView",
            "align_content": null,
            "align_items": null,
            "align_self": null,
            "border": null,
            "bottom": null,
            "display": null,
            "flex": null,
            "flex_flow": null,
            "grid_area": null,
            "grid_auto_columns": null,
            "grid_auto_flow": null,
            "grid_auto_rows": null,
            "grid_column": null,
            "grid_gap": null,
            "grid_row": null,
            "grid_template_areas": null,
            "grid_template_columns": null,
            "grid_template_rows": null,
            "height": null,
            "justify_content": null,
            "justify_items": null,
            "left": null,
            "margin": null,
            "max_height": null,
            "max_width": null,
            "min_height": null,
            "min_width": null,
            "object_fit": null,
            "object_position": null,
            "order": null,
            "overflow": null,
            "overflow_x": null,
            "overflow_y": null,
            "padding": null,
            "right": null,
            "top": null,
            "visibility": null,
            "width": null
          }
        },
        "1b8ef61879eb4bb9aff86880e519fd57": {
          "model_module": "@jupyter-widgets/controls",
          "model_name": "DescriptionStyleModel",
          "model_module_version": "1.5.0",
          "state": {
            "_model_module": "@jupyter-widgets/controls",
            "_model_module_version": "1.5.0",
            "_model_name": "DescriptionStyleModel",
            "_view_count": null,
            "_view_module": "@jupyter-widgets/base",
            "_view_module_version": "1.2.0",
            "_view_name": "StyleView",
            "description_width": ""
          }
        },
        "12890eee436c4eaeb9b52d0d18c45ab4": {
          "model_module": "@jupyter-widgets/controls",
          "model_name": "HBoxModel",
          "model_module_version": "1.5.0",
          "state": {
            "_dom_classes": [],
            "_model_module": "@jupyter-widgets/controls",
            "_model_module_version": "1.5.0",
            "_model_name": "HBoxModel",
            "_view_count": null,
            "_view_module": "@jupyter-widgets/controls",
            "_view_module_version": "1.5.0",
            "_view_name": "HBoxView",
            "box_style": "",
            "children": [
              "IPY_MODEL_ce07eaeeabbe42dd876425c53efddcb4",
              "IPY_MODEL_8f979a7d0a23488d86db221a7df39b1e",
              "IPY_MODEL_d349d9c2138f4cd09fa3943b55013f71"
            ],
            "layout": "IPY_MODEL_7a07ce169bad488fb5bd0a64baf25b14"
          }
        },
        "ce07eaeeabbe42dd876425c53efddcb4": {
          "model_module": "@jupyter-widgets/controls",
          "model_name": "HTMLModel",
          "model_module_version": "1.5.0",
          "state": {
            "_dom_classes": [],
            "_model_module": "@jupyter-widgets/controls",
            "_model_module_version": "1.5.0",
            "_model_name": "HTMLModel",
            "_view_count": null,
            "_view_module": "@jupyter-widgets/controls",
            "_view_module_version": "1.5.0",
            "_view_name": "HTMLView",
            "description": "",
            "description_tooltip": null,
            "layout": "IPY_MODEL_ae832b8940e64ced9564f4346c4e23d2",
            "placeholder": "​",
            "style": "IPY_MODEL_637cf2e26ea1439a9db9803578cf0315",
            "value": "  0%"
          }
        },
        "8f979a7d0a23488d86db221a7df39b1e": {
          "model_module": "@jupyter-widgets/controls",
          "model_name": "FloatProgressModel",
          "model_module_version": "1.5.0",
          "state": {
            "_dom_classes": [],
            "_model_module": "@jupyter-widgets/controls",
            "_model_module_version": "1.5.0",
            "_model_name": "FloatProgressModel",
            "_view_count": null,
            "_view_module": "@jupyter-widgets/controls",
            "_view_module_version": "1.5.0",
            "_view_name": "ProgressView",
            "bar_style": "danger",
            "description": "",
            "description_tooltip": null,
            "layout": "IPY_MODEL_8c095aa4573246eb8eb1f49ddfb46b61",
            "max": 10000,
            "min": 0,
            "orientation": "horizontal",
            "style": "IPY_MODEL_a0d8f352c1ba471d9240f31070cc3ad5",
            "value": 0
          }
        },
        "d349d9c2138f4cd09fa3943b55013f71": {
          "model_module": "@jupyter-widgets/controls",
          "model_name": "HTMLModel",
          "model_module_version": "1.5.0",
          "state": {
            "_dom_classes": [],
            "_model_module": "@jupyter-widgets/controls",
            "_model_module_version": "1.5.0",
            "_model_name": "HTMLModel",
            "_view_count": null,
            "_view_module": "@jupyter-widgets/controls",
            "_view_module_version": "1.5.0",
            "_view_name": "HTMLView",
            "description": "",
            "description_tooltip": null,
            "layout": "IPY_MODEL_946c974e545f4e9faa3feaa9de2404a3",
            "placeholder": "​",
            "style": "IPY_MODEL_90536b0465e844ca959e2aca963742c1",
            "value": " 0/10000 [00:00&lt;?, ?it/s]"
          }
        },
        "7a07ce169bad488fb5bd0a64baf25b14": {
          "model_module": "@jupyter-widgets/base",
          "model_name": "LayoutModel",
          "model_module_version": "1.2.0",
          "state": {
            "_model_module": "@jupyter-widgets/base",
            "_model_module_version": "1.2.0",
            "_model_name": "LayoutModel",
            "_view_count": null,
            "_view_module": "@jupyter-widgets/base",
            "_view_module_version": "1.2.0",
            "_view_name": "LayoutView",
            "align_content": null,
            "align_items": null,
            "align_self": null,
            "border": null,
            "bottom": null,
            "display": null,
            "flex": null,
            "flex_flow": null,
            "grid_area": null,
            "grid_auto_columns": null,
            "grid_auto_flow": null,
            "grid_auto_rows": null,
            "grid_column": null,
            "grid_gap": null,
            "grid_row": null,
            "grid_template_areas": null,
            "grid_template_columns": null,
            "grid_template_rows": null,
            "height": null,
            "justify_content": null,
            "justify_items": null,
            "left": null,
            "margin": null,
            "max_height": null,
            "max_width": null,
            "min_height": null,
            "min_width": null,
            "object_fit": null,
            "object_position": null,
            "order": null,
            "overflow": null,
            "overflow_x": null,
            "overflow_y": null,
            "padding": null,
            "right": null,
            "top": null,
            "visibility": null,
            "width": null
          }
        },
        "ae832b8940e64ced9564f4346c4e23d2": {
          "model_module": "@jupyter-widgets/base",
          "model_name": "LayoutModel",
          "model_module_version": "1.2.0",
          "state": {
            "_model_module": "@jupyter-widgets/base",
            "_model_module_version": "1.2.0",
            "_model_name": "LayoutModel",
            "_view_count": null,
            "_view_module": "@jupyter-widgets/base",
            "_view_module_version": "1.2.0",
            "_view_name": "LayoutView",
            "align_content": null,
            "align_items": null,
            "align_self": null,
            "border": null,
            "bottom": null,
            "display": null,
            "flex": null,
            "flex_flow": null,
            "grid_area": null,
            "grid_auto_columns": null,
            "grid_auto_flow": null,
            "grid_auto_rows": null,
            "grid_column": null,
            "grid_gap": null,
            "grid_row": null,
            "grid_template_areas": null,
            "grid_template_columns": null,
            "grid_template_rows": null,
            "height": null,
            "justify_content": null,
            "justify_items": null,
            "left": null,
            "margin": null,
            "max_height": null,
            "max_width": null,
            "min_height": null,
            "min_width": null,
            "object_fit": null,
            "object_position": null,
            "order": null,
            "overflow": null,
            "overflow_x": null,
            "overflow_y": null,
            "padding": null,
            "right": null,
            "top": null,
            "visibility": null,
            "width": null
          }
        },
        "637cf2e26ea1439a9db9803578cf0315": {
          "model_module": "@jupyter-widgets/controls",
          "model_name": "DescriptionStyleModel",
          "model_module_version": "1.5.0",
          "state": {
            "_model_module": "@jupyter-widgets/controls",
            "_model_module_version": "1.5.0",
            "_model_name": "DescriptionStyleModel",
            "_view_count": null,
            "_view_module": "@jupyter-widgets/base",
            "_view_module_version": "1.2.0",
            "_view_name": "StyleView",
            "description_width": ""
          }
        },
        "8c095aa4573246eb8eb1f49ddfb46b61": {
          "model_module": "@jupyter-widgets/base",
          "model_name": "LayoutModel",
          "model_module_version": "1.2.0",
          "state": {
            "_model_module": "@jupyter-widgets/base",
            "_model_module_version": "1.2.0",
            "_model_name": "LayoutModel",
            "_view_count": null,
            "_view_module": "@jupyter-widgets/base",
            "_view_module_version": "1.2.0",
            "_view_name": "LayoutView",
            "align_content": null,
            "align_items": null,
            "align_self": null,
            "border": null,
            "bottom": null,
            "display": null,
            "flex": null,
            "flex_flow": null,
            "grid_area": null,
            "grid_auto_columns": null,
            "grid_auto_flow": null,
            "grid_auto_rows": null,
            "grid_column": null,
            "grid_gap": null,
            "grid_row": null,
            "grid_template_areas": null,
            "grid_template_columns": null,
            "grid_template_rows": null,
            "height": null,
            "justify_content": null,
            "justify_items": null,
            "left": null,
            "margin": null,
            "max_height": null,
            "max_width": null,
            "min_height": null,
            "min_width": null,
            "object_fit": null,
            "object_position": null,
            "order": null,
            "overflow": null,
            "overflow_x": null,
            "overflow_y": null,
            "padding": null,
            "right": null,
            "top": null,
            "visibility": null,
            "width": null
          }
        },
        "a0d8f352c1ba471d9240f31070cc3ad5": {
          "model_module": "@jupyter-widgets/controls",
          "model_name": "ProgressStyleModel",
          "model_module_version": "1.5.0",
          "state": {
            "_model_module": "@jupyter-widgets/controls",
            "_model_module_version": "1.5.0",
            "_model_name": "ProgressStyleModel",
            "_view_count": null,
            "_view_module": "@jupyter-widgets/base",
            "_view_module_version": "1.2.0",
            "_view_name": "StyleView",
            "bar_color": null,
            "description_width": ""
          }
        },
        "946c974e545f4e9faa3feaa9de2404a3": {
          "model_module": "@jupyter-widgets/base",
          "model_name": "LayoutModel",
          "model_module_version": "1.2.0",
          "state": {
            "_model_module": "@jupyter-widgets/base",
            "_model_module_version": "1.2.0",
            "_model_name": "LayoutModel",
            "_view_count": null,
            "_view_module": "@jupyter-widgets/base",
            "_view_module_version": "1.2.0",
            "_view_name": "LayoutView",
            "align_content": null,
            "align_items": null,
            "align_self": null,
            "border": null,
            "bottom": null,
            "display": null,
            "flex": null,
            "flex_flow": null,
            "grid_area": null,
            "grid_auto_columns": null,
            "grid_auto_flow": null,
            "grid_auto_rows": null,
            "grid_column": null,
            "grid_gap": null,
            "grid_row": null,
            "grid_template_areas": null,
            "grid_template_columns": null,
            "grid_template_rows": null,
            "height": null,
            "justify_content": null,
            "justify_items": null,
            "left": null,
            "margin": null,
            "max_height": null,
            "max_width": null,
            "min_height": null,
            "min_width": null,
            "object_fit": null,
            "object_position": null,
            "order": null,
            "overflow": null,
            "overflow_x": null,
            "overflow_y": null,
            "padding": null,
            "right": null,
            "top": null,
            "visibility": null,
            "width": null
          }
        },
        "90536b0465e844ca959e2aca963742c1": {
          "model_module": "@jupyter-widgets/controls",
          "model_name": "DescriptionStyleModel",
          "model_module_version": "1.5.0",
          "state": {
            "_model_module": "@jupyter-widgets/controls",
            "_model_module_version": "1.5.0",
            "_model_name": "DescriptionStyleModel",
            "_view_count": null,
            "_view_module": "@jupyter-widgets/base",
            "_view_module_version": "1.2.0",
            "_view_name": "StyleView",
            "description_width": ""
          }
        }
      }
    }
  },
  "nbformat": 4,
  "nbformat_minor": 0
}