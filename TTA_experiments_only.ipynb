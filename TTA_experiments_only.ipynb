{
  "cells": [
    {
      "cell_type": "markdown",
      "metadata": {
        "id": "view-in-github",
        "colab_type": "text"
      },
      "source": [
        "<a href=\"https://colab.research.google.com/github/RachelRamirez/tta/blob/main/TTA_experiments_only.ipynb\" target=\"_parent\"><img src=\"https://colab.research.google.com/assets/colab-badge.svg\" alt=\"Open In Colab\"/></a>"
      ]
    },
    {
      "cell_type": "markdown",
      "source": [
        "# **Comparison of 4 Probabilistics Techniques** "
      ],
      "metadata": {
        "id": "bTsV0gZz-tQ3"
      }
    },
    {
      "cell_type": "markdown",
      "source": [
        "Traditional CNN (baseline),  2 \"Bayesian\" CNNs, and Test-Time Augmentations on CIFAR-9 classes and one novel class"
      ],
      "metadata": {
        "id": "qU2WftRnx2r5"
      }
    },
    {
      "cell_type": "markdown",
      "source": [
        "This is a resource originally about Bayesian Neural Networks,  by TensorChiefs found as supplemental coding material for their book [Probabilistic Deep Learning](https://tensorchiefs.github.io/dl_book/), their original code is [here](https://colab.research.google.com/drive/1ZCNuGd9z_ZvJ7irFH-FQmqlFXP5jeK8z#scrollTo=TNFhkloWTImi). **I  added  Test Time Augmentation.**\n",
        "\n",
        "Future: I plan to add [time and memory run profiles](https://colab.research.google.com/github/jakevdp/PythonDataScienceHandbook/blob/master/notebooks/01.07-Timing-and-Profiling.ipynb#scrollTo=HdeOK7Qhw0wp) to also compare the methods"
      ],
      "metadata": {
        "id": "Gt-QCpnVHyFd"
      }
    },
    {
      "cell_type": "code",
      "source": [
        "#@title Just do TTA experiments? { display-mode: \"form\" }\n",
        "#@markdown This Colab will skip everything but TTA if checked\n",
        "just_TTA  = True #@param {type: \"boolean\"} \n",
        "\n",
        "if just_TTA:\n",
        "  print(\"Will skip everything but TTA experiments\")"
      ],
      "metadata": {
        "id": "9TE-7aBxoXLI",
        "outputId": "1daeb048-796e-40da-984a-3c7cdce87ecb",
        "colab": {
          "base_uri": "https://localhost:8080/"
        }
      },
      "execution_count": 8,
      "outputs": [
        {
          "output_type": "stream",
          "name": "stdout",
          "text": [
            "Will skip everything but TTA experiments\n"
          ]
        }
      ]
    },
    {
      "cell_type": "markdown",
      "metadata": {
        "id": "-aR_ls1Ci-nl"
      },
      "source": [
        "# Cifar10 classification case study with novel class\n"
      ]
    },
    {
      "cell_type": "markdown",
      "source": [
        "## Intro"
      ],
      "metadata": {
        "id": "iM3VBrzs1N88"
      }
    },
    {
      "cell_type": "markdown",
      "source": [
        "\n",
        "**Goal:** In this notebook you will investigate which advantages Bayesian NNs can offer in a classification task. You will use train data from 9 of the 10 classes in the Cifar10 dataset to fit different three probabilistic NN.\n",
        "First you fit a \"traditional\" non-Bayesian NN and then you will fit two Bayesian NN, one via variational inference and one via dropout. You will compare the accuracy of the different NN on the 9 known classes. Further you will investigate and compare the uncertainties expressed by the NNs for both the known classes and unknown class. Finally you will use these uncertainties to detect novel classes and filter out uncertain predictions.\n",
        "\n",
        "**Usage:** The idea of the notebook is that you try to understand the provided code by running it, checking the output and playing with it by slightly changing the code and rerunning it.\n",
        "\n",
        "**Dataset:** You work with the Cifar10 dataset. You have 60'000 32x32 pixel color images of 10 classes (\"airplane\",\"automobile\",\"bird\",\"cat\",\"deer\",\"dog\",\"frog\",\"horse\",\"ship\",\"truck\"). You will delete all images from the class \"horse\" in the training dataset to simulate a novel class. Note that we keep the class \"horse\" in the test dataset.\n",
        "\n",
        "**Content:**\n",
        "* Load the Cifar10 dataset\n",
        "* Delete all images of the class \"horse\" from the training dataset\n",
        "* Split the train dataset into a train and validation dataset (60:40 split) \n",
        "* Fit a non-Bayesian NN \n",
        "* Fit a Bayesian NN via variational inference \n",
        "* Fit a Bayesian NN via dropout \n",
        "* Compare the  of the accuracy of the models on the known classes\n",
        "* Compare the  of the uncertainties of the models on the known and unknown classes\n",
        "* Use the uncertainties to filter uncertain predictions\n",
        "\n",
        "| [open in colab](https://colab.research.google.com/github/tensorchiefs/dl_book/blob/master/chapter_08/nb_ch08_04.ipynb)"
      ],
      "metadata": {
        "id": "NwDpm0Fa1HuH"
      }
    },
    {
      "cell_type": "code",
      "execution_count": 9,
      "metadata": {
        "colab": {
          "base_uri": "https://localhost:8080/"
        },
        "id": "JwdOrJ_JMC4W",
        "outputId": "fbbb012e-0315-4605-b408-260e936b38ac"
      },
      "outputs": [
        {
          "output_type": "stream",
          "name": "stdout",
          "text": [
            "Colab only includes TensorFlow 2.x; %tensorflow_version has no effect.\n"
          ]
        }
      ],
      "source": [
        "try: #If running in colab \n",
        "    import google.colab\n",
        "    IN_COLAB = True \n",
        "    %tensorflow_version 2.x\n",
        "except:\n",
        "    IN_COLAB = False"
      ]
    },
    {
      "cell_type": "code",
      "execution_count": 10,
      "metadata": {
        "colab": {
          "base_uri": "https://localhost:8080/"
        },
        "id": "KdtMWyE3fYI3",
        "outputId": "c8fbe26c-ae9b-433c-93fc-b271d44933dd"
      },
      "outputs": [
        {
          "output_type": "stream",
          "name": "stdout",
          "text": [
            "Tensorflow version:  2.9.2  running in colab?:  True\n"
          ]
        }
      ],
      "source": [
        "import tensorflow as tf\n",
        "if (not tf.__version__.startswith('2')): #Checking if tf 2.0 is installed\n",
        "    print('Please install tensorflow 2.0 to run this notebook')\n",
        "print('Tensorflow version: ',tf.__version__, ' running in colab?: ', IN_COLAB)"
      ]
    },
    {
      "cell_type": "code",
      "execution_count": 11,
      "metadata": {
        "id": "BLerHJCHFWMy"
      },
      "outputs": [],
      "source": [
        "# I commented this out because I think there are too many outdated dependencies\n",
        "\n",
        "# if IN_COLAB:\n",
        "#     !pip install tensorflow_probability==0.8.0"
      ]
    },
    {
      "cell_type": "markdown",
      "metadata": {
        "id": "rE8KfEvxFxq9"
      },
      "source": [
        "#### Imports"
      ]
    },
    {
      "cell_type": "code",
      "execution_count": 12,
      "metadata": {
        "colab": {
          "base_uri": "https://localhost:8080/"
        },
        "id": "ESl26w7xML1z",
        "outputId": "05509f45-29c2-4f49-8995-8a0ed8d9d5d7"
      },
      "outputs": [
        {
          "output_type": "stream",
          "name": "stdout",
          "text": [
            "TFP Version 0.17.0\n",
            "TF  Version 2.9.2\n"
          ]
        }
      ],
      "source": [
        "import matplotlib.pyplot as plt\n",
        "import numpy as np\n",
        "import pandas as pd\n",
        "from tqdm import tqdm_notebook as tqdm\n",
        "import urllib.request\n",
        "from sklearn.model_selection import train_test_split\n",
        "\n",
        "#I added this below from StackOverflow to see if it wouldsolve import issues\n",
        "#https://stackoverflow.com/questions/62743492/cannot-import-tensorflow-probability\n",
        "# !pip install --upgrade tf_agents\n",
        "\n",
        "import tensorflow_probability as tfp\n",
        "\n",
        "%matplotlib inline\n",
        "plt.style.use('default')\n",
        "\n",
        "print(\"TFP Version\", tfp.__version__)\n",
        "print(\"TF  Version\",tf.__version__)\n",
        "\n",
        "## Adding Test time Augmentation TTA\n",
        "import keras\n",
        "from keras.preprocessing.image import ImageDataGenerator\n",
        "from keras.utils import to_categorical"
      ]
    },
    {
      "cell_type": "markdown",
      "metadata": {
        "id": "BmemfmRxF0pt"
      },
      "source": [
        "In the next cell you disable the tensorflow eager mode. We need to do this because otherwise we would get errors for the variational inference NN and we  would not be able to turn on and off the dropout in the MC dropout NN."
      ]
    },
    {
      "cell_type": "code",
      "execution_count": 13,
      "metadata": {
        "id": "XHzeQBbhcV3W"
      },
      "outputs": [],
      "source": [
        "from tensorflow.python.framework.ops import disable_eager_execution\n",
        "disable_eager_execution()"
      ]
    },
    {
      "cell_type": "markdown",
      "metadata": {
        "id": "APxoLqsjkM31"
      },
      "source": [
        "#### Loading and preparation of the dataset\n",
        "\n",
        "Let's load the cifar 10 dataset. It is already splited into a train and test dataset. To get a feeling for the dataset, you plot a random example of each class of the trainingset. You can see that the images are quite small and its not always easy to see the class on the image."
      ]
    },
    {
      "cell_type": "code",
      "execution_count": 14,
      "metadata": {
        "id": "RHnWbEuDMzKv",
        "outputId": "89703977-ea4c-4003-ad17-9b7305f6a1fa",
        "colab": {
          "base_uri": "https://localhost:8080/"
        }
      },
      "outputs": [
        {
          "output_type": "stream",
          "name": "stdout",
          "text": [
            "Downloading data from https://www.cs.toronto.edu/~kriz/cifar-10-python.tar.gz\n",
            "170498071/170498071 [==============================] - 6s 0us/step\n"
          ]
        }
      ],
      "source": [
        "(x_train, y_train), (x_test, y_test) = tf.keras.datasets.cifar10.load_data()"
      ]
    },
    {
      "cell_type": "code",
      "execution_count": 15,
      "metadata": {
        "colab": {
          "base_uri": "https://localhost:8080/",
          "height": 227
        },
        "id": "bAqFwLxMPHQU",
        "outputId": "e35303c4-4dc0-4f22-f712-5ab0c48ad701"
      },
      "outputs": [
        {
          "output_type": "stream",
          "name": "stderr",
          "text": [
            "<ipython-input-15-012e5f5aa791>:10: DeprecationWarning: `np.str` is a deprecated alias for the builtin `str`. To silence this warning, use `str` by itself. Doing this will not modify any behavior and is safe. If you specifically wanted the numpy scalar type, use `np.str_` here.\n",
            "Deprecated in NumPy 1.20; for more details and guidance: https://numpy.org/devdocs/release/1.20.0-notes.html#deprecations\n",
            "  plt.title(np.str(y_train[rmd][0][0])+ \": \" +labels[i],fontsize=16)\n"
          ]
        },
        {
          "output_type": "display_data",
          "data": {
            "text/plain": [
              "<Figure size 2000x2000 with 10 Axes>"
            ],
            "image/png": "[encoded data removed]"
          },
          "metadata": {}
        }
      ],
      "source": [
        "labels=np.array([\"airplane\",\"automobile\",\"bird\",\"cat\",\"deer\",\"dog\",\"frog\",\"horse\",\"ship\",\"truck\"])\n",
        "#sample image of each label\n",
        "np.random.seed(22)\n",
        "plt.figure(figsize=(20,20))\n",
        "for i in range(0,len(np.unique(y_train))):\n",
        "    rmd=np.random.choice(np.where(y_train==i)[0],1)\n",
        "    plt.subplot(1,10,i+1)\n",
        "    img=x_train[rmd]\n",
        "    plt.imshow(img[0,:,:,:])\n",
        "    plt.title(np.str(y_train[rmd][0][0])+ \": \" +labels[i],fontsize=16)\n",
        "plt.savefig(\"Figure_8_cifar.pdf\")\n",
        "#from google.colab import files\n",
        "#files.download('Figure_8_cifar.pdf') \n"
      ]
    },
    {
      "cell_type": "markdown",
      "metadata": {
        "id": "MQZdM-PHG2x2"
      },
      "source": [
        "To simualte a novel class, you will delete all images of the class \"horse\" from the traning dataset. Note that you do this only in the trainset, the test dataset stays the same. In the train dataset you will now have 9 classes with 5'000 images of every class, in total 45'000 images. This will be your traning dataset for the three models.   "
      ]
    },
    {
      "cell_type": "code",
      "execution_count": 16,
      "metadata": {
        "colab": {
          "base_uri": "https://localhost:8080/"
        },
        "id": "Go4tZ3Xwf8Wc",
        "outputId": "31d78169-2e80-4a19-baba-9ffb131c79e8"
      },
      "outputs": [
        {
          "output_type": "stream",
          "name": "stdout",
          "text": [
            "(45000,)\n",
            "(45000, 32, 32, 3)\n",
            "(45000, 9)\n"
          ]
        }
      ],
      "source": [
        "y_train_no_horse=np.delete(y_train,np.where(y_train==7)[0])\n",
        "x_train_no_horse=np.delete(x_train,np.where(y_train==7)[0],axis=0)\n",
        "print(y_train_no_horse.shape)\n",
        "print(x_train_no_horse.shape)\n",
        "y_train_no_horse=np.array(pd.get_dummies(y_train_no_horse))\n",
        "labels_no_horse=np.array([\"airplane\",\"automobile\",\"bird\",\"cat\",\"deer\",\"dog\",\"frog\",\"ship\",\"truck\"])\n",
        "print(y_train_no_horse.shape)"
      ]
    },
    {
      "cell_type": "markdown",
      "metadata": {
        "id": "ymY2h4GzLrQe"
      },
      "source": [
        "Now you split the new training dataset without the horses randomly into a train and validationset. You use a 60:40 ratio for the split, so you have 27'000 train images with 9 classes and 18'000 validation images with 9 classes. The test dataset has 10'000 images and 10 classes. Note that we have a novel (unknown) class \"horse\" in the testset."
      ]
    },
    {
      "cell_type": "code",
      "execution_count": 17,
      "metadata": {
        "colab": {
          "base_uri": "https://localhost:8080/"
        },
        "id": "pfTBvgg8SkiZ",
        "outputId": "2336c267-7eed-4e6e-fc27-3fc848922aa4"
      },
      "outputs": [
        {
          "output_type": "stream",
          "name": "stdout",
          "text": [
            "(27000, 32, 32, 3)\n",
            "(27000, 9)\n",
            "(18000, 32, 32, 3)\n",
            "(18000, 9)\n",
            "(10000, 32, 32, 3)\n",
            "(10000, 1)\n"
          ]
        },
        {
          "output_type": "execute_result",
          "data": {
            "text/plain": [
              "(-1.0, 1.0)"
            ]
          },
          "metadata": {},
          "execution_count": 17
        }
      ],
      "source": [
        "from sklearn.model_selection import train_test_split\n",
        "x_train, x_val, y_train, y_val = train_test_split(x_train_no_horse, y_train_no_horse, test_size=0.4, random_state=22)\n",
        "print(x_train.shape)\n",
        "print(y_train.shape)\n",
        "print(x_val.shape)\n",
        "print(y_val.shape)\n",
        "print(x_test.shape)\n",
        "print(y_test.shape)\n",
        "\n",
        "#Before training the NNs with the data, we normalize the data to be in the range between -1 and 1. \n",
        "x_train=((x_train/255)-0.5)*2\n",
        "x_val=((x_val/255)-0.5)*2\n",
        "x_test=((x_test/255)-0.5)*2\n",
        "\n",
        "x_test.min(), x_test.max()"
      ]
    },
    {
      "cell_type": "code",
      "source": [
        "#Experiment to bring it back to 0 and 255\n",
        "x_test_exp=((x_test/2)+0.5)*255\n",
        "x_test_exp.min(), x_test_exp.max()\n",
        "\n",
        "# Experiment with experument to bring it to 0 and 1.\n",
        "def revertscale_fn(img):\n",
        "    img = img.astype(np.float32) / 2\n",
        "    img = (img + 0.5) * 255\n",
        "    return img\n",
        "# gen = ImageDataGenerator(\n",
        "#     preprocessing_function=revertscale_fn,\n",
        "#     rescale = 1./255,\n",
        "# )"
      ],
      "metadata": {
        "id": "uLC0VoMWr0el"
      },
      "execution_count": 18,
      "outputs": []
    },
    {
      "cell_type": "markdown",
      "metadata": {
        "id": "dVA0YHjvYlB_"
      },
      "source": [
        "## Non-Bayesian CNN\n",
        "\n",
        "In this section we use a CNN with two convolutional blocks, followed by maxpooling layers. You use 8 kernels with the size 3x3 in the first convolutional block and in the second block you use 16 kernels with the size 3x3. The maxpoolingsize is 2x2 pixels. After the feature extraction you use a flatten layer and do the classification with 3 fully connected layers. Because the training takes a lot of time, you will load an already trained CNN with the learning curve."
      ]
    },
    {
      "cell_type": "code",
      "execution_count": 19,
      "metadata": {
        "colab": {
          "base_uri": "https://localhost:8080/"
        },
        "id": "XLOW7UPyYkKw",
        "outputId": "53401408-3014-4d27-a980-44836059b88a"
      },
      "outputs": [
        {
          "output_type": "stream",
          "name": "stdout",
          "text": [
            "Model: \"sequential\"\n",
            "_________________________________________________________________\n",
            " Layer (type)                Output Shape              Param #   \n",
            "=================================================================\n",
            " conv2d (Conv2D)             (None, 32, 32, 8)         224       \n",
            "                                                                 \n",
            " conv2d_1 (Conv2D)           (None, 32, 32, 8)         584       \n",
            "                                                                 \n",
            " max_pooling2d (MaxPooling2D  (None, 16, 16, 8)        0         \n",
            " )                                                               \n",
            "                                                                 \n",
            " conv2d_2 (Conv2D)           (None, 16, 16, 16)        1168      \n",
            "                                                                 \n",
            " conv2d_3 (Conv2D)           (None, 16, 16, 16)        2320      \n",
            "                                                                 \n",
            " max_pooling2d_1 (MaxPooling  (None, 8, 8, 16)         0         \n",
            " 2D)                                                             \n",
            "                                                                 \n",
            " flatten (Flatten)           (None, 1024)              0         \n",
            "                                                                 \n",
            " dense (Dense)               (None, 100)               102500    \n",
            "                                                                 \n",
            " dropout (Dropout)           (None, 100)               0         \n",
            "                                                                 \n",
            " dense_1 (Dense)             (None, 100)               10100     \n",
            "                                                                 \n",
            " dropout_1 (Dropout)         (None, 100)               0         \n",
            "                                                                 \n",
            " dense_2 (Dense)             (None, 9)                 909       \n",
            "                                                                 \n",
            "=================================================================\n",
            "Total params: 117,805\n",
            "Trainable params: 117,805\n",
            "Non-trainable params: 0\n",
            "_________________________________________________________________\n"
          ]
        }
      ],
      "source": [
        "from tensorflow.keras.layers import Convolution2D,MaxPooling2D,Dropout,Flatten,Dense\n",
        "from tensorflow.keras import Sequential\n",
        "\n",
        "model = Sequential()\n",
        "model.add(Convolution2D(8,kernel_size=(3,3),padding=\"same\", activation = 'relu',input_shape=(32,32,3)))\n",
        "model.add(Convolution2D(8,kernel_size=(3,3),padding=\"same\", activation = 'relu'))\n",
        "model.add(MaxPooling2D((2,2)))\n",
        "model.add(Convolution2D(16,kernel_size=(3,3),padding=\"same\", activation = 'relu'))\n",
        "model.add(Convolution2D(16,kernel_size=(3,3),padding=\"same\", activation = 'relu'))\n",
        "model.add(MaxPooling2D((2,2)))\n",
        "model.add(Flatten())\n",
        "model.add(Dense(100, activation = 'relu'))\n",
        "model.add(Dropout((0.5)))\n",
        "model.add(Dense(100, activation = 'relu'))\n",
        "model.add(Dropout((0.5)))\n",
        "model.add(Dense(9, activation = 'softmax'))\n",
        "\n",
        "model.compile(loss='categorical_crossentropy', optimizer=\"adam\", metrics=['accuracy'])\n",
        "\n",
        "model.summary()"
      ]
    },
    {
      "cell_type": "code",
      "execution_count": 20,
      "metadata": {
        "colab": {
          "base_uri": "https://localhost:8080/",
          "height": 487
        },
        "id": "PMB1B7hjYkFg",
        "outputId": "3a46c453-eaf2-4825-f526-b0c9e531291a"
      },
      "outputs": [
        {
          "output_type": "display_data",
          "data": {
            "text/plain": [
              "<Figure size 1200x500 with 2 Axes>"
            ],
            "image/png": "[encoded data removed]"
          },
          "metadata": {}
        }
      ],
      "source": [
        "urllib.request.urlretrieve(\"https://raw.githubusercontent.com/tensorchiefs/dl_book/master/data/history_baseline_cifar10.csv\", \"history_baseline_cifar10.csv\")\n",
        "history=np.loadtxt(\"history_baseline_cifar10.csv\",delimiter=\",\")\n",
        "\n",
        "plt.figure(figsize=(12,5))\n",
        "plt.subplot(1,2,1)\n",
        "plt.plot(history[:,0])\n",
        "plt.plot(history[:,1])\n",
        "plt.ylim(0, 1)\n",
        "plt.title('model accuracy')\n",
        "plt.ylabel('accuracy')\n",
        "plt.xlabel('epoch')\n",
        "plt.legend(['train', 'valid'], loc='lower right')\n",
        "plt.subplot(1,2,2)\n",
        "plt.plot(history[:,2])\n",
        "plt.plot(history[:,3])\n",
        "plt.title('model loss')\n",
        "plt.ylabel('loss')\n",
        "plt.xlabel('epoch')\n",
        "plt.legend(['train', 'valid'], loc='upper right')\n",
        "plt.show()"
      ]
    },
    {
      "cell_type": "code",
      "execution_count": 21,
      "metadata": {
        "id": "sqwqWP8R4_6Y"
      },
      "outputs": [],
      "source": [
        "# load trained weights of the model\n",
        "urllib.request.urlretrieve(\"https://raw.githubusercontent.com/tensorchiefs/dl_book/master/data/model_cifar10_weights.hdf5\", \"model_cifar10_weights.hdf5\")\n",
        "model.load_weights(\"model_cifar10_weights.hdf5\")"
      ]
    },
    {
      "cell_type": "markdown",
      "source": [
        "what is the given acuracy on the train and val set?"
      ],
      "metadata": {
        "id": "IVReQ86HyWb3"
      }
    },
    {
      "cell_type": "code",
      "source": [],
      "metadata": {
        "id": "kHWYIGcIyaDs"
      },
      "execution_count": 21,
      "outputs": []
    },
    {
      "cell_type": "markdown",
      "metadata": {
        "id": "WBqfSpLWhNNH"
      },
      "source": [
        "## Accuracy on the the known labels in the train set for all three models \n",
        "In this section you will calculate the accuracies and of all three models. For the non bayesian NN, you will predict every test image once and for the two bayesian NN, you will predict every image 50 times and then takes the mean of all predicted classes. \n",
        "\n",
        "\n",
        "\n"
      ]
    },
    {
      "cell_type": "markdown",
      "metadata": {
        "id": "b9fsQMnMpRgz"
      },
      "source": [
        "Here you save the indices of the known and the unknown (horse) classes. You will use them later to evaluate the uncertainty measures."
      ]
    },
    {
      "cell_type": "code",
      "execution_count": 22,
      "metadata": {
        "colab": {
          "base_uri": "https://localhost:8080/"
        },
        "id": "SvNbeGEtKcNb",
        "outputId": "6f6b14df-df22-4483-856d-f9536a5302c6"
      },
      "outputs": [
        {
          "output_type": "stream",
          "name": "stdout",
          "text": [
            "9000\n",
            "1000\n"
          ]
        }
      ],
      "source": [
        "known_idx=np.where(y_test!=7)[0]\n",
        "unknown_idx=np.where(y_test==7)[0]\n",
        "\n",
        "print(len(known_idx))\n",
        "print(len(unknown_idx))"
      ]
    },
    {
      "cell_type": "markdown",
      "metadata": {
        "id": "8Ja_1L-xp-9u"
      },
      "source": [
        "#### Non-Bayesian prediction\n",
        "\n",
        "Here you predict the labels for the non-bayesian CNN and calculate the uncertainty measures. You calculate the nll and the entropy, note that there is no total standart deviation in the non-bayesian model, because the same image will always get the same prediction. This is also the reason why we don't need to predict the same image for multiple times."
      ]
    },
    {
      "cell_type": "code",
      "source": [
        "# This is how you get accuracy from the Baseline Vanilla CNN. These predictions only work for deterministic sources\n",
        "\n",
        "# pred=model.predict(x_test)\n",
        "# pred_max_p=np.max(pred,axis=1)\n",
        "# entropy=np.array([-np.sum( pred[i] * np.log2(pred[i] + 1E-14)) for i in range(0,len(pred))])\n",
        "# nll_=-np.log(pred_max_p)\n",
        "# pred_labels=np.array([labels_no_horse[np.argmax(pred[i])] for i in range(0,len(pred))])\n",
        "# true_labels=np.array([labels[y_test[i][0]] for i in range(0,len(y_test))])\n",
        "\n",
        "# test_acc_all=np.average(true_labels==pred_labels)\n",
        "# test_acc_known=np.average(true_labels[known_idx]==pred_labels[known_idx])\n",
        "# test_acc_all, test_acc_known"
      ],
      "metadata": {
        "id": "oml843PryqkZ"
      },
      "execution_count": 23,
      "outputs": []
    },
    {
      "cell_type": "code",
      "execution_count": 24,
      "metadata": {
        "colab": {
          "base_uri": "https://localhost:8080/"
        },
        "id": "K-bOyOue0_hj",
        "outputId": "a5f9a7db-4e9a-4621-f9d7-99ab470fe9b7"
      },
      "outputs": [
        {
          "output_type": "stream",
          "name": "stderr",
          "text": [
            "/usr/local/lib/python3.8/dist-packages/keras/engine/training_v1.py:2067: UserWarning: `Model.state_updates` will be removed in a future version. This property should not be used in TensorFlow 2.0, as `updates` are applied automatically.\n",
            "  updates=self.state_updates,\n"
          ]
        }
      ],
      "source": [
        "pred=model.predict(x_test)\n",
        "pred_max_p=np.max(pred,axis=1)\n",
        "entropy=np.array([-np.sum( pred[i] * np.log2(pred[i] + 1E-14)) for i in range(0,len(pred))])\n",
        "nll_=-np.log(pred_max_p)\n",
        "pred_labels=np.array([labels_no_horse[np.argmax(pred[i])] for i in range(0,len(pred))])\n",
        "true_labels=np.array([labels[y_test[i][0]] for i in range(0,len(y_test))])\n",
        " "
      ]
    },
    {
      "cell_type": "code",
      "execution_count": 41,
      "metadata": {
        "colab": {
          "base_uri": "https://localhost:8080/"
        },
        "id": "R98YlXwe0_bS",
        "outputId": "dfb7d243-49a8-44c2-9fed-0f9294ab06c3"
      },
      "outputs": [
        {
          "output_type": "execute_result",
          "data": {
            "text/plain": [
              "(0.5845, 0.6494444444444445)"
            ]
          },
          "metadata": {},
          "execution_count": 41
        }
      ],
      "source": [
        "\n",
        "test_acc_all=np.average(true_labels==pred_labels)\n",
        "test_acc_known=np.average(true_labels[known_idx]==pred_labels[known_idx])\n",
        "test_acc_all, test_acc_known"
      ]
    },
    {
      "cell_type": "markdown",
      "source": [
        "#### Load Neptune to Track Experiments"
      ],
      "metadata": {
        "id": "iEOTY2UNLtQO"
      }
    },
    {
      "cell_type": "code",
      "source": [
        "pip install neptune-client"
      ],
      "metadata": {
        "id": "QxH02s_XLs_G",
        "outputId": "9d2701d5-93f0-4ca2-eca5-9e83478d00b6",
        "colab": {
          "base_uri": "https://localhost:8080/"
        }
      },
      "execution_count": 1,
      "outputs": [
        {
          "output_type": "stream",
          "name": "stdout",
          "text": [
            "Looking in indexes: https://pypi.org/simple, https://us-python.pkg.dev/colab-wheels/public/simple/\n",
            "Collecting neptune-client\n",
            "  Downloading neptune_client-0.16.14-py3-none-any.whl (439 kB)\n",
            "\u001b[K     |████████████████████████████████| 439 kB 13.2 MB/s \n",
            "\u001b[?25hRequirement already satisfied: packaging in /usr/local/lib/python3.8/dist-packages (from neptune-client) (21.3)\n",
            "Collecting websocket-client!=1.0.0,>=0.35.0\n",
            "  Downloading websocket_client-1.4.2-py3-none-any.whl (55 kB)\n",
            "\u001b[K     |████████████████████████████████| 55 kB 1.5 MB/s \n",
            "\u001b[?25hCollecting PyJWT\n",
            "  Downloading PyJWT-2.6.0-py3-none-any.whl (20 kB)\n",
            "Requirement already satisfied: Pillow>=1.1.6 in /usr/local/lib/python3.8/dist-packages (from neptune-client) (7.1.2)\n",
            "Collecting GitPython>=2.0.8\n",
            "  Downloading GitPython-3.1.29-py3-none-any.whl (182 kB)\n",
            "\u001b[K     |████████████████████████████████| 182 kB 52.2 MB/s \n",
            "\u001b[?25hRequirement already satisfied: requests>=2.20.0 in /usr/local/lib/python3.8/dist-packages (from neptune-client) (2.23.0)\n",
            "Collecting bravado<12.0.0,>=11.0.0\n",
            "  Downloading bravado-11.0.3-py2.py3-none-any.whl (38 kB)\n",
            "Requirement already satisfied: urllib3 in /usr/local/lib/python3.8/dist-packages (from neptune-client) (1.24.3)\n",
            "Requirement already satisfied: click>=7.0 in /usr/local/lib/python3.8/dist-packages (from neptune-client) (7.1.2)\n",
            "Requirement already satisfied: oauthlib>=2.1.0 in /usr/local/lib/python3.8/dist-packages (from neptune-client) (3.2.2)\n",
            "Collecting boto3>=1.16.0\n",
            "  Downloading boto3-1.26.25-py3-none-any.whl (132 kB)\n",
            "\u001b[K     |████████████████████████████████| 132 kB 33.1 MB/s \n",
            "\u001b[?25hCollecting swagger-spec-validator>=2.7.4\n",
            "  Downloading swagger_spec_validator-3.0.3-py2.py3-none-any.whl (27 kB)\n",
            "Requirement already satisfied: six>=1.12.0 in /usr/local/lib/python3.8/dist-packages (from neptune-client) (1.15.0)\n",
            "Requirement already satisfied: requests-oauthlib>=1.0.0 in /usr/local/lib/python3.8/dist-packages (from neptune-client) (1.3.1)\n",
            "Collecting future>=0.17.1\n",
            "  Downloading future-0.18.2.tar.gz (829 kB)\n",
            "\u001b[K     |████████████████████████████████| 829 kB 26.6 MB/s \n",
            "\u001b[?25hRequirement already satisfied: pandas in /usr/local/lib/python3.8/dist-packages (from neptune-client) (1.3.5)\n",
            "Requirement already satisfied: psutil in /usr/local/lib/python3.8/dist-packages (from neptune-client) (5.4.8)\n",
            "Collecting botocore<1.30.0,>=1.29.25\n",
            "  Downloading botocore-1.29.25-py3-none-any.whl (10.2 MB)\n",
            "\u001b[K     |████████████████████████████████| 10.2 MB 57.7 MB/s \n",
            "\u001b[?25hCollecting jmespath<2.0.0,>=0.7.1\n",
            "  Downloading jmespath-1.0.1-py3-none-any.whl (20 kB)\n",
            "Collecting s3transfer<0.7.0,>=0.6.0\n",
            "  Downloading s3transfer-0.6.0-py3-none-any.whl (79 kB)\n",
            "\u001b[K     |████████████████████████████████| 79 kB 3.9 MB/s \n",
            "\u001b[?25hRequirement already satisfied: python-dateutil<3.0.0,>=2.1 in /usr/local/lib/python3.8/dist-packages (from botocore<1.30.0,>=1.29.25->boto3>=1.16.0->neptune-client) (2.8.2)\n",
            "Collecting urllib3\n",
            "  Downloading urllib3-1.26.13-py2.py3-none-any.whl (140 kB)\n",
            "\u001b[K     |████████████████████████████████| 140 kB 52.0 MB/s \n",
            "\u001b[?25hRequirement already satisfied: pyyaml in /usr/local/lib/python3.8/dist-packages (from bravado<12.0.0,>=11.0.0->neptune-client) (6.0)\n",
            "Collecting bravado-core>=5.16.1\n",
            "  Downloading bravado_core-5.17.1-py2.py3-none-any.whl (67 kB)\n",
            "\u001b[K     |████████████████████████████████| 67 kB 3.0 MB/s \n",
            "\u001b[?25hCollecting monotonic\n",
            "  Downloading monotonic-1.6-py2.py3-none-any.whl (8.2 kB)\n",
            "Requirement already satisfied: typing-extensions in /usr/local/lib/python3.8/dist-packages (from bravado<12.0.0,>=11.0.0->neptune-client) (4.4.0)\n",
            "Requirement already satisfied: msgpack in /usr/local/lib/python3.8/dist-packages (from bravado<12.0.0,>=11.0.0->neptune-client) (1.0.4)\n",
            "Collecting simplejson\n",
            "  Downloading simplejson-3.18.0-cp38-cp38-manylinux_2_5_x86_64.manylinux1_x86_64.manylinux_2_12_x86_64.manylinux2010_x86_64.whl (139 kB)\n",
            "\u001b[K     |████████████████████████████████| 139 kB 59.9 MB/s \n",
            "\u001b[?25hRequirement already satisfied: pytz in /usr/local/lib/python3.8/dist-packages (from bravado-core>=5.16.1->bravado<12.0.0,>=11.0.0->neptune-client) (2022.6)\n",
            "Requirement already satisfied: jsonschema[format]>=2.5.1 in /usr/local/lib/python3.8/dist-packages (from bravado-core>=5.16.1->bravado<12.0.0,>=11.0.0->neptune-client) (4.3.3)\n",
            "Collecting jsonref\n",
            "  Downloading jsonref-1.0.1-py3-none-any.whl (9.5 kB)\n",
            "Collecting gitdb<5,>=4.0.1\n",
            "  Downloading gitdb-4.0.10-py3-none-any.whl (62 kB)\n",
            "\u001b[K     |████████████████████████████████| 62 kB 798 kB/s \n",
            "\u001b[?25hCollecting smmap<6,>=3.0.1\n",
            "  Downloading smmap-5.0.0-py3-none-any.whl (24 kB)\n",
            "Requirement already satisfied: importlib-resources>=1.4.0 in /usr/local/lib/python3.8/dist-packages (from jsonschema[format]>=2.5.1->bravado-core>=5.16.1->bravado<12.0.0,>=11.0.0->neptune-client) (5.10.0)\n",
            "Requirement already satisfied: attrs>=17.4.0 in /usr/local/lib/python3.8/dist-packages (from jsonschema[format]>=2.5.1->bravado-core>=5.16.1->bravado<12.0.0,>=11.0.0->neptune-client) (22.1.0)\n",
            "Requirement already satisfied: pyrsistent!=0.17.0,!=0.17.1,!=0.17.2,>=0.14.0 in /usr/local/lib/python3.8/dist-packages (from jsonschema[format]>=2.5.1->bravado-core>=5.16.1->bravado<12.0.0,>=11.0.0->neptune-client) (0.19.2)\n",
            "Collecting rfc3339-validator\n",
            "  Downloading rfc3339_validator-0.1.4-py2.py3-none-any.whl (3.5 kB)\n",
            "Collecting uri-template\n",
            "  Downloading uri_template-1.2.0-py3-none-any.whl (10 kB)\n",
            "Collecting fqdn\n",
            "  Downloading fqdn-1.5.1-py3-none-any.whl (9.1 kB)\n",
            "Collecting jsonpointer>1.13\n",
            "  Downloading jsonpointer-2.3-py2.py3-none-any.whl (7.8 kB)\n",
            "Collecting rfc3987\n",
            "  Downloading rfc3987-1.3.8-py2.py3-none-any.whl (13 kB)\n",
            "Requirement already satisfied: idna in /usr/local/lib/python3.8/dist-packages (from jsonschema[format]>=2.5.1->bravado-core>=5.16.1->bravado<12.0.0,>=11.0.0->neptune-client) (2.10)\n",
            "Collecting isoduration\n",
            "  Downloading isoduration-20.11.0-py3-none-any.whl (11 kB)\n",
            "Collecting webcolors>=1.11\n",
            "  Downloading webcolors-1.12-py3-none-any.whl (9.9 kB)\n",
            "Requirement already satisfied: zipp>=3.1.0 in /usr/local/lib/python3.8/dist-packages (from importlib-resources>=1.4.0->jsonschema[format]>=2.5.1->bravado-core>=5.16.1->bravado<12.0.0,>=11.0.0->neptune-client) (3.11.0)\n",
            "Requirement already satisfied: chardet<4,>=3.0.2 in /usr/local/lib/python3.8/dist-packages (from requests>=2.20.0->neptune-client) (3.0.4)\n",
            "Collecting urllib3\n",
            "  Downloading urllib3-1.25.11-py2.py3-none-any.whl (127 kB)\n",
            "\u001b[K     |████████████████████████████████| 127 kB 30.4 MB/s \n",
            "\u001b[?25hRequirement already satisfied: certifi>=2017.4.17 in /usr/local/lib/python3.8/dist-packages (from requests>=2.20.0->neptune-client) (2022.9.24)\n",
            "Collecting arrow>=0.15.0\n",
            "  Downloading arrow-1.2.3-py3-none-any.whl (66 kB)\n",
            "\u001b[K     |████████████████████████████████| 66 kB 5.4 MB/s \n",
            "\u001b[?25hRequirement already satisfied: pyparsing!=3.0.5,>=2.0.2 in /usr/local/lib/python3.8/dist-packages (from packaging->neptune-client) (3.0.9)\n",
            "Requirement already satisfied: numpy>=1.17.3 in /usr/local/lib/python3.8/dist-packages (from pandas->neptune-client) (1.21.6)\n",
            "Building wheels for collected packages: future\n",
            "  Building wheel for future (setup.py) ... \u001b[?25l\u001b[?25hdone\n",
            "  Created wheel for future: filename=future-0.18.2-py3-none-any.whl size=491071 sha256=77014c70b3cbf6e3d3375876106d9b68fa188a0a1b30217ec885959dee6056c8\n",
            "  Stored in directory: /root/.cache/pip/wheels/8e/70/28/3d6ccd6e315f65f245da085482a2e1c7d14b90b30f239e2cf4\n",
            "Successfully built future\n",
            "Installing collected packages: arrow, webcolors, urllib3, uri-template, rfc3987, rfc3339-validator, jsonpointer, jmespath, isoduration, fqdn, swagger-spec-validator, smmap, simplejson, jsonref, botocore, s3transfer, monotonic, gitdb, bravado-core, websocket-client, PyJWT, GitPython, future, bravado, boto3, neptune-client\n",
            "  Attempting uninstall: urllib3\n",
            "    Found existing installation: urllib3 1.24.3\n",
            "    Uninstalling urllib3-1.24.3:\n",
            "      Successfully uninstalled urllib3-1.24.3\n",
            "  Attempting uninstall: future\n",
            "    Found existing installation: future 0.16.0\n",
            "    Uninstalling future-0.16.0:\n",
            "      Successfully uninstalled future-0.16.0\n",
            "Successfully installed GitPython-3.1.29 PyJWT-2.6.0 arrow-1.2.3 boto3-1.26.25 botocore-1.29.25 bravado-11.0.3 bravado-core-5.17.1 fqdn-1.5.1 future-0.18.2 gitdb-4.0.10 isoduration-20.11.0 jmespath-1.0.1 jsonpointer-2.3 jsonref-1.0.1 monotonic-1.6 neptune-client-0.16.14 rfc3339-validator-0.1.4 rfc3987-1.3.8 s3transfer-0.6.0 simplejson-3.18.0 smmap-5.0.0 swagger-spec-validator-3.0.3 uri-template-1.2.0 urllib3-1.25.11 webcolors-1.12 websocket-client-1.4.2\n"
          ]
        }
      ]
    },
    {
      "cell_type": "code",
      "source": [
        "import neptune.new as neptune\n"
      ],
      "metadata": {
        "id": "UNYO-XeiL2I8"
      },
      "execution_count": 2,
      "outputs": []
    },
    {
      "cell_type": "code",
      "source": [
        "run = neptune.init(\n",
        "    project=\"rachel.ramirez2006/VanillaCNN-CIFAR10-TTA-Keras\",\n",
        "    api_token=\"eyJhcGlfYWRkcmVzcyI6Imh0dHBzOi8vYXBwLm5lcHR1bmUuYWkiLCJhcGlfdXJsIjoiaHR0cHM6Ly9hcHAubmVwdHVuZS5haSIsImFwaV9rZXkiOiI4NWZjMGEyYy1mZGI3LTQ1NWMtOGUyZi0wODc2OWI2OGU3NzcifQ==\",\n",
        ")  # your credentials"
      ],
      "metadata": {
        "id": "_lSZknYQL38h",
        "outputId": "40ccc9a9-fcab-440a-b806-c9bf45d15678",
        "colab": {
          "base_uri": "https://localhost:8080/"
        }
      },
      "execution_count": 43,
      "outputs": [
        {
          "output_type": "stream",
          "name": "stdout",
          "text": [
            "https://app.neptune.ai/rachel.ramirez2006/VanillaCNN-CIFAR10-TTA-Keras/e/VAN-3\n",
            "Remember to stop your run once you’ve finished logging your metadata (https://docs.neptune.ai/api/run#stop). It will be stopped automatically only when the notebook kernel/interactive console is terminated.\n"
          ]
        }
      ]
    },
    {
      "cell_type": "markdown",
      "source": [
        "#### 🆕 Test Time Augmentation\n",
        "\n",
        "Here I predict the labels for the traditional CNN with Test Time Augmentation and possibly calculate the uncertainty measures.  I predict the same image for 50 times and calculate the mean predicted probabilities, the nll, the entropy, and total standard deviations. "
      ],
      "metadata": {
        "id": "ErVsj1dAKSXs"
      }
    },
    {
      "cell_type": "code",
      "source": [
        "# # My TTA was 0.09, which makes me think there is a disconnect between the types of format for x_train, x_val, or x_test being in the format specified here between -1 and 1 and the TTA notebook where it is simply between 0 and 1.\n",
        "# # So my first step is to try to display the pictures\n",
        "# train_datagen = ImageDataGenerator(\n",
        "        \n",
        "#        preprocessing_function=revertscale_fn,   #yay that worked\n",
        "#        rescale = 1./255,\n",
        "#        shear_range=0.1,\n",
        "#        zoom_range=0.1,\n",
        "#        horizontal_flip=True,\n",
        "#        rotation_range=10.,\n",
        "#        fill_mode='reflect',\n",
        "#        width_shift_range = 0.1, \n",
        "#        height_shift_range = 0.1)\n",
        "\n",
        "# train_datagen.fit(x_train)\n",
        "\n",
        "# plt.figure(figsize=(10,5))\n",
        "\n",
        "# for X_batch, y_batch in train_datagen.flow(x_train, y_train, batch_size=15):\n",
        "#     for i in range(0, 15):\n",
        "#         plt.subplot(3, 5, i+1)\n",
        "#         plt.imshow(X_batch[i].reshape(32, 32, 3), cmap=plt.get_cmap('gray'))\n",
        "#         plt.axis('off')\n",
        "#     plt.tight_layout(pad=0.1)\n",
        "#     plt.show()\n",
        "#     break"
      ],
      "metadata": {
        "id": "X90Vqw4KYLfN"
      },
      "execution_count": 44,
      "outputs": []
    },
    {
      "metadata": {
        "id": "_ICzIOrPQ6Lu"
      },
      "cell_type": "markdown",
      "source": [
        "Define the Test Time Image Generator\n",
        "\n",
        "Keras has predefined choices of [augmentations defined here](https://www.tensorflow.org/api_docs/python/tf/keras/preprocessing/image/ImageDataGenerator) and explained visually well [here](https://towardsdatascience.com/exploring-image-data-augmentation-with-keras-and-tensorflow-a8162d89b844) in a TowardsDataScience Medium Blog Post "
      ]
    },
    {
      "metadata": {
        "id": "9zJGPFtEQ6Lw"
      },
      "cell_type": "code",
      "source": [
        "tta_steps = 50\n",
        "bs = 64\n",
        "# epochs = 15"
      ],
      "execution_count": 45,
      "outputs": []
    },
    {
      "cell_type": "markdown",
      "source": [
        "There are the original tried test_datagen that have resulted in the highest accuracy scores:\n",
        "\n",
        "        shear_range=0.1,\n",
        "        zoom_range=0.1,\n",
        "        horizontal_flip=True,\n",
        "        rotation_range=10.,\n",
        "        fill_mode='reflect', \n",
        "        width_shift_range = 0.1, \n",
        "        height_shift_range = 0.1)"
      ],
      "metadata": {
        "id": "QOEgxOVed9sE"
      }
    },
    {
      "cell_type": "code",
      "source": [
        "params = {\"rotation_upper_range\": 25}\n",
        "run[\"parameters\"] = params\n"
      ],
      "metadata": {
        "id": "EOtuWzRnMFkq"
      },
      "execution_count": 46,
      "outputs": []
    },
    {
      "metadata": {
        "id": "ZVU-2IQQQ6Lz"
      },
      "cell_type": "code",
      "source": [
        "test_datagen = ImageDataGenerator(\n",
        "        # preprocessing_function=revertscale_fn,   #hoping this will increase the overall accuracy of TTA from 0.448 to something more similar to the vanilla CNN without TTA - IT DID NOT\n",
        "        # rescale = 1./255,\n",
        "        shear_range=-1,\n",
        "        zoom_range=0.1,\n",
        "        horizontal_flip=True,\n",
        "        rotation_range=params[\"rotation_upper_range\"],\n",
        "        fill_mode='reflect' ,\n",
        "        width_shift_range = 0.1, \n",
        "        height_shift_range = 0.1,\n",
        "        )"
      ],
      "execution_count": 47,
      "outputs": []
    },
    {
      "metadata": {
        "id": "-kgjEFe-Q6L3",
        "colab": {
          "base_uri": "https://localhost:8080/",
          "height": 101,
          "referenced_widgets": [
            "3e7a237831864d4185b5f56fed8793ed",
            "7d7822e3ad97437488efb358b660ad29",
            "9f19a3a684a742f689edd160598681dd",
            "9e55b86cad274f1eaab3199ea2e4ad58",
            "26a407683d9340d8a2da9eba3d9d0390",
            "c2c15c5c6c5a46eebd4024eedbfba604",
            "1cc6ed26858e47d092960fe02633d571",
            "41d882ad8fbd47e394230831f2d5fae1",
            "96a35c7680614ab8b42df5c93bf07191",
            "eef4a26be5264a7ab6b79eb2a4ef34ee",
            "e77ab4e23e6841d6baa0cb7b298b9d57"
          ]
        },
        "outputId": "85820f02-b1a3-460f-f533-0c730ef6f193"
      },
      "cell_type": "code",
      "source": [
        "predictions_tta = []\n",
        "\n",
        "for i in tqdm(range(tta_steps)):\n",
        "    preds = model.predict(test_datagen.flow(x_test, batch_size=bs, shuffle=False), steps = len(x_test)/bs)   #Changed X_val to X_test \n",
        "    predictions_tta.append(preds)\n",
        " "
      ],
      "execution_count": null,
      "outputs": [
        {
          "output_type": "stream",
          "name": "stderr",
          "text": [
            "<ipython-input-48-3dcd13f70952>:3: TqdmDeprecationWarning: This function will be removed in tqdm==5.0.0\n",
            "Please use `tqdm.notebook.tqdm` instead of `tqdm.tqdm_notebook`\n",
            "  for i in tqdm(range(tta_steps)):\n"
          ]
        },
        {
          "output_type": "display_data",
          "data": {
            "text/plain": [
              "  0%|          | 0/50 [00:00<?, ?it/s]"
            ],
            "application/vnd.jupyter.widget-view+json": {
              "version_major": 2,
              "version_minor": 0,
              "model_id": "3e7a237831864d4185b5f56fed8793ed"
            }
          },
          "metadata": {}
        }
      ]
    },
    {
      "cell_type": "code",
      "source": [
        "# predictions_tta[0][0]   #the first guess of 10 for the 0th image, 1st prob guess is \"3\" followed by \"5\"\n",
        "# predictions_tta[9][0]   #the 9th   guess of 10 for the 0th image, 1st largest prob is \"3\" followed by \"5\"\n",
        "# y_test[0]               #the actual label of the 0th test image is \"3\" so it would have got this correct."
      ],
      "metadata": {
        "id": "MOMekun2vugU"
      },
      "execution_count": null,
      "outputs": []
    },
    {
      "metadata": {
        "id": "l61pZL8HQ6L7"
      },
      "cell_type": "code",
      "source": [
        "final_pred = np.mean(predictions_tta, axis=0)\n",
        "\n",
        "#final_pred[0] #This is the average guess for image 0, \"3\" followed by \"5\""
      ],
      "execution_count": null,
      "outputs": []
    },
    {
      "cell_type": "code",
      "source": [
        "# Size of things\n",
        "#final_pred         # An array of 10000x9 10000 images with 9 classes of probabilities\n",
        "#predictions_tta    # A list of 11 of  10000 images with 9 classes of probabilities"
      ],
      "metadata": {
        "id": "mqafCtBM5Awi"
      },
      "execution_count": null,
      "outputs": []
    },
    {
      "cell_type": "code",
      "source": [
        "# final_pred\n",
        "\n",
        "pred_tta=np.zeros((len(x_test),9))\n",
        "pred_max_p_tta=np.zeros((len(x_test)))\n",
        "pred_std_tta=np.zeros((len(x_test)))\n",
        "entropy_tta = np.zeros((len(x_test)))\n",
        "\n",
        "\n",
        "for i in tqdm(range(0,len(x_test))):\n",
        "  #multi_img=np.tile(x_test[i],(50,1,1,1))\n",
        "  #preds=model_mc_pred([multi_img,1])\n",
        "  pred_tta[i]= final_pred[i]\n",
        "  pred_max_p_tta[i]=np.argmax(final_pred[i]) #mean over n runs of every proba class\n",
        "  pred_std_tta[i]= np.sqrt(np.sum(np.var(final_pred[i])))\n",
        "  entropy_tta[i] = -np.sum( pred_tta[i] * np.log2(pred_tta[i] + 1E-14)) #Numerical Stability\n",
        "pred_labels_tta=np.array([labels_no_horse[np.argmax(pred_tta[i])] for i in range(0,len(pred_tta))])\n",
        "pred_tta_mean_max_p=np.array([pred_tta[i][np.argmax(pred_tta[i])] for i in range(0,len(pred_tta))])\n",
        "nll_tta=-np.log(pred_tta_mean_max_p)\n",
        "\n",
        "\n",
        "\n",
        "\n",
        "# Non-Bayesian copy/paste with final_pred, didn't work... \n",
        "# pred_max_p=np.max(final_pred,axis=1)\n",
        "# entropy_tta=np.array([-np.sum( final_pred[i] * np.log2(final_pred[i] + 1E-14)) for i in range(0,len(final_pred))])\n",
        "# nll_tta=-np.log(pred_max_p)\n",
        "# pred_labels_tta=np.array([labels_no_horse[np.argmax(final_pred[i])] for i in range(0,len(final_pred))])\n",
        "# true_labels=np.array([labels[y_test[i][0]] for i in range(0,len(y_test))])\n",
        "\n",
        "\n",
        "test_acc_all_tta=np.average(true_labels==pred_labels_tta)\n",
        "test_acc_known_tta=np.average(true_labels[known_idx]==pred_labels_tta[known_idx])\n",
        "test_acc_all_tta, test_acc_known_tta"
      ],
      "metadata": {
        "id": "9gf4iPfa0djG"
      },
      "execution_count": null,
      "outputs": []
    },
    {
      "cell_type": "code",
      "source": [
        "run[\"test_acc_all_tta\"] = test_acc_all_tta\n",
        "run[\"test_acc_known_tta\"] = test_acc_known_tta\n",
        "run[\"test_acc_all\"] = test_acc_all\n",
        "run[\"test_acc_known\"] = test_acc_known\n",
        "run.stop()"
      ],
      "metadata": {
        "id": "Jcj8LEhbM49z"
      },
      "execution_count": null,
      "outputs": []
    },
    {
      "cell_type": "code",
      "source": [],
      "metadata": {
        "id": "h9_69EFvNMFi"
      },
      "execution_count": null,
      "outputs": []
    },
    {
      "metadata": {
        "id": "m1dcQj2-Q6MJ"
      },
      "cell_type": "markdown",
      "source": [
        "### See the impact of TTA on a single image"
      ]
    },
    {
      "metadata": {
        "id": "cEA8OgcBQ6MJ"
      },
      "cell_type": "code",
      "source": [
        "image_ix = 20\n",
        "test_image = x_val[image_ix]\n",
        "plt.imshow(test_image)\n",
        "plt.title(f'real label: {np.argmax(y_val[image_ix])}')\n",
        "plt.axis('off');"
      ],
      "execution_count": null,
      "outputs": []
    },
    {
      "metadata": {
        "id": "3Zt-DoKJQ6MP"
      },
      "cell_type": "code",
      "source": [
        "plt.figure(figsize=(20,14))\n",
        "predictions_tta_idx = []\n",
        "\n",
        "for i in range(5):\n",
        "    im = test_datagen.flow(test_image.reshape(1,32,32,3), batch_size=1, shuffle=False)\n",
        "    im = next(im)\n",
        "    pred = model.predict(im.reshape(1,32,32,3))\n",
        "    predictions_tta_idx.append(pred)\n",
        "    plt.subplot(1, 5, i+1)\n",
        "    plt.title(f'pred label: {np.argmax(pred)}')\n",
        "    plt.imshow(im.reshape(32, 32, 3), cmap=plt.get_cmap('gray'))\n",
        "    plt.axis('off')\n",
        "plt.show()"
      ],
      "execution_count": null,
      "outputs": []
    },
    {
      "metadata": {
        "id": "Ozb5T7DqQ6MV"
      },
      "cell_type": "code",
      "source": [
        "final_pred_idx = np.mean(predictions_tta_idx, axis=0)\n",
        "print(f'final pred: {np.argmax(final_pred_idx)}')"
      ],
      "execution_count": null,
      "outputs": []
    }
  ],
  "metadata": {
    "accelerator": "GPU",
    "colab": {
      "provenance": [],
      "history_visible": true,
      "include_colab_link": true
    },
    "kernelspec": {
      "display_name": "Python 3",
      "language": "python",
      "name": "python3"
    },
    "language_info": {
      "codemirror_mode": {
        "name": "ipython",
        "version": 3
      },
      "file_extension": ".py",
      "mimetype": "text/x-python",
      "name": "python",
      "nbconvert_exporter": "python",
      "pygments_lexer": "ipython3",
      "version": "3.6.8"
    },
    "widgets": {
      "application/vnd.jupyter.widget-state+json": {
        "3e7a237831864d4185b5f56fed8793ed": {
          "model_module": "@jupyter-widgets/controls",
          "model_name": "HBoxModel",
          "model_module_version": "1.5.0",
          "state": {
            "_dom_classes": [],
            "_model_module": "@jupyter-widgets/controls",
            "_model_module_version": "1.5.0",
            "_model_name": "HBoxModel",
            "_view_count": null,
            "_view_module": "@jupyter-widgets/controls",
            "_view_module_version": "1.5.0",
            "_view_name": "HBoxView",
            "box_style": "",
            "children": [
              "IPY_MODEL_7d7822e3ad97437488efb358b660ad29",
              "IPY_MODEL_9f19a3a684a742f689edd160598681dd",
              "IPY_MODEL_9e55b86cad274f1eaab3199ea2e4ad58"
            ],
            "layout": "IPY_MODEL_26a407683d9340d8a2da9eba3d9d0390"
          }
        },
        "7d7822e3ad97437488efb358b660ad29": {
          "model_module": "@jupyter-widgets/controls",
          "model_name": "HTMLModel",
          "model_module_version": "1.5.0",
          "state": {
            "_dom_classes": [],
            "_model_module": "@jupyter-widgets/controls",
            "_model_module_version": "1.5.0",
            "_model_name": "HTMLModel",
            "_view_count": null,
            "_view_module": "@jupyter-widgets/controls",
            "_view_module_version": "1.5.0",
            "_view_name": "HTMLView",
            "description": "",
            "description_tooltip": null,
            "layout": "IPY_MODEL_c2c15c5c6c5a46eebd4024eedbfba604",
            "placeholder": "​",
            "style": "IPY_MODEL_1cc6ed26858e47d092960fe02633d571",
            "value": " 50%"
          }
        },
        "9f19a3a684a742f689edd160598681dd": {
          "model_module": "@jupyter-widgets/controls",
          "model_name": "FloatProgressModel",
          "model_module_version": "1.5.0",
          "state": {
            "_dom_classes": [],
            "_model_module": "@jupyter-widgets/controls",
            "_model_module_version": "1.5.0",
            "_model_name": "FloatProgressModel",
            "_view_count": null,
            "_view_module": "@jupyter-widgets/controls",
            "_view_module_version": "1.5.0",
            "_view_name": "ProgressView",
            "bar_style": "",
            "description": "",
            "description_tooltip": null,
            "layout": "IPY_MODEL_41d882ad8fbd47e394230831f2d5fae1",
            "max": 50,
            "min": 0,
            "orientation": "horizontal",
            "style": "IPY_MODEL_96a35c7680614ab8b42df5c93bf07191",
            "value": 25
          }
        },
        "9e55b86cad274f1eaab3199ea2e4ad58": {
          "model_module": "@jupyter-widgets/controls",
          "model_name": "HTMLModel",
          "model_module_version": "1.5.0",
          "state": {
            "_dom_classes": [],
            "_model_module": "@jupyter-widgets/controls",
            "_model_module_version": "1.5.0",
            "_model_name": "HTMLModel",
            "_view_count": null,
            "_view_module": "@jupyter-widgets/controls",
            "_view_module_version": "1.5.0",
            "_view_name": "HTMLView",
            "description": "",
            "description_tooltip": null,
            "layout": "IPY_MODEL_eef4a26be5264a7ab6b79eb2a4ef34ee",
            "placeholder": "​",
            "style": "IPY_MODEL_e77ab4e23e6841d6baa0cb7b298b9d57",
            "value": " 25/50 [02:16&lt;02:11,  5.27s/it]"
          }
        },
        "26a407683d9340d8a2da9eba3d9d0390": {
          "model_module": "@jupyter-widgets/base",
          "model_name": "LayoutModel",
          "model_module_version": "1.2.0",
          "state": {
            "_model_module": "@jupyter-widgets/base",
            "_model_module_version": "1.2.0",
            "_model_name": "LayoutModel",
            "_view_count": null,
            "_view_module": "@jupyter-widgets/base",
            "_view_module_version": "1.2.0",
            "_view_name": "LayoutView",
            "align_content": null,
            "align_items": null,
            "align_self": null,
            "border": null,
            "bottom": null,
            "display": null,
            "flex": null,
            "flex_flow": null,
            "grid_area": null,
            "grid_auto_columns": null,
            "grid_auto_flow": null,
            "grid_auto_rows": null,
            "grid_column": null,
            "grid_gap": null,
            "grid_row": null,
            "grid_template_areas": null,
            "grid_template_columns": null,
            "grid_template_rows": null,
            "height": null,
            "justify_content": null,
            "justify_items": null,
            "left": null,
            "margin": null,
            "max_height": null,
            "max_width": null,
            "min_height": null,
            "min_width": null,
            "object_fit": null,
            "object_position": null,
            "order": null,
            "overflow": null,
            "overflow_x": null,
            "overflow_y": null,
            "padding": null,
            "right": null,
            "top": null,
            "visibility": null,
            "width": null
          }
        },
        "c2c15c5c6c5a46eebd4024eedbfba604": {
          "model_module": "@jupyter-widgets/base",
          "model_name": "LayoutModel",
          "model_module_version": "1.2.0",
          "state": {
            "_model_module": "@jupyter-widgets/base",
            "_model_module_version": "1.2.0",
            "_model_name": "LayoutModel",
            "_view_count": null,
            "_view_module": "@jupyter-widgets/base",
            "_view_module_version": "1.2.0",
            "_view_name": "LayoutView",
            "align_content": null,
            "align_items": null,
            "align_self": null,
            "border": null,
            "bottom": null,
            "display": null,
            "flex": null,
            "flex_flow": null,
            "grid_area": null,
            "grid_auto_columns": null,
            "grid_auto_flow": null,
            "grid_auto_rows": null,
            "grid_column": null,
            "grid_gap": null,
            "grid_row": null,
            "grid_template_areas": null,
            "grid_template_columns": null,
            "grid_template_rows": null,
            "height": null,
            "justify_content": null,
            "justify_items": null,
            "left": null,
            "margin": null,
            "max_height": null,
            "max_width": null,
            "min_height": null,
            "min_width": null,
            "object_fit": null,
            "object_position": null,
            "order": null,
            "overflow": null,
            "overflow_x": null,
            "overflow_y": null,
            "padding": null,
            "right": null,
            "top": null,
            "visibility": null,
            "width": null
          }
        },
        "1cc6ed26858e47d092960fe02633d571": {
          "model_module": "@jupyter-widgets/controls",
          "model_name": "DescriptionStyleModel",
          "model_module_version": "1.5.0",
          "state": {
            "_model_module": "@jupyter-widgets/controls",
            "_model_module_version": "1.5.0",
            "_model_name": "DescriptionStyleModel",
            "_view_count": null,
            "_view_module": "@jupyter-widgets/base",
            "_view_module_version": "1.2.0",
            "_view_name": "StyleView",
            "description_width": ""
          }
        },
        "41d882ad8fbd47e394230831f2d5fae1": {
          "model_module": "@jupyter-widgets/base",
          "model_name": "LayoutModel",
          "model_module_version": "1.2.0",
          "state": {
            "_model_module": "@jupyter-widgets/base",
            "_model_module_version": "1.2.0",
            "_model_name": "LayoutModel",
            "_view_count": null,
            "_view_module": "@jupyter-widgets/base",
            "_view_module_version": "1.2.0",
            "_view_name": "LayoutView",
            "align_content": null,
            "align_items": null,
            "align_self": null,
            "border": null,
            "bottom": null,
            "display": null,
            "flex": null,
            "flex_flow": null,
            "grid_area": null,
            "grid_auto_columns": null,
            "grid_auto_flow": null,
            "grid_auto_rows": null,
            "grid_column": null,
            "grid_gap": null,
            "grid_row": null,
            "grid_template_areas": null,
            "grid_template_columns": null,
            "grid_template_rows": null,
            "height": null,
            "justify_content": null,
            "justify_items": null,
            "left": null,
            "margin": null,
            "max_height": null,
            "max_width": null,
            "min_height": null,
            "min_width": null,
            "object_fit": null,
            "object_position": null,
            "order": null,
            "overflow": null,
            "overflow_x": null,
            "overflow_y": null,
            "padding": null,
            "right": null,
            "top": null,
            "visibility": null,
            "width": null
          }
        },
        "96a35c7680614ab8b42df5c93bf07191": {
          "model_module": "@jupyter-widgets/controls",
          "model_name": "ProgressStyleModel",
          "model_module_version": "1.5.0",
          "state": {
            "_model_module": "@jupyter-widgets/controls",
            "_model_module_version": "1.5.0",
            "_model_name": "ProgressStyleModel",
            "_view_count": null,
            "_view_module": "@jupyter-widgets/base",
            "_view_module_version": "1.2.0",
            "_view_name": "StyleView",
            "bar_color": null,
            "description_width": ""
          }
        },
        "eef4a26be5264a7ab6b79eb2a4ef34ee": {
          "model_module": "@jupyter-widgets/base",
          "model_name": "LayoutModel",
          "model_module_version": "1.2.0",
          "state": {
            "_model_module": "@jupyter-widgets/base",
            "_model_module_version": "1.2.0",
            "_model_name": "LayoutModel",
            "_view_count": null,
            "_view_module": "@jupyter-widgets/base",
            "_view_module_version": "1.2.0",
            "_view_name": "LayoutView",
            "align_content": null,
            "align_items": null,
            "align_self": null,
            "border": null,
            "bottom": null,
            "display": null,
            "flex": null,
            "flex_flow": null,
            "grid_area": null,
            "grid_auto_columns": null,
            "grid_auto_flow": null,
            "grid_auto_rows": null,
            "grid_column": null,
            "grid_gap": null,
            "grid_row": null,
            "grid_template_areas": null,
            "grid_template_columns": null,
            "grid_template_rows": null,
            "height": null,
            "justify_content": null,
            "justify_items": null,
            "left": null,
            "margin": null,
            "max_height": null,
            "max_width": null,
            "min_height": null,
            "min_width": null,
            "object_fit": null,
            "object_position": null,
            "order": null,
            "overflow": null,
            "overflow_x": null,
            "overflow_y": null,
            "padding": null,
            "right": null,
            "top": null,
            "visibility": null,
            "width": null
          }
        },
        "e77ab4e23e6841d6baa0cb7b298b9d57": {
          "model_module": "@jupyter-widgets/controls",
          "model_name": "DescriptionStyleModel",
          "model_module_version": "1.5.0",
          "state": {
            "_model_module": "@jupyter-widgets/controls",
            "_model_module_version": "1.5.0",
            "_model_name": "DescriptionStyleModel",
            "_view_count": null,
            "_view_module": "@jupyter-widgets/base",
            "_view_module_version": "1.2.0",
            "_view_name": "StyleView",
            "description_width": ""
          }
        }
      }
    }
  },
  "nbformat": 4,
  "nbformat_minor": 0
}