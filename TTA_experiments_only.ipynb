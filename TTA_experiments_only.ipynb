{
  "cells": [
    {
      "cell_type": "markdown",
      "metadata": {
        "id": "view-in-github",
        "colab_type": "text"
      },
      "source": [
        "<a href=\"https://colab.research.google.com/github/RachelRamirez/tta/blob/main/TTA_experiments_only.ipynb\" target=\"_parent\"><img src=\"https://colab.research.google.com/assets/colab-badge.svg\" alt=\"Open In Colab\"/></a>"
      ]
    },
    {
      "cell_type": "markdown",
      "source": [
        "# **Comparison of 4 Probabilistics Techniques** "
      ],
      "metadata": {
        "id": "bTsV0gZz-tQ3"
      }
    },
    {
      "cell_type": "markdown",
      "source": [
        "Traditional CNN (baseline),  2 \"Bayesian\" CNNs, and Test-Time Augmentations on CIFAR-9 classes and one novel class"
      ],
      "metadata": {
        "id": "qU2WftRnx2r5"
      }
    },
    {
      "cell_type": "markdown",
      "metadata": {
        "id": "-aR_ls1Ci-nl"
      },
      "source": [
        "# Cifar10 classification case study with novel class\n"
      ]
    },
    {
      "cell_type": "markdown",
      "source": [
        "# Intro"
      ],
      "metadata": {
        "id": "iM3VBrzs1N88"
      }
    },
    {
      "cell_type": "markdown",
      "source": [
        "#### Load Neptune to Track Experiments"
      ],
      "metadata": {
        "id": "iEOTY2UNLtQO"
      }
    },
    {
      "cell_type": "code",
      "source": [
        "pip install neptune-client"
      ],
      "metadata": {
        "colab": {
          "base_uri": "https://localhost:8080/"
        },
        "id": "QxH02s_XLs_G",
        "outputId": "d228c727-1b52-4b02-d107-208b0e4bd40e"
      },
      "execution_count": 1,
      "outputs": [
        {
          "output_type": "stream",
          "name": "stdout",
          "text": [
            "Looking in indexes: https://pypi.org/simple, https://us-python.pkg.dev/colab-wheels/public/simple/\n",
            "Collecting neptune-client\n",
            "  Downloading neptune_client-0.16.15-py3-none-any.whl (439 kB)\n",
            "\u001b[K     |████████████████████████████████| 439 kB 4.8 MB/s \n",
            "\u001b[?25hCollecting GitPython>=2.0.8\n",
            "  Downloading GitPython-3.1.30-py3-none-any.whl (184 kB)\n",
            "\u001b[K     |████████████████████████████████| 184 kB 62.1 MB/s \n",
            "\u001b[?25hRequirement already satisfied: Pillow>=1.1.6 in /usr/local/lib/python3.8/dist-packages (from neptune-client) (7.1.2)\n",
            "Collecting bravado<12.0.0,>=11.0.0\n",
            "  Downloading bravado-11.0.3-py2.py3-none-any.whl (38 kB)\n",
            "Collecting PyJWT\n",
            "  Downloading PyJWT-2.6.0-py3-none-any.whl (20 kB)\n",
            "Requirement already satisfied: pandas in /usr/local/lib/python3.8/dist-packages (from neptune-client) (1.3.5)\n",
            "Requirement already satisfied: psutil in /usr/local/lib/python3.8/dist-packages (from neptune-client) (5.4.8)\n",
            "Requirement already satisfied: click>=7.0 in /usr/local/lib/python3.8/dist-packages (from neptune-client) (7.1.2)\n",
            "Requirement already satisfied: packaging in /usr/local/lib/python3.8/dist-packages (from neptune-client) (21.3)\n",
            "Requirement already satisfied: urllib3 in /usr/local/lib/python3.8/dist-packages (from neptune-client) (1.24.3)\n",
            "Collecting swagger-spec-validator>=2.7.4\n",
            "  Downloading swagger_spec_validator-3.0.3-py2.py3-none-any.whl (27 kB)\n",
            "Collecting boto3>=1.16.0\n",
            "  Downloading boto3-1.26.41-py3-none-any.whl (132 kB)\n",
            "\u001b[K     |████████████████████████████████| 132 kB 46.1 MB/s \n",
            "\u001b[?25hRequirement already satisfied: requests-oauthlib>=1.0.0 in /usr/local/lib/python3.8/dist-packages (from neptune-client) (1.3.1)\n",
            "Requirement already satisfied: requests>=2.20.0 in /usr/local/lib/python3.8/dist-packages (from neptune-client) (2.23.0)\n",
            "Collecting websocket-client!=1.0.0,>=0.35.0\n",
            "  Downloading websocket_client-1.4.2-py3-none-any.whl (55 kB)\n",
            "\u001b[K     |████████████████████████████████| 55 kB 2.9 MB/s \n",
            "\u001b[?25hRequirement already satisfied: oauthlib>=2.1.0 in /usr/local/lib/python3.8/dist-packages (from neptune-client) (3.2.2)\n",
            "Collecting future>=0.17.1\n",
            "  Downloading future-0.18.2.tar.gz (829 kB)\n",
            "\u001b[K     |████████████████████████████████| 829 kB 26.7 MB/s \n",
            "\u001b[?25hRequirement already satisfied: six>=1.12.0 in /usr/local/lib/python3.8/dist-packages (from neptune-client) (1.15.0)\n",
            "Collecting s3transfer<0.7.0,>=0.6.0\n",
            "  Downloading s3transfer-0.6.0-py3-none-any.whl (79 kB)\n",
            "\u001b[K     |████████████████████████████████| 79 kB 7.4 MB/s \n",
            "\u001b[?25hCollecting jmespath<2.0.0,>=0.7.1\n",
            "  Downloading jmespath-1.0.1-py3-none-any.whl (20 kB)\n",
            "Collecting botocore<1.30.0,>=1.29.41\n",
            "  Downloading botocore-1.29.41-py3-none-any.whl (10.3 MB)\n",
            "\u001b[K     |████████████████████████████████| 10.3 MB 33.6 MB/s \n",
            "\u001b[?25hRequirement already satisfied: python-dateutil<3.0.0,>=2.1 in /usr/local/lib/python3.8/dist-packages (from botocore<1.30.0,>=1.29.41->boto3>=1.16.0->neptune-client) (2.8.2)\n",
            "Collecting urllib3\n",
            "  Downloading urllib3-1.26.13-py2.py3-none-any.whl (140 kB)\n",
            "\u001b[K     |████████████████████████████████| 140 kB 57.6 MB/s \n",
            "\u001b[?25hRequirement already satisfied: msgpack in /usr/local/lib/python3.8/dist-packages (from bravado<12.0.0,>=11.0.0->neptune-client) (1.0.4)\n",
            "Requirement already satisfied: pyyaml in /usr/local/lib/python3.8/dist-packages (from bravado<12.0.0,>=11.0.0->neptune-client) (6.0)\n",
            "Collecting monotonic\n",
            "  Downloading monotonic-1.6-py2.py3-none-any.whl (8.2 kB)\n",
            "Collecting simplejson\n",
            "  Downloading simplejson-3.18.0-cp38-cp38-manylinux_2_5_x86_64.manylinux1_x86_64.manylinux_2_12_x86_64.manylinux2010_x86_64.whl (139 kB)\n",
            "\u001b[K     |████████████████████████████████| 139 kB 70.0 MB/s \n",
            "\u001b[?25hRequirement already satisfied: typing-extensions in /usr/local/lib/python3.8/dist-packages (from bravado<12.0.0,>=11.0.0->neptune-client) (4.4.0)\n",
            "Collecting bravado-core>=5.16.1\n",
            "  Downloading bravado_core-5.17.1-py2.py3-none-any.whl (67 kB)\n",
            "\u001b[K     |████████████████████████████████| 67 kB 5.9 MB/s \n",
            "\u001b[?25hCollecting jsonref\n",
            "  Downloading jsonref-1.0.1-py3-none-any.whl (9.5 kB)\n",
            "Requirement already satisfied: jsonschema[format]>=2.5.1 in /usr/local/lib/python3.8/dist-packages (from bravado-core>=5.16.1->bravado<12.0.0,>=11.0.0->neptune-client) (4.3.3)\n",
            "Requirement already satisfied: pytz in /usr/local/lib/python3.8/dist-packages (from bravado-core>=5.16.1->bravado<12.0.0,>=11.0.0->neptune-client) (2022.6)\n",
            "Collecting gitdb<5,>=4.0.1\n",
            "  Downloading gitdb-4.0.10-py3-none-any.whl (62 kB)\n",
            "\u001b[K     |████████████████████████████████| 62 kB 1.3 MB/s \n",
            "\u001b[?25hCollecting smmap<6,>=3.0.1\n",
            "  Downloading smmap-5.0.0-py3-none-any.whl (24 kB)\n",
            "Requirement already satisfied: pyrsistent!=0.17.0,!=0.17.1,!=0.17.2,>=0.14.0 in /usr/local/lib/python3.8/dist-packages (from jsonschema[format]>=2.5.1->bravado-core>=5.16.1->bravado<12.0.0,>=11.0.0->neptune-client) (0.19.2)\n",
            "Requirement already satisfied: importlib-resources>=1.4.0 in /usr/local/lib/python3.8/dist-packages (from jsonschema[format]>=2.5.1->bravado-core>=5.16.1->bravado<12.0.0,>=11.0.0->neptune-client) (5.10.1)\n",
            "Requirement already satisfied: attrs>=17.4.0 in /usr/local/lib/python3.8/dist-packages (from jsonschema[format]>=2.5.1->bravado-core>=5.16.1->bravado<12.0.0,>=11.0.0->neptune-client) (22.1.0)\n",
            "Collecting webcolors>=1.11\n",
            "  Downloading webcolors-1.12-py3-none-any.whl (9.9 kB)\n",
            "Collecting jsonpointer>1.13\n",
            "  Downloading jsonpointer-2.3-py2.py3-none-any.whl (7.8 kB)\n",
            "Collecting rfc3987\n",
            "  Downloading rfc3987-1.3.8-py2.py3-none-any.whl (13 kB)\n",
            "Requirement already satisfied: idna in /usr/local/lib/python3.8/dist-packages (from jsonschema[format]>=2.5.1->bravado-core>=5.16.1->bravado<12.0.0,>=11.0.0->neptune-client) (2.10)\n",
            "Collecting rfc3339-validator\n",
            "  Downloading rfc3339_validator-0.1.4-py2.py3-none-any.whl (3.5 kB)\n",
            "Collecting fqdn\n",
            "  Downloading fqdn-1.5.1-py3-none-any.whl (9.1 kB)\n",
            "Collecting uri-template\n",
            "  Downloading uri_template-1.2.0-py3-none-any.whl (10 kB)\n",
            "Collecting isoduration\n",
            "  Downloading isoduration-20.11.0-py3-none-any.whl (11 kB)\n",
            "Requirement already satisfied: zipp>=3.1.0 in /usr/local/lib/python3.8/dist-packages (from importlib-resources>=1.4.0->jsonschema[format]>=2.5.1->bravado-core>=5.16.1->bravado<12.0.0,>=11.0.0->neptune-client) (3.11.0)\n",
            "Requirement already satisfied: certifi>=2017.4.17 in /usr/local/lib/python3.8/dist-packages (from requests>=2.20.0->neptune-client) (2022.12.7)\n",
            "Collecting urllib3\n",
            "  Downloading urllib3-1.25.11-py2.py3-none-any.whl (127 kB)\n",
            "\u001b[K     |████████████████████████████████| 127 kB 37.4 MB/s \n",
            "\u001b[?25hRequirement already satisfied: chardet<4,>=3.0.2 in /usr/local/lib/python3.8/dist-packages (from requests>=2.20.0->neptune-client) (3.0.4)\n",
            "Collecting arrow>=0.15.0\n",
            "  Downloading arrow-1.2.3-py3-none-any.whl (66 kB)\n",
            "\u001b[K     |████████████████████████████████| 66 kB 4.6 MB/s \n",
            "\u001b[?25hRequirement already satisfied: pyparsing!=3.0.5,>=2.0.2 in /usr/local/lib/python3.8/dist-packages (from packaging->neptune-client) (3.0.9)\n",
            "Requirement already satisfied: numpy>=1.17.3 in /usr/local/lib/python3.8/dist-packages (from pandas->neptune-client) (1.21.6)\n",
            "Building wheels for collected packages: future\n",
            "  Building wheel for future (setup.py) ... \u001b[?25l\u001b[?25hdone\n",
            "  Created wheel for future: filename=future-0.18.2-py3-none-any.whl size=491071 sha256=fbb5971394a3833d76fcca3e932c933dc6c465aad0eecd736cd97fb459647350\n",
            "  Stored in directory: /root/.cache/pip/wheels/8e/70/28/3d6ccd6e315f65f245da085482a2e1c7d14b90b30f239e2cf4\n",
            "Successfully built future\n",
            "Installing collected packages: arrow, webcolors, urllib3, uri-template, rfc3987, rfc3339-validator, jsonpointer, jmespath, isoduration, fqdn, swagger-spec-validator, smmap, simplejson, jsonref, botocore, s3transfer, monotonic, gitdb, bravado-core, websocket-client, PyJWT, GitPython, future, bravado, boto3, neptune-client\n",
            "  Attempting uninstall: urllib3\n",
            "    Found existing installation: urllib3 1.24.3\n",
            "    Uninstalling urllib3-1.24.3:\n",
            "      Successfully uninstalled urllib3-1.24.3\n",
            "  Attempting uninstall: future\n",
            "    Found existing installation: future 0.16.0\n",
            "    Uninstalling future-0.16.0:\n",
            "      Successfully uninstalled future-0.16.0\n",
            "Successfully installed GitPython-3.1.30 PyJWT-2.6.0 arrow-1.2.3 boto3-1.26.41 botocore-1.29.41 bravado-11.0.3 bravado-core-5.17.1 fqdn-1.5.1 future-0.18.2 gitdb-4.0.10 isoduration-20.11.0 jmespath-1.0.1 jsonpointer-2.3 jsonref-1.0.1 monotonic-1.6 neptune-client-0.16.15 rfc3339-validator-0.1.4 rfc3987-1.3.8 s3transfer-0.6.0 simplejson-3.18.0 smmap-5.0.0 swagger-spec-validator-3.0.3 uri-template-1.2.0 urllib3-1.25.11 webcolors-1.12 websocket-client-1.4.2\n"
          ]
        }
      ]
    },
    {
      "cell_type": "markdown",
      "source": [
        "This is a resource originally about Bayesian Neural Networks,  by TensorChiefs found as supplemental coding material for their book [Probabilistic Deep Learning](https://tensorchiefs.github.io/dl_book/), their original code is [here](https://colab.research.google.com/drive/1ZCNuGd9z_ZvJ7irFH-FQmqlFXP5jeK8z#scrollTo=TNFhkloWTImi). **I  added  Test Time Augmentation.**\n",
        "\n",
        "Future: I plan to add [time and memory run profiles](https://colab.research.google.com/github/jakevdp/PythonDataScienceHandbook/blob/master/notebooks/01.07-Timing-and-Profiling.ipynb#scrollTo=HdeOK7Qhw0wp) to also compare the methods"
      ],
      "metadata": {
        "id": "Gt-QCpnVHyFd"
      }
    },
    {
      "cell_type": "code",
      "source": [
        "#@title Just do TTA experiments? { display-mode: \"form\" }\n",
        "#@markdown This Colab will skip everything but TTA if checked\n",
        "just_TTA  = True #@param {type: \"boolean\"} \n",
        "\n",
        "if just_TTA:\n",
        "  print(\"Will skip everything but TTA experiments\")"
      ],
      "metadata": {
        "id": "9TE-7aBxoXLI",
        "outputId": "ca82a3af-a1a3-4ffd-bcc2-b051863de4b2",
        "colab": {
          "base_uri": "https://localhost:8080/"
        }
      },
      "execution_count": 2,
      "outputs": [
        {
          "output_type": "stream",
          "name": "stdout",
          "text": [
            "Will skip everything but TTA experiments\n"
          ]
        }
      ]
    },
    {
      "cell_type": "markdown",
      "source": [
        "\n",
        "**Goal:** In this notebook you will investigate which advantages Bayesian NNs can offer in a classification task. You will use train data from 9 of the 10 classes in the Cifar10 dataset to fit different three probabilistic NN.\n",
        "First you fit a \"traditional\" non-Bayesian NN and then you will fit two Bayesian NN, one via variational inference and one via dropout. You will compare the accuracy of the different NN on the 9 known classes. Further you will investigate and compare the uncertainties expressed by the NNs for both the known classes and unknown class. Finally you will use these uncertainties to detect novel classes and filter out uncertain predictions.\n",
        "\n",
        "**Usage:** The idea of the notebook is that you try to understand the provided code by running it, checking the output and playing with it by slightly changing the code and rerunning it.\n",
        "\n",
        "**Dataset:** You work with the Cifar10 dataset. You have 60'000 32x32 pixel color images of 10 classes (\"airplane\",\"automobile\",\"bird\",\"cat\",\"deer\",\"dog\",\"frog\",\"horse\",\"ship\",\"truck\"). You will delete all images from the class \"horse\" in the training dataset to simulate a novel class. Note that we keep the class \"horse\" in the test dataset.\n",
        "\n",
        "**Content:**\n",
        "* Load the Cifar10 dataset\n",
        "* Delete all images of the class \"horse\" from the training dataset\n",
        "* Split the train dataset into a train and validation dataset (60:40 split) \n",
        "* Fit a non-Bayesian NN \n",
        "* Fit a Bayesian NN via variational inference \n",
        "* Fit a Bayesian NN via dropout \n",
        "* Compare the  of the accuracy of the models on the known classes\n",
        "* Compare the  of the uncertainties of the models on the known and unknown classes\n",
        "* Use the uncertainties to filter uncertain predictions\n",
        "\n",
        "| [open in colab](https://colab.research.google.com/github/tensorchiefs/dl_book/blob/master/chapter_08/nb_ch08_04.ipynb)"
      ],
      "metadata": {
        "id": "NwDpm0Fa1HuH"
      }
    },
    {
      "cell_type": "code",
      "execution_count": 3,
      "metadata": {
        "colab": {
          "base_uri": "https://localhost:8080/"
        },
        "id": "JwdOrJ_JMC4W",
        "outputId": "7c331c64-d293-4cdc-f0bf-fb3be1dcc682"
      },
      "outputs": [
        {
          "output_type": "stream",
          "name": "stdout",
          "text": [
            "Colab only includes TensorFlow 2.x; %tensorflow_version has no effect.\n"
          ]
        }
      ],
      "source": [
        "try: #If running in colab \n",
        "    import google.colab\n",
        "    IN_COLAB = True \n",
        "    %tensorflow_version 2.x\n",
        "except:\n",
        "    IN_COLAB = False"
      ]
    },
    {
      "cell_type": "code",
      "execution_count": 4,
      "metadata": {
        "colab": {
          "base_uri": "https://localhost:8080/"
        },
        "id": "KdtMWyE3fYI3",
        "outputId": "ec4f8d1e-267e-426e-ab2c-94b6269121a7"
      },
      "outputs": [
        {
          "output_type": "stream",
          "name": "stdout",
          "text": [
            "Tensorflow version:  2.9.2  running in colab?:  True\n"
          ]
        }
      ],
      "source": [
        "import tensorflow as tf\n",
        "if (not tf.__version__.startswith('2')): #Checking if tf 2.0 is installed\n",
        "    print('Please install tensorflow 2.0 to run this notebook')\n",
        "print('Tensorflow version: ',tf.__version__, ' running in colab?: ', IN_COLAB)"
      ]
    },
    {
      "cell_type": "code",
      "execution_count": 5,
      "metadata": {
        "id": "BLerHJCHFWMy"
      },
      "outputs": [],
      "source": [
        "# I commented this out because I think there are too many outdated dependencies\n",
        "\n",
        "# if IN_COLAB:\n",
        "#     !pip install tensorflow_probability==0.8.0"
      ]
    },
    {
      "cell_type": "markdown",
      "metadata": {
        "id": "rE8KfEvxFxq9"
      },
      "source": [
        "#### Imports"
      ]
    },
    {
      "cell_type": "code",
      "execution_count": 6,
      "metadata": {
        "colab": {
          "base_uri": "https://localhost:8080/"
        },
        "id": "ESl26w7xML1z",
        "outputId": "3e227de0-7a62-40df-a831-2a9a70af88e2"
      },
      "outputs": [
        {
          "output_type": "stream",
          "name": "stdout",
          "text": [
            "TFP Version 0.17.0\n",
            "TF  Version 2.9.2\n"
          ]
        }
      ],
      "source": [
        "import matplotlib.pyplot as plt\n",
        "import numpy as np\n",
        "import pandas as pd\n",
        "from tqdm import tqdm_notebook as tqdm\n",
        "import urllib.request\n",
        "from sklearn.model_selection import train_test_split\n",
        "\n",
        "#I added this below from StackOverflow to see if it wouldsolve import issues\n",
        "#https://stackoverflow.com/questions/62743492/cannot-import-tensorflow-probability\n",
        "# !pip install --upgrade tf_agents\n",
        "\n",
        "import tensorflow_probability as tfp\n",
        "\n",
        "%matplotlib inline\n",
        "plt.style.use('default')\n",
        "\n",
        "print(\"TFP Version\", tfp.__version__)\n",
        "print(\"TF  Version\",tf.__version__)\n",
        "\n",
        "## Adding Test time Augmentation TTA\n",
        "import keras\n",
        "from keras.preprocessing.image import ImageDataGenerator\n",
        "from keras.utils import to_categorical\n",
        "from sklearn.metrics import ConfusionMatrixDisplay\n",
        "from sklearn.metrics import confusion_matrix\n",
        "\n",
        "\n",
        "\n",
        "\n",
        "import datetime, time\n",
        "\n"
      ]
    },
    {
      "cell_type": "code",
      "source": [
        "\n",
        "begin = datetime.datetime.now()\n",
        "\n",
        "# now.strftime('%Y-%m-%d %H:%M:%S')\n",
        "\n",
        "print(begin)\n"
      ],
      "metadata": {
        "colab": {
          "base_uri": "https://localhost:8080/"
        },
        "id": "M8jhznGioGg3",
        "outputId": "4fe6d84b-257a-4c19-8e2e-90eabb44c831"
      },
      "execution_count": 7,
      "outputs": [
        {
          "output_type": "stream",
          "name": "stdout",
          "text": [
            "2023-01-03 12:58:18.905786\n"
          ]
        }
      ]
    },
    {
      "cell_type": "markdown",
      "metadata": {
        "id": "BmemfmRxF0pt"
      },
      "source": [
        "In the next cell you disable the tensorflow eager mode. We need to do this because otherwise we would get errors for the variational inference NN and we  would not be able to turn on and off the dropout in the MC dropout NN."
      ]
    },
    {
      "cell_type": "code",
      "execution_count": 8,
      "metadata": {
        "id": "XHzeQBbhcV3W",
        "colab": {
          "base_uri": "https://localhost:8080/"
        },
        "outputId": "857aef5e-142a-40b2-9e26-d746efbee651"
      },
      "outputs": [
        {
          "output_type": "stream",
          "name": "stdout",
          "text": [
            "Not disabling eager execution mode because just doing TTA\n"
          ]
        }
      ],
      "source": [
        "if just_TTA:\n",
        "  print(\"Not disabling eager execution mode because just doing TTA\")\n",
        "else:\n",
        "    from tensorflow.python.framework.ops import disable_eager_execution\n",
        "    disable_eager_execution()"
      ]
    },
    {
      "cell_type": "markdown",
      "metadata": {
        "id": "APxoLqsjkM31"
      },
      "source": [
        "#### Loading and preparation of the dataset\n",
        "\n",
        "Let's load the cifar 10 dataset. It is already splited into a train and test dataset. To get a feeling for the dataset, you plot a random example of each class of the trainingset. You can see that the images are quite small and its not always easy to see the class on the image."
      ]
    },
    {
      "cell_type": "code",
      "execution_count": 9,
      "metadata": {
        "id": "RHnWbEuDMzKv",
        "colab": {
          "base_uri": "https://localhost:8080/"
        },
        "outputId": "a99dcb15-5546-4255-c042-8b1b77e5a426"
      },
      "outputs": [
        {
          "output_type": "stream",
          "name": "stdout",
          "text": [
            "Downloading data from https://www.cs.toronto.edu/~kriz/cifar-10-python.tar.gz\n",
            "170498071/170498071 [==============================] - 2s 0us/step\n"
          ]
        }
      ],
      "source": [
        "(x_train, y_train), (x_test, y_test) = tf.keras.datasets.cifar10.load_data()"
      ]
    },
    {
      "cell_type": "code",
      "execution_count": 10,
      "metadata": {
        "colab": {
          "base_uri": "https://localhost:8080/",
          "height": 276
        },
        "id": "bAqFwLxMPHQU",
        "outputId": "5fa6169d-acad-49cb-96c7-db1ef11d80ce"
      },
      "outputs": [
        {
          "output_type": "stream",
          "name": "stderr",
          "text": [
            "<ipython-input-10-012e5f5aa791>:10: DeprecationWarning: `np.str` is a deprecated alias for the builtin `str`. To silence this warning, use `str` by itself. Doing this will not modify any behavior and is safe. If you specifically wanted the numpy scalar type, use `np.str_` here.\n",
            "Deprecated in NumPy 1.20; for more details and guidance: https://numpy.org/devdocs/release/1.20.0-notes.html#deprecations\n",
            "  plt.title(np.str(y_train[rmd][0][0])+ \": \" +labels[i],fontsize=16)\n"
          ]
        },
        {
          "output_type": "display_data",
          "data": {
            "text/plain": [
              "<Figure size 2000x2000 with 10 Axes>"
            ],
            "image/png": "[encoded data removed]"
          },
          "metadata": {}
        }
      ],
      "source": [
        "labels=np.array([\"airplane\",\"automobile\",\"bird\",\"cat\",\"deer\",\"dog\",\"frog\",\"horse\",\"ship\",\"truck\"])\n",
        "#sample image of each label\n",
        "np.random.seed(22)\n",
        "plt.figure(figsize=(20,20))\n",
        "for i in range(0,len(np.unique(y_train))):\n",
        "    rmd=np.random.choice(np.where(y_train==i)[0],1)\n",
        "    plt.subplot(1,10,i+1)\n",
        "    img=x_train[rmd]\n",
        "    plt.imshow(img[0,:,:,:])\n",
        "    plt.title(np.str(y_train[rmd][0][0])+ \": \" +labels[i],fontsize=16)\n",
        "plt.savefig(\"Figure_8_cifar.pdf\")\n",
        "#from google.colab import files\n",
        "#files.download('Figure_8_cifar.pdf') \n"
      ]
    },
    {
      "cell_type": "markdown",
      "metadata": {
        "id": "MQZdM-PHG2x2"
      },
      "source": [
        "To simualte a novel class, you will delete all images of the class \"horse\" from the traning dataset. Note that you do this only in the trainset, the test dataset stays the same. In the train dataset you will now have 9 classes with 5'000 images of every class, in total 45'000 images. This will be your traning dataset for the three models.   "
      ]
    },
    {
      "cell_type": "code",
      "execution_count": 11,
      "metadata": {
        "colab": {
          "base_uri": "https://localhost:8080/"
        },
        "id": "Go4tZ3Xwf8Wc",
        "outputId": "dbe29c99-71bb-4fa6-e922-9032d9454d11"
      },
      "outputs": [
        {
          "output_type": "stream",
          "name": "stdout",
          "text": [
            "(45000,)\n",
            "(45000, 32, 32, 3)\n",
            "(45000, 9)\n"
          ]
        }
      ],
      "source": [
        "y_train_no_horse=np.delete(y_train,np.where(y_train==7)[0])\n",
        "x_train_no_horse=np.delete(x_train,np.where(y_train==7)[0],axis=0)\n",
        "print(y_train_no_horse.shape)\n",
        "print(x_train_no_horse.shape)\n",
        "y_train_no_horse=np.array(pd.get_dummies(y_train_no_horse))\n",
        "labels_no_horse=np.array([\"airplane\",\"automobile\",\"bird\",\"cat\",\"deer\",\"dog\",\"frog\",\"ship\",\"truck\"])\n",
        "print(y_train_no_horse.shape)"
      ]
    },
    {
      "cell_type": "markdown",
      "metadata": {
        "id": "ymY2h4GzLrQe"
      },
      "source": [
        "Now you split the new training dataset without the horses randomly into a train and validationset. You use a 60:40 ratio for the split, so you have 27'000 train images with 9 classes and 18'000 validation images with 9 classes. The test dataset has 10'000 images and 10 classes. Note that we have a novel (unknown) class \"horse\" in the testset."
      ]
    },
    {
      "cell_type": "code",
      "execution_count": 12,
      "metadata": {
        "colab": {
          "base_uri": "https://localhost:8080/"
        },
        "id": "pfTBvgg8SkiZ",
        "outputId": "a696a736-3214-4b83-8a0f-4ff9d0686a32"
      },
      "outputs": [
        {
          "output_type": "stream",
          "name": "stdout",
          "text": [
            "(27000, 32, 32, 3)\n",
            "(27000, 9)\n",
            "(18000, 32, 32, 3)\n",
            "(18000, 9)\n",
            "(10000, 32, 32, 3)\n",
            "(10000, 1)\n"
          ]
        },
        {
          "output_type": "execute_result",
          "data": {
            "text/plain": [
              "(-1.0, 1.0)"
            ]
          },
          "metadata": {},
          "execution_count": 12
        }
      ],
      "source": [
        "from sklearn.model_selection import train_test_split\n",
        "x_train, x_val, y_train, y_val = train_test_split(x_train_no_horse, y_train_no_horse, test_size=0.4, random_state=22)\n",
        "print(x_train.shape)\n",
        "print(y_train.shape)\n",
        "print(x_val.shape)\n",
        "print(y_val.shape)\n",
        "print(x_test.shape)\n",
        "print(y_test.shape)\n",
        "\n",
        "#Before training the NNs with the data, we normalize the data to be in the range between -1 and 1. \n",
        "x_train=((x_train/255)-0.5)*2\n",
        "x_val=((x_val/255)-0.5)*2\n",
        "x_test=((x_test/255)-0.5)*2\n",
        "\n",
        "x_test.min(), x_test.max()"
      ]
    },
    {
      "cell_type": "code",
      "source": [
        "# #Experiment to bring it back to 0 and 255\n",
        "# x_test_exp=((x_test/2)+0.5)*255\n",
        "# x_test_exp.min(), x_test_exp.max()\n",
        "\n",
        "# Experiment with experument to bring it to 0 and 1.\n",
        "def revertscale_fn(img):\n",
        "    img = img.astype(np.float32) / 2\n",
        "    img = (img + 0.5) * 255\n",
        "    return img\n",
        "# gen = ImageDataGenerator(\n",
        "#     preprocessing_function=revertscale_fn,\n",
        "#     rescale = 1./255,\n",
        "# )"
      ],
      "metadata": {
        "id": "uLC0VoMWr0el"
      },
      "execution_count": 13,
      "outputs": []
    },
    {
      "cell_type": "markdown",
      "metadata": {
        "id": "dVA0YHjvYlB_"
      },
      "source": [
        "## Non-Bayesian CNN\n",
        "\n",
        "In this section we use a CNN with two convolutional blocks, followed by maxpooling layers. You use 8 kernels with the size 3x3 in the first convolutional block and in the second block you use 16 kernels with the size 3x3. The maxpoolingsize is 2x2 pixels. After the feature extraction you use a flatten layer and do the classification with 3 fully connected layers. Because the training takes a lot of time, you will load an already trained CNN with the learning curve."
      ]
    },
    {
      "cell_type": "code",
      "execution_count": 14,
      "metadata": {
        "colab": {
          "base_uri": "https://localhost:8080/"
        },
        "id": "XLOW7UPyYkKw",
        "outputId": "f12ad3b4-c310-4de3-fac8-52d046917525"
      },
      "outputs": [
        {
          "output_type": "stream",
          "name": "stdout",
          "text": [
            "Model: \"sequential\"\n",
            "_________________________________________________________________\n",
            " Layer (type)                Output Shape              Param #   \n",
            "=================================================================\n",
            " conv2d (Conv2D)             (None, 32, 32, 8)         224       \n",
            "                                                                 \n",
            " conv2d_1 (Conv2D)           (None, 32, 32, 8)         584       \n",
            "                                                                 \n",
            " max_pooling2d (MaxPooling2D  (None, 16, 16, 8)        0         \n",
            " )                                                               \n",
            "                                                                 \n",
            " conv2d_2 (Conv2D)           (None, 16, 16, 16)        1168      \n",
            "                                                                 \n",
            " conv2d_3 (Conv2D)           (None, 16, 16, 16)        2320      \n",
            "                                                                 \n",
            " max_pooling2d_1 (MaxPooling  (None, 8, 8, 16)         0         \n",
            " 2D)                                                             \n",
            "                                                                 \n",
            " flatten (Flatten)           (None, 1024)              0         \n",
            "                                                                 \n",
            " dense (Dense)               (None, 100)               102500    \n",
            "                                                                 \n",
            " dropout (Dropout)           (None, 100)               0         \n",
            "                                                                 \n",
            " dense_1 (Dense)             (None, 100)               10100     \n",
            "                                                                 \n",
            " dropout_1 (Dropout)         (None, 100)               0         \n",
            "                                                                 \n",
            " dense_2 (Dense)             (None, 9)                 909       \n",
            "                                                                 \n",
            "=================================================================\n",
            "Total params: 117,805\n",
            "Trainable params: 117,805\n",
            "Non-trainable params: 0\n",
            "_________________________________________________________________\n"
          ]
        }
      ],
      "source": [
        "from tensorflow.keras.layers import Convolution2D,MaxPooling2D,Dropout,Flatten,Dense\n",
        "from tensorflow.keras import Sequential\n",
        "\n",
        "model = Sequential()\n",
        "model.add(Convolution2D(8,kernel_size=(3,3),padding=\"same\", activation = 'relu',input_shape=(32,32,3)))\n",
        "model.add(Convolution2D(8,kernel_size=(3,3),padding=\"same\", activation = 'relu'))\n",
        "model.add(MaxPooling2D((2,2)))\n",
        "model.add(Convolution2D(16,kernel_size=(3,3),padding=\"same\", activation = 'relu'))\n",
        "model.add(Convolution2D(16,kernel_size=(3,3),padding=\"same\", activation = 'relu'))\n",
        "model.add(MaxPooling2D((2,2)))\n",
        "model.add(Flatten())\n",
        "model.add(Dense(100, activation = 'relu'))\n",
        "model.add(Dropout((0.5)))\n",
        "model.add(Dense(100, activation = 'relu'))\n",
        "model.add(Dropout((0.5)))\n",
        "model.add(Dense(9, activation = 'softmax'))\n",
        "\n",
        "model.compile(loss='categorical_crossentropy', optimizer=\"adam\", metrics=['accuracy'])\n",
        "\n",
        "model.summary()"
      ]
    },
    {
      "cell_type": "code",
      "execution_count": 15,
      "metadata": {
        "colab": {
          "base_uri": "https://localhost:8080/",
          "height": 487
        },
        "id": "PMB1B7hjYkFg",
        "outputId": "adf78946-85de-4a4f-ab62-18192b8226c9"
      },
      "outputs": [
        {
          "output_type": "display_data",
          "data": {
            "text/plain": [
              "<Figure size 1200x500 with 2 Axes>"
            ],
            "image/png": "[encoded data removed]"
          },
          "metadata": {}
        }
      ],
      "source": [
        "urllib.request.urlretrieve(\"https://raw.githubusercontent.com/tensorchiefs/dl_book/master/data/history_baseline_cifar10.csv\", \"history_baseline_cifar10.csv\")\n",
        "history=np.loadtxt(\"history_baseline_cifar10.csv\",delimiter=\",\")\n",
        "\n",
        "plt.figure(figsize=(12,5))\n",
        "plt.subplot(1,2,1)\n",
        "plt.plot(history[:,0])\n",
        "plt.plot(history[:,1])\n",
        "plt.ylim(0, 1)\n",
        "plt.title('model accuracy')\n",
        "plt.ylabel('accuracy')\n",
        "plt.xlabel('epoch')\n",
        "plt.legend(['train', 'valid'], loc='lower right')\n",
        "plt.subplot(1,2,2)\n",
        "plt.plot(history[:,2])\n",
        "plt.plot(history[:,3])\n",
        "plt.title('model loss')\n",
        "plt.ylabel('loss')\n",
        "plt.xlabel('epoch')\n",
        "plt.legend(['train', 'valid'], loc='upper right')\n",
        "plt.show()"
      ]
    },
    {
      "cell_type": "code",
      "execution_count": 16,
      "metadata": {
        "id": "sqwqWP8R4_6Y"
      },
      "outputs": [],
      "source": [
        "# load trained weights of the model\n",
        "urllib.request.urlretrieve(\"https://raw.githubusercontent.com/tensorchiefs/dl_book/master/data/model_cifar10_weights.hdf5\", \"model_cifar10_weights.hdf5\")\n",
        "model.load_weights(\"model_cifar10_weights.hdf5\")"
      ]
    },
    {
      "cell_type": "markdown",
      "source": [
        "I didn't know if the model was trained using EarlyStop or Val_Loss, I just see that the previous model was trained on accuracy so I want to train the model and double check that it was stopped around epoch 20 and not epoch 50 where the validation loss increased.  (ETA - Verified it was epoch 20)\n",
        "\n"
      ],
      "metadata": {
        "id": "ftsRMkDmteds"
      }
    },
    {
      "cell_type": "code",
      "source": [
        "# callback = tf.keras.callbacks.EarlyStopping(monitor='val_accuracy', patience=25)\n",
        "# history = model.fit(x=x_train, y=y_train, batch_size=64, epochs=50, verbose='0', callbacks = [callback], validation_data=(x_val, y_val))\n",
        "# history = history.history"
      ],
      "metadata": {
        "id": "iUmcvUj0tu2D"
      },
      "execution_count": 17,
      "outputs": []
    },
    {
      "cell_type": "code",
      "source": [
        "# First of all call dict. items() to return a group of the key-value pairs in the dictionary.\n",
        "# Then use list(obj) with this group as an object to convert it to a list.\n",
        "# At last, call numpy. array(data) with this list as data to convert it to an array.\n",
        " "
      ],
      "metadata": {
        "id": "albebD__9ciU"
      },
      "execution_count": 18,
      "outputs": []
    },
    {
      "cell_type": "code",
      "source": [
        "# plt.figure(figsize=(12,5))\n",
        "# plt.subplot(1,2,1)\n",
        "# plt.plot(history['accuracy'])\n",
        "# plt.plot(history['val_accuracy'])\n",
        "# plt.ylim(0, 1)\n",
        "# plt.title('model accuracy')\n",
        "# plt.ylabel('accuracy')\n",
        "# plt.xlabel('epoch')\n",
        "# plt.legend(['train', 'valid'], loc='lower right')\n",
        "# plt.subplot(1,2,2)\n",
        "# plt.plot(history['loss'])\n",
        "# plt.plot(history['val_loss'])\n",
        "# plt.title('model loss')\n",
        "# plt.ylabel('loss')\n",
        "# plt.xlabel('epoch')\n",
        "# plt.legend(['train', 'valid'], loc='upper right')\n",
        "# plt.show()"
      ],
      "metadata": {
        "id": "_MR9m7SuvBPJ"
      },
      "execution_count": 19,
      "outputs": []
    },
    {
      "cell_type": "markdown",
      "metadata": {
        "id": "b9fsQMnMpRgz"
      },
      "source": [
        "Here you save the indices of the known and the unknown (horse) classes. You will use them later to evaluate the uncertainty measures."
      ]
    },
    {
      "cell_type": "code",
      "execution_count": 20,
      "metadata": {
        "colab": {
          "base_uri": "https://localhost:8080/"
        },
        "id": "SvNbeGEtKcNb",
        "outputId": "0de2a80c-d4fd-4ab7-e6c1-7480653ca952"
      },
      "outputs": [
        {
          "output_type": "stream",
          "name": "stdout",
          "text": [
            "9000\n",
            "1000\n"
          ]
        }
      ],
      "source": [
        "known_idx=np.where(y_test!=7)[0]\n",
        "unknown_idx=np.where(y_test==7)[0]\n",
        "\n",
        "print(len(known_idx))\n",
        "print(len(unknown_idx))"
      ]
    },
    {
      "cell_type": "markdown",
      "source": [
        "what is the given acuracy on the train and **val** set?"
      ],
      "metadata": {
        "id": "IVReQ86HyWb3"
      }
    },
    {
      "cell_type": "code",
      "source": [
        "pred=model.predict(x_val)  #array (18000, 9)\n",
        "pred_max_p=np.max(pred,axis=1) #array of (18000,)\n",
        "\n",
        "entropy=np.array([-np.sum( pred[i] * np.log2(pred[i] + 1E-14)) for i in range(0,len(pred))])\n",
        "nll_=-np.log(pred_max_p)\n",
        "pred_labels=np.array([labels_no_horse[np.argmax(pred[i])] for i in range(0,len(pred))])\n",
        "true_labels=np.array([labels_no_horse[np.argmax(y_val[i])] for i in range(0,len(y_val))])\n",
        "val_cm = confusion_matrix(true_labels, pred_labels)\n",
        "\n",
        "disp = ConfusionMatrixDisplay(confusion_matrix=val_cm, display_labels=labels_no_horse)\n",
        "\n",
        "disp.plot(cmap=plt.cm.Blues)\n",
        "plt.show()\n",
        "\n",
        "\n",
        "val_acc_all=np.average(true_labels==pred_labels)\n",
        "val_acc_known=np.average(true_labels[known_idx]==pred_labels[known_idx])\n",
        "val_acc_all, val_acc_known\n"
      ],
      "metadata": {
        "id": "kHWYIGcIyaDs",
        "colab": {
          "base_uri": "https://localhost:8080/",
          "height": 484
        },
        "outputId": "d3776e65-dbc3-4fd7-9bf9-7d6f65e3e644"
      },
      "execution_count": 21,
      "outputs": [
        {
          "output_type": "stream",
          "name": "stdout",
          "text": [
            "563/563 [==============================] - 14s 24ms/step\n"
          ]
        },
        {
          "output_type": "display_data",
          "data": {
            "text/plain": [
              "<Figure size 640x480 with 2 Axes>"
            ],
            "image/png": "[encoded data removed]"
          },
          "metadata": {}
        },
        {
          "output_type": "execute_result",
          "data": {
            "text/plain": [
              "(0.6549444444444444, 0.6556666666666666)"
            ]
          },
          "metadata": {},
          "execution_count": 21
        }
      ]
    },
    {
      "cell_type": "code",
      "source": [],
      "metadata": {
        "id": "2-9VwElMO_Lo"
      },
      "execution_count": 21,
      "outputs": []
    },
    {
      "cell_type": "markdown",
      "metadata": {
        "id": "WBqfSpLWhNNH"
      },
      "source": [
        "## Accuracy on the the known labels in the train set for all three models \n",
        "In this section you will calculate the accuracies and of all three models. For the non bayesian NN, you will predict every test image once and for the two bayesian NN, you will predict every image 50 times and then takes the mean of all predicted classes. \n",
        "\n",
        "\n",
        "\n"
      ]
    },
    {
      "cell_type": "markdown",
      "metadata": {
        "id": "8Ja_1L-xp-9u"
      },
      "source": [
        "#### Non-Bayesian prediction\n",
        "\n",
        "Here you predict the labels for the non-bayesian CNN and calculate the uncertainty measures. You calculate the nll and the entropy, note that there is no total standart deviation in the non-bayesian model, because the same image will always get the same prediction. This is also the reason why we don't need to predict the same image for multiple times."
      ]
    },
    {
      "cell_type": "code",
      "source": [
        "# This is how you get accuracy from the Baseline Vanilla CNN. These predictions only work for deterministic sources\n",
        "\n",
        "# pred=model.predict(x_test)\n",
        "# pred_max_p=np.max(pred,axis=1)\n",
        "# entropy=np.array([-np.sum( pred[i] * np.log2(pred[i] + 1E-14)) for i in range(0,len(pred))])\n",
        "# nll=-np.log(pred_max_p)\n",
        "# pred_labels=np.array([labels_no_horse[np.argmax(pred[i])] for i in range(0,len(pred))])\n",
        "# true_labels=np.array([labels[y_test[i][0]] for i in range(0,len(y_test))])\n",
        "\n",
        "# test_acc_all=np.average(true_labels==pred_labels)\n",
        "# test_acc_known=np.average(true_labels[known_idx]==pred_labels[known_idx])\n",
        "# test_acc_all, test_acc_known"
      ],
      "metadata": {
        "id": "oml843PryqkZ"
      },
      "execution_count": 22,
      "outputs": []
    },
    {
      "cell_type": "code",
      "execution_count": 23,
      "metadata": {
        "id": "K-bOyOue0_hj",
        "colab": {
          "base_uri": "https://localhost:8080/"
        },
        "outputId": "4ad3dda2-2b70-4cf7-d42f-2c9655f4b128"
      },
      "outputs": [
        {
          "output_type": "stream",
          "name": "stdout",
          "text": [
            "313/313 [==============================] - 5s 17ms/step\n"
          ]
        }
      ],
      "source": [
        "pred=model.predict(x_test)\n",
        "pred_max_p=np.max(pred,axis=1)\n",
        "entropy=np.array([-np.sum( pred[i] * np.log2(pred[i] + 1E-14)) for i in range(0,len(pred))])\n",
        "nll=-np.log(pred_max_p)\n",
        "pred_labels=np.array([labels_no_horse[np.argmax(pred[i])] for i in range(0,len(pred))])\n",
        "true_labels=np.array([labels[y_test[i][0]] for i in range(0,len(y_test))])\n",
        " "
      ]
    },
    {
      "cell_type": "markdown",
      "source": [
        "Confusion Matrix for Test-Data from Vanilla-CNN Model (no TTA)"
      ],
      "metadata": {
        "id": "3tCUMPDoAmHc"
      }
    },
    {
      "cell_type": "code",
      "source": [
        " \n",
        "cm = confusion_matrix(true_labels, pred_labels)\n",
        "\n",
        "disp = ConfusionMatrixDisplay(confusion_matrix=cm, display_labels=labels)\n",
        "\n",
        "disp.plot(cmap=plt.cm.Blues)\n",
        "plt.show()"
      ],
      "metadata": {
        "colab": {
          "base_uri": "https://localhost:8080/",
          "height": 449
        },
        "id": "oo2lBt-O-851",
        "outputId": "7426045a-3acc-46cc-ecf6-c8c4db86e391"
      },
      "execution_count": 24,
      "outputs": [
        {
          "output_type": "display_data",
          "data": {
            "text/plain": [
              "<Figure size 640x480 with 2 Axes>"
            ],
            "image/png": "[encoded data removed]"
          },
          "metadata": {}
        }
      ]
    },
    {
      "cell_type": "code",
      "execution_count": 25,
      "metadata": {
        "colab": {
          "base_uri": "https://localhost:8080/"
        },
        "id": "R98YlXwe0_bS",
        "outputId": "b4ff95f5-1a11-4508-92ed-e98fad05870c"
      },
      "outputs": [
        {
          "output_type": "execute_result",
          "data": {
            "text/plain": [
              "(0.5845, 0.6494444444444445)"
            ]
          },
          "metadata": {},
          "execution_count": 25
        }
      ],
      "source": [
        "\n",
        "test_acc_all=np.average(true_labels==pred_labels)\n",
        "test_acc_known=np.average(true_labels[known_idx]==pred_labels[known_idx])\n",
        "test_acc_all, test_acc_known"
      ]
    },
    {
      "cell_type": "markdown",
      "source": [
        "The non-bayesian CNN scores 58.45% accuracy on all 10 items, because it misidentified horse (it can't possibly classify it correctly), but it scored 64.9% accuracy on the remaining categories."
      ],
      "metadata": {
        "id": "sWHBMHOyu1bQ"
      }
    },
    {
      "cell_type": "markdown",
      "source": [
        "# New"
      ],
      "metadata": {
        "id": "nHGYBSS1PHkB"
      }
    },
    {
      "cell_type": "markdown",
      "source": [
        "I want to restart my runs here, so I don't have to reload everything (data, history of model training, imports) so what I need to do is Delete Variables created from the previous run."
      ],
      "metadata": {
        "id": "-lkU5FkfPS2X"
      }
    },
    {
      "cell_type": "code",
      "source": [
        "def delete_old_params():\n",
        "  del(params, run) \n",
        "  del( test_datagen, tta_steps, bs, display_datagen, preds, predictions_tta, cm_tta,  entropy_tta, nll_tta, pred_labels_tta, df,\n",
        "      test_acc_all_tta, final_pred, pred_tta, pred_max_p_tta, pred_std_tta, pred_tta_mean_max_p)\n",
        "  del(predictions_tta_idx, final_pred_idx)\n",
        "  del(disp_tta)\n",
        "  del(X_batch, y_batch)\n",
        "  \n",
        "# try: \n",
        "#   list_of_vars =  [params, run,  test_datagen, tta_steps, bs, display_datagen, preds, predictions_tta, cm_tta,  entropy_tta, nll_tta, pred_labels_tta, df,\n",
        "#       test_acc_all_tta, final_pred, pred_tta, pred_max_p_tta, pred_std_tta, pred_tta_mean_max_p,\n",
        "#   predictions_tta_idx, final_pred_idx, disp_tta, X_batch, y_batch]\n",
        "# except NameError:\n",
        "#   list_of_vars =  [params, run,  test_datagen, tta_steps, bs, display_datagen, preds, predictions_tta, cm_tta,  entropy_tta, nll_tta, pred_labels_tta, df,\n",
        "#       test_acc_all_tta, final_pred, pred_tta, pred_max_p_tta, pred_std_tta, pred_tta_mean_max_p,\n",
        "#   predictions_tta_idx, final_pred_idx, disp_tta, X_batch, y_batch]\n",
        "\n",
        "# for i in list_of_vars:\n",
        "#   try:  \n",
        "#     i\n",
        "#   except NameError:\n",
        "#    del(i)\n"
      ],
      "metadata": {
        "id": "zkf6k9goPSCP"
      },
      "execution_count": 26,
      "outputs": []
    },
    {
      "cell_type": "code",
      "source": [
        "start = datetime.datetime.now()\n",
        "print(start)"
      ],
      "metadata": {
        "colab": {
          "base_uri": "https://localhost:8080/"
        },
        "id": "dwF8_ZiEXjsY",
        "outputId": "db4afff1-1eb2-49cc-8072-31fb08dc1975"
      },
      "execution_count": 27,
      "outputs": [
        {
          "output_type": "stream",
          "name": "stdout",
          "text": [
            "2023-01-03 12:58:57.222564\n"
          ]
        }
      ]
    },
    {
      "cell_type": "markdown",
      "source": [
        "#### 🆕 Test Time Augmentation\n",
        "\n",
        "Here I predict the labels for the traditional CNN with Test Time Augmentation and possibly calculate the uncertainty measures.  I predict the same image for 50 times and calculate the mean predicted probabilities, the nll, the entropy, and total standard deviations. "
      ],
      "metadata": {
        "id": "ErVsj1dAKSXs"
      }
    },
    {
      "metadata": {
        "id": "_ICzIOrPQ6Lu"
      },
      "cell_type": "markdown",
      "source": [
        "Define the Test Time Image Generator\n",
        "\n",
        "Keras has predefined choices of [augmentations defined here](https://www.tensorflow.org/api_docs/python/tf/keras/preprocessing/image/ImageDataGenerator) and explained visually well [here](https://towardsdatascience.com/exploring-image-data-augmentation-with-keras-and-tensorflow-a8162d89b844) in a TowardsDataScience Medium Blog Post "
      ]
    },
    {
      "cell_type": "code",
      "source": [
        "import neptune.new as neptune\n",
        "from neptune.new.types import File\n"
      ],
      "metadata": {
        "id": "UNYO-XeiL2I8"
      },
      "execution_count": 28,
      "outputs": []
    },
    {
      "cell_type": "markdown",
      "source": [
        "##### def new_run()"
      ],
      "metadata": {
        "id": "7mHjJxjTUKZf"
      }
    },
    {
      "cell_type": "code",
      "source": [
        "# Initialize a New Neptune Run function - takes no input yet? #returns a run\n",
        "def new_run():\n",
        "    run = neptune.init(\n",
        "      project=\"rachel.ramirez2006/RotationsOnly\",\n",
        "      api_token=\"eyJhcGlfYWRkcmVzcyI6Imh0dHBzOi8vYXBwLm5lcHR1bmUuYWkiLCJhcGlfdXJsIjoiaHR0cHM6Ly9hcHAubmVwdHVuZS5haSIsImFwaV9rZXkiOiI4NWZjMGEyYy1mZGI3LTQ1NWMtOGUyZi0wODc2OWI2OGU3NzcifQ==\",)  # your credentials\n",
        "    return run\n"
      ],
      "metadata": {
        "id": "_lSZknYQL38h"
      },
      "execution_count": 29,
      "outputs": []
    },
    {
      "metadata": {
        "id": "9zJGPFtEQ6Lw"
      },
      "cell_type": "code",
      "source": [
        "tta_steps = 50\n",
        "bs = 64\n",
        "# epochs = 15"
      ],
      "execution_count": 30,
      "outputs": []
    },
    {
      "cell_type": "markdown",
      "source": [
        "There are the original tried test_datagen that have resulted in the highest accuracy scores:\n",
        "\n",
        "        tta_steps = 50,\n",
        "        bs = 64,\n",
        "        \n",
        "        shear_range=0.1,\n",
        "        zoom_range=0.1,\n",
        "        horizontal_flip=True,\n",
        "        rotation_range=10.,\n",
        "        fill_mode='reflect', \n",
        "        width_shift_range = 0.1, \n",
        "        height_shift_range = 0.1)"
      ],
      "metadata": {
        "id": "QOEgxOVed9sE"
      }
    },
    {
      "cell_type": "markdown",
      "source": [
        "##### def make_init_params(tta_steps=50, bs=64, low_rotation=0, high_rotation=10,  fill_mode = 'reflect'):"
      ],
      "metadata": {
        "id": "DeTCvqUQUQVN"
      }
    },
    {
      "cell_type": "code",
      "source": [
        "def make_init_params(tta_steps=50, bs=64, low_rotation=0, high_rotation=10,  fill_mode = 'reflect'):\n",
        "  params = {\n",
        "        'tta_steps': tta_steps,\n",
        "        'bs': bs,\n",
        "         'low_rotation': low_rotation,\n",
        "         'high_rotation': high_rotation,  \n",
        "          # 'rotation_range': 5, \n",
        "          # 'shear_range': 5,\n",
        "          # 'zoom_range' : 0.1,\n",
        "          # 'horizontal_flip': True, \n",
        "          # 'width_shift_range' : 0.1,\n",
        "          # 'height_shift_range' : 0.1 ,\n",
        "\n",
        "          # 'brightness_range' : (0.9,1.1),\n",
        "          # 'channel_shift_range': 45/255,\n",
        "          'fill_mode' : fill_mode,\n",
        "          # 'featurewise_center': False,\n",
        "          # 'samplewise_center': False,\n",
        "          # 'featurewise_std_normalization': False,\n",
        "          # 'samplewise_std_normalization' : False,\n",
        "          # 'zca_whitening' : False,\n",
        "\n",
        "\n",
        "            # 'constant': kkkkkkkk|abcd|kkkkkkkk (cval=k)\n",
        "            # 'nearest': aaaaaaaa|abcd|dddddddd\n",
        "            # 'reflect': abcddcba|abcd|dcbaabcd\n",
        "            # 'wrap': abcdabcd|abcd|abcdabcd\n",
        "            # cval\tFloat or Int. Value used for points outside the boundaries when fill_mode = \"constant\".\n",
        "        # 'vertical_flip': False\n",
        "        }\n",
        "  return params\n",
        "\n",
        "\n",
        "\n"
      ],
      "metadata": {
        "id": "EOtuWzRnMFkq"
      },
      "execution_count": 31,
      "outputs": []
    },
    {
      "cell_type": "markdown",
      "source": [
        "##### def make_image_data_generator():\n"
      ],
      "metadata": {
        "id": "bA9k7Q7mUgOR"
      }
    },
    {
      "cell_type": "code",
      "source": [
        "def make_image_data_generator(params):\n",
        "  #takes a dictionary of parameters \n",
        "  #makes display_datagen to display augmentations on a batch\n",
        "  #saves display to run\n",
        "  #returns test_datagen\n",
        "\n",
        "  test_datagen = ImageDataGenerator(\n",
        "          #preprocessing_function=revertscale_fn,   #hoping this will increase the overall accuracy of TTA from 0.448 to something more similar to the vanilla CNN without TTA - IT DID NOT\n",
        "          #rescale = 1./255,\n",
        "          # shear_range=params['shear_range'],\n",
        "          # zoom_range=params['zoom_range'],\n",
        "          # horizontal_flip=params['horizontal_flip'],\n",
        "          rotation_range= params['high_rotation'],\n",
        "          fill_mode=params['fill_mode'] ,\n",
        "        #   width_shift_range = params['width_shift_range'], \n",
        "        #   height_shift_range = params['height_shift_range'],\n",
        "\n",
        "        #  featurewise_center = params['featurewise_center'],\n",
        "        #  samplewise_center  = params['samplewise_center'],\n",
        "        #  featurewise_std_normalization = params['featurewise_std_normalization'],\n",
        "        #  samplewise_std_normalization = params['samplewise_std_normalization'],\n",
        "\n",
        "        #   zca_whitening = params['zca_whitening'],\n",
        "\n",
        "        #   brightness_range = params['brightness_range'],\n",
        "  \n",
        "          # channel_shift_range = params['channel_shift_range'],\n",
        "          # vertical_flip = params['vertical_flip']\n",
        "          )\n",
        "\n",
        "  display_datagen = ImageDataGenerator(\n",
        "          preprocessing_function=revertscale_fn,   #yay that worked\n",
        "          rescale = 1./255,\n",
        "            # shear_range=params['shear_range'],\n",
        "            # zoom_range=params['zoom_range'],\n",
        "            # horizontal_flip=params['horizontal_flip'],\n",
        "            rotation_range= params['high_rotation'],\n",
        "            fill_mode=params['fill_mode'] ,\n",
        "          #   width_shift_range = params['width_shift_range'], \n",
        "          #   height_shift_range = params['height_shift_range'],\n",
        "\n",
        "          #  featurewise_center = params['featurewise_center'],\n",
        "          #  samplewise_center  = params['samplewise_center'],\n",
        "          #  featurewise_std_normalization = params['featurewise_std_normalization'],\n",
        "          #  samplewise_std_normalization = params['samplewise_std_normalization'],\n",
        "\n",
        "          #   zca_whitening = params['zca_whitening'],\n",
        "\n",
        "          #   brightness_range = params['brightness_range'],\n",
        "    \n",
        "          #   channel_shift_range = params['channel_shift_range'],\n",
        "          #   vertical_flip = params['vertical_flip'],\n",
        "    )\n",
        "\n",
        "  display_datagen.fit(x_train)\n",
        "\n",
        "  tta_plt = plt.figure(figsize=(10,5)) #I want to name this plot so I can save it in Neptune.\n",
        "\n",
        "  for X_batch, y_batch in display_datagen.flow(x_train, y_train, batch_size=15):\n",
        "      for i in range(0, 15):\n",
        "          plt.subplot(3, 5, i+1)\n",
        "          plt.imshow(X_batch[i].reshape(32, 32, 3), cmap=plt.get_cmap('gray'))\n",
        "          plt.axis('off')\n",
        "      plt.tight_layout(pad=0.1)\n",
        "      plt.show()\n",
        "      break\n",
        "\n",
        "  run[\"tta_image_preview\"].upload(tta_plt)   #I want to save this plot in Neptune.\n",
        "  # run[\"tta_image_preview-interactive\"].upload(File.as_html(tta_plt)) #doesnt work\n",
        "\n",
        "  return test_datagen\n"
      ],
      "metadata": {
        "id": "seVCCesQUZLx"
      },
      "execution_count": 57,
      "outputs": []
    },
    {
      "cell_type": "markdown",
      "source": [
        "##### def make_predictions_with_tta():\n"
      ],
      "metadata": {
        "id": "Cuo55Oa-Un49"
      }
    },
    {
      "metadata": {
        "id": "ZVU-2IQQQ6Lz",
        "outputId": "2483aca2-8306-4da3-ba3d-60bdc680a737",
        "colab": {
          "base_uri": "https://localhost:8080/",
          "height": 101,
          "referenced_widgets": [
            "d62e2f1653a04efabef3755a12f1addd",
            "38f01ca23a0b478fb9cd33f8fa2c9c6e",
            "658022ba608a4f428ed02c8095a95b87",
            "5c85f27be06b469d9d0786adc6d631cd",
            "c97b37c8b4cb4541a74cbf085119dd63",
            "9eb19b62946446eba0e1eb345b33a975",
            "51653a904f8f4f199adf0329bc752cac",
            "60bf2e3ae0d444c2b020fa15d05de26c",
            "040744f97d134fb895b2572e5dc64f7e",
            "e205d7c618f844659d63fff9d40ab468",
            "12e734b59119412bbfd3eec7166db968"
          ]
        }
      },
      "cell_type": "code",
      "source": [
        "def make_predictions_with_tta():\n",
        "  #takes test_datagen, model, and x_test, tta_steps\n",
        "  #returns final_pred the mean of all tta_steps\n",
        "  \n",
        "  predictions_tta = []\n",
        "  predictions_tta_df =  pd.DataFrame([])\n",
        "  test_datagen.fit(x_train)\n",
        "\n",
        "  for i in tqdm(range(tta_steps)):\n",
        "      preds = model.predict(test_datagen.flow(x_test, batch_size=bs, shuffle=False), steps = len(x_test)/bs, verbose=0)   #Changed X_val to X_test \n",
        "      predictions_tta.append(preds)\n",
        "      \n",
        "  predictions_tta_df = pd.DataFrame(predictions_tta)   #this is a data frame nwo so easier to save and review on neptune\n",
        "  \n",
        "  final_pred = np.mean(predictions_tta, axis=0)\n",
        "  # final_pred[0] #This is the average guess for image 0, \"3\" followed by \"5\"\n",
        "  # np.argmax(final_pred[0])\n",
        "\n",
        "  df = pd.DataFrame(data={'y_test': y_test.reshape(-1), 'y_pred': final_pred.argmax(axis=1), 'y_pred_probability': final_pred.max(axis=1)})\n",
        "\n",
        "\n",
        "  df = df.assign(Test_Labels = lambda df: labels[df.y_test])\n",
        "  df = df.assign(Pred_Labels = lambda df: labels_no_horse[df.y_pred])\n",
        "  df = df.assign(Result=lambda df: df.Test_Labels==df.Pred_Labels)\n",
        "  df['Result'].value_counts()\n",
        "  run['Table_Of_Mean_TTA_Test_Predictions'] = neptune.types.File.as_html(df)\n",
        "  # run['all_predictions'] =  predictions_tta #not helpful because the list is longer than 16348 characters? probably should be \"auxillary files\"\n",
        "  run['predictions_tta_df'] = predictions_tta_df\n",
        "  run['Table_of_50_Indiv_TTA_TestPredictions'] = neptune.types.File.as_html(predictions_tta_df)\n",
        "\n",
        "\n",
        "  return final_pred"
      ],
      "execution_count": null,
      "outputs": [
        {
          "output_type": "stream",
          "name": "stderr",
          "text": [
            "<ipython-input-68-9b79f6ea4ffe>:5: TqdmDeprecationWarning: This function will be removed in tqdm==5.0.0\n",
            "Please use `tqdm.notebook.tqdm` instead of `tqdm.tqdm_notebook`\n",
            "  for i in tqdm(range(tta_steps)):\n"
          ]
        },
        {
          "output_type": "display_data",
          "data": {
            "text/plain": [
              "  0%|          | 0/50 [00:00<?, ?it/s]"
            ],
            "application/vnd.jupyter.widget-view+json": {
              "version_major": 2,
              "version_minor": 0,
              "model_id": "d62e2f1653a04efabef3755a12f1addd"
            }
          },
          "metadata": {}
        }
      ]
    },
    {
      "cell_type": "code",
      "source": [
        "#"
      ],
      "metadata": {
        "id": "X90Vqw4KYLfN"
      },
      "execution_count": 34,
      "outputs": []
    },
    {
      "metadata": {
        "id": "-kgjEFe-Q6L3"
      },
      "cell_type": "code",
      "source": [
        "# predictions_tta = []\n",
        "# predictions_tta_df =  pd.DataFrame([])\n",
        "# test_datagen.fit(x_train)\n",
        "\n",
        "# for i in tqdm(range(tta_steps)):\n",
        "#     preds = model.predict(test_datagen.flow(x_test, batch_size=bs, shuffle=False), steps = len(x_test)/bs, verbose=0)   #Changed X_val to X_test \n",
        "#     predictions_tta.append(preds)\n",
        "#     predictions_tta_df[i] = pd.DataFrame(preds)  #this is a data frame nwo so easier to save and review on neptune\n",
        "\n",
        "# final_pred = np.mean(predictions_tta, axis=0)\n",
        "# # final_pred[0] #This is the average guess for image 0, \"3\" followed by \"5\"\n",
        "# # np.argmax(final_pred[0])\n",
        "\n",
        "# df = pd.DataFrame(data={'y_test': y_test.reshape(-1), 'y_pred': final_pred.argmax(axis=1), 'y_pred_probability': final_pred.max(axis=1)})"
      ],
      "execution_count": 35,
      "outputs": []
    },
    {
      "cell_type": "code",
      "source": [
        "# predictions_tta[0][0]   #the first guess of #tta_steps for the 0th image, 1st prob guess is \"3\" followed by \"5\"\n",
        "# predictions_tta[9][0]   #the 9th   guess of #tta_steps for the 0th image, 1st largest prob is \"3\" followed by \"5\"\n",
        "# y_test[0]               #the actual label of the 0th test image is \"3\" so it would have got this correct."
      ],
      "metadata": {
        "id": "MOMekun2vugU"
      },
      "execution_count": 36,
      "outputs": []
    },
    {
      "metadata": {
        "id": "l61pZL8HQ6L7"
      },
      "cell_type": "code",
      "source": [
        "# final_pred = np.mean(predictions_tta, axis=0)\n",
        "# # final_pred[0] #This is the average guess for image 0, \"3\" followed by \"5\"\n",
        "# # np.argmax(final_pred[0])\n",
        "\n",
        "# df = pd.DataFrame(data={'y_test': y_test.reshape(-1), 'y_pred': final_pred.argmax(axis=1), 'y_pred_probability': final_pred.max(axis=1)})\n",
        " "
      ],
      "execution_count": 37,
      "outputs": []
    },
    {
      "cell_type": "code",
      "source": [
        "# df = df.assign(Result=lambda df: df.y_test==df.y_pred)  # This would get the wrong answer because my predicted numbers are shifted\n",
        "# df = df.assign(Test_Labels = lambda df: labels[df.y_test])\n",
        "# df = df.assign(Pred_Labels = lambda df: labels_no_horse[df.y_pred])\n",
        "# df = df.assign(Result=lambda df: df.Test_Labels==df.Pred_Labels)\n",
        "# df['Result'].value_counts()\n",
        "# run['Table_Of_Mean_TTA_Test_Predictions'] = neptune.types.File.as_html(df)\n",
        "# # run['all_predictions'] =  predictions_tta #not helpful because the list is longer than 16348 characters? probably should be \"auxillary files\"\n",
        "# run['predictions_tta_df'] = predictions_tta_df\n",
        "# run['Table_of_50_Indiv_TTA_TestPredictions'] = neptune.types.File.as_html(predictions_tta_df)"
      ],
      "metadata": {
        "id": "8mMGhTOjyi-6"
      },
      "execution_count": 38,
      "outputs": []
    },
    {
      "cell_type": "code",
      "source": [
        "# Size of things\n",
        "#final_pred         # An array of 10000x9 10000 images with 9 classes of probabilities\n",
        "#predictions_tta    # A list of TTA_#_OF_Steps of  10000 images with 9 classes of probabilities"
      ],
      "metadata": {
        "id": "mqafCtBM5Awi"
      },
      "execution_count": 39,
      "outputs": []
    },
    {
      "cell_type": "markdown",
      "source": [
        "##### def calc_metrics()"
      ],
      "metadata": {
        "id": "MAyI_vRrUsho"
      }
    },
    {
      "cell_type": "code",
      "source": [
        "# final_pred\n",
        "def calc_metrics():\n",
        "  #takes x_test predictions and truth and calculates metrics like max p, std def, entropy\n",
        "  # returns run information for Neptune\n",
        "  pred_tta=np.zeros((len(x_test),9))\n",
        "  pred_max_p_tta=np.zeros((len(x_test)))\n",
        "  pred_std_tta=np.zeros((len(x_test)))\n",
        "  entropy_tta = np.zeros((len(x_test)))\n",
        "\n",
        "\n",
        "  for i in tqdm(range(0,len(x_test))):\n",
        "    #multi_img=np.tile(x_test[i],(50,1,1,1))\n",
        "    #preds=model_mc_pred([multi_img,1])\n",
        "    pred_tta[i]= final_pred[i]\n",
        "    pred_max_p_tta[i]=np.argmax(final_pred[i]) #mean over n runs of every proba class\n",
        "    pred_std_tta[i]= np.sqrt(np.sum(np.var(final_pred[i])))\n",
        "    entropy_tta[i] = -np.sum( pred_tta[i] * np.log2(pred_tta[i] + 1E-14)) #Numerical Stability\n",
        "    \n",
        "\n",
        "  pred_labels_tta=np.array([labels_no_horse[np.argmax(pred_tta[i])] for i in range(0,len(pred_tta))])\n",
        "  pred_tta_mean_max_p=np.array([pred_tta[i][np.argmax(pred_tta[i])] for i in range(0,len(pred_tta))])\n",
        "  nll_tta=-np.log(pred_tta_mean_max_p)\n",
        "\n",
        "\n",
        "  # Non-Bayesian copy/paste with final_pred, didn't work... \n",
        "  # pred_max_p=np.max(final_pred,axis=1)\n",
        "  # entropy_tta=np.array([-np.sum( final_pred[i] * np.log2(final_pred[i] + 1E-14)) for i in range(0,len(final_pred))])\n",
        "  # nll_tta=-np.log(pred_max_p)\n",
        "  # pred_labels_tta=np.array([labels_no_horse[np.argmax(final_pred[i])] for i in range(0,len(final_pred))])\n",
        "  # true_labels=np.array([labels[y_test[i][0]] for i in range(0,len(y_test))])\n",
        "\n",
        "\n",
        "  test_acc_all_tta=np.average(true_labels==pred_labels_tta)\n",
        "  test_acc_known_tta=np.average(true_labels[known_idx]==pred_labels_tta[known_idx])\n",
        "  print(test_acc_all_tta, test_acc_known_tta)\n",
        "  run[\"test_acc_all_tta\"] = test_acc_all_tta\n",
        "  run[\"test_acc_known_tta\"] = test_acc_known_tta\n",
        "\n",
        "  run[\"pred_labels_tta\"] = pred_labels_tta\n",
        "  run[\"nll_tta\"] = nll_tta\n",
        "  run[\"entropy_tta\"] = entropy_tta\n",
        "  run[\"pred_max_p_tta\"] = pred_max_p_tta\n",
        "  run[\"test_cm_tta\"] = cm_tta\n",
        "  run['predictions_tta_dataframe'] = df\n",
        "\n",
        "\n",
        "  return run"
      ],
      "metadata": {
        "id": "9gf4iPfa0djG"
      },
      "execution_count": 40,
      "outputs": []
    },
    {
      "cell_type": "code",
      "source": [
        "# For-Loop  i = 1 through 5\n",
        "\n",
        "# Define a Run Function\n",
        "run = new_run()\n",
        "\n",
        "# create a dictionary of  parameters to pass to data_generator\n",
        "init_params = make_init_params(high_rotation=i)  # I need an inbetween var bc when run.stop runs the run[parameters] var disappears \n",
        "\n",
        "run[\"parameters\"]  = init_params\n",
        "\n",
        "test_datagen = make_image_data_generator(init_params)\n",
        "\n",
        "# save predictions\n",
        "make_predictions_with_tta()\n",
        "calc_metrics()\n",
        "\n",
        "run.stop()"
      ],
      "metadata": {
        "id": "7pu0ZplQJXKB",
        "outputId": "9ce15eb6-88fa-4cfe-bcef-197114fc0758",
        "colab": {
          "base_uri": "https://localhost:8080/",
          "height": 1000,
          "referenced_widgets": [
            "95a4cb21f83141fdbf6a43763b38727e",
            "81e42229bd6e4aca9f69da5d7dd440e3",
            "b20b5299949c48f09c741f3c3da75fe1",
            "915748d16d4a4e068733dfbf8bbb304e",
            "fec8f373c39c437cb665635cd8b78b5e",
            "2174ec42fb19447aa74c17aa3d049268",
            "2c653b1bb7954b0286dbe54bb8061b48",
            "2ee04afe405745308efb36d38c45d61d",
            "16ab0005c3e8473cabecde7689f273a1",
            "ab4fb27cc86e4916abb5e7c98ff9a0a7",
            "10427441fd2a421089b7a4e8dafcf712"
          ]
        }
      },
      "execution_count": 58,
      "outputs": [
        {
          "output_type": "stream",
          "name": "stdout",
          "text": [
            "https://app.neptune.ai/rachel.ramirez2006/RotationsOnly/e/ROT-20\n",
            "Remember to stop your run once you’ve finished logging your metadata (https://docs.neptune.ai/api/run#stop). It will be stopped automatically only when the notebook kernel/interactive console is terminated.\n"
          ]
        },
        {
          "output_type": "display_data",
          "data": {
            "text/plain": [
              "<Figure size 1000x500 with 15 Axes>"
            ],
            "image/png": "[encoded data removed]"
          },
          "metadata": {}
        },
        {
          "output_type": "stream",
          "name": "stderr",
          "text": [
            "<ipython-input-33-4cbb5df472c6>:9: TqdmDeprecationWarning: This function will be removed in tqdm==5.0.0\n",
            "Please use `tqdm.notebook.tqdm` instead of `tqdm.tqdm_notebook`\n",
            "  for i in tqdm(range(tta_steps)):\n"
          ]
        },
        {
          "output_type": "display_data",
          "data": {
            "text/plain": [
              "  0%|          | 0/50 [00:00<?, ?it/s]"
            ],
            "application/vnd.jupyter.widget-view+json": {
              "version_major": 2,
              "version_minor": 0,
              "model_id": "95a4cb21f83141fdbf6a43763b38727e"
            }
          },
          "metadata": {}
        },
        {
          "output_type": "error",
          "ename": "ValueError",
          "evalue": "ignored",
          "traceback": [
            "\u001b[0;31m---------------------------------------------------------------------------\u001b[0m",
            "\u001b[0;31mKeyError\u001b[0m                                  Traceback (most recent call last)",
            "\u001b[0;32m/usr/local/lib/python3.8/dist-packages/pandas/core/indexes/base.py\u001b[0m in \u001b[0;36mget_loc\u001b[0;34m(self, key, method, tolerance)\u001b[0m\n\u001b[1;32m   3360\u001b[0m             \u001b[0;32mtry\u001b[0m\u001b[0;34m:\u001b[0m\u001b[0;34m\u001b[0m\u001b[0;34m\u001b[0m\u001b[0m\n\u001b[0;32m-> 3361\u001b[0;31m                 \u001b[0;32mreturn\u001b[0m \u001b[0mself\u001b[0m\u001b[0;34m.\u001b[0m\u001b[0m_engine\u001b[0m\u001b[0;34m.\u001b[0m\u001b[0mget_loc\u001b[0m\u001b[0;34m(\u001b[0m\u001b[0mcasted_key\u001b[0m\u001b[0;34m)\u001b[0m\u001b[0;34m\u001b[0m\u001b[0;34m\u001b[0m\u001b[0m\n\u001b[0m\u001b[1;32m   3362\u001b[0m             \u001b[0;32mexcept\u001b[0m \u001b[0mKeyError\u001b[0m \u001b[0;32mas\u001b[0m \u001b[0merr\u001b[0m\u001b[0;34m:\u001b[0m\u001b[0;34m\u001b[0m\u001b[0;34m\u001b[0m\u001b[0m\n",
            "\u001b[0;32m/usr/local/lib/python3.8/dist-packages/pandas/_libs/index.pyx\u001b[0m in \u001b[0;36mpandas._libs.index.IndexEngine.get_loc\u001b[0;34m()\u001b[0m\n",
            "\u001b[0;32m/usr/local/lib/python3.8/dist-packages/pandas/_libs/index.pyx\u001b[0m in \u001b[0;36mpandas._libs.index.IndexEngine.get_loc\u001b[0;34m()\u001b[0m\n",
            "\u001b[0;32mpandas/_libs/hashtable_class_helper.pxi\u001b[0m in \u001b[0;36mpandas._libs.hashtable.PyObjectHashTable.get_item\u001b[0;34m()\u001b[0m\n",
            "\u001b[0;32mpandas/_libs/hashtable_class_helper.pxi\u001b[0m in \u001b[0;36mpandas._libs.hashtable.PyObjectHashTable.get_item\u001b[0;34m()\u001b[0m\n",
            "\u001b[0;31mKeyError\u001b[0m: 0",
            "\nThe above exception was the direct cause of the following exception:\n",
            "\u001b[0;31mKeyError\u001b[0m                                  Traceback (most recent call last)",
            "\u001b[0;32m/usr/local/lib/python3.8/dist-packages/pandas/core/frame.py\u001b[0m in \u001b[0;36m_set_item_mgr\u001b[0;34m(self, key, value)\u001b[0m\n\u001b[1;32m   3750\u001b[0m         \u001b[0;32mtry\u001b[0m\u001b[0;34m:\u001b[0m\u001b[0;34m\u001b[0m\u001b[0;34m\u001b[0m\u001b[0m\n\u001b[0;32m-> 3751\u001b[0;31m             \u001b[0mloc\u001b[0m \u001b[0;34m=\u001b[0m \u001b[0mself\u001b[0m\u001b[0;34m.\u001b[0m\u001b[0m_info_axis\u001b[0m\u001b[0;34m.\u001b[0m\u001b[0mget_loc\u001b[0m\u001b[0;34m(\u001b[0m\u001b[0mkey\u001b[0m\u001b[0;34m)\u001b[0m\u001b[0;34m\u001b[0m\u001b[0;34m\u001b[0m\u001b[0m\n\u001b[0m\u001b[1;32m   3752\u001b[0m         \u001b[0;32mexcept\u001b[0m \u001b[0mKeyError\u001b[0m\u001b[0;34m:\u001b[0m\u001b[0;34m\u001b[0m\u001b[0;34m\u001b[0m\u001b[0m\n",
            "\u001b[0;32m/usr/local/lib/python3.8/dist-packages/pandas/core/indexes/base.py\u001b[0m in \u001b[0;36mget_loc\u001b[0;34m(self, key, method, tolerance)\u001b[0m\n\u001b[1;32m   3362\u001b[0m             \u001b[0;32mexcept\u001b[0m \u001b[0mKeyError\u001b[0m \u001b[0;32mas\u001b[0m \u001b[0merr\u001b[0m\u001b[0;34m:\u001b[0m\u001b[0;34m\u001b[0m\u001b[0;34m\u001b[0m\u001b[0m\n\u001b[0;32m-> 3363\u001b[0;31m                 \u001b[0;32mraise\u001b[0m \u001b[0mKeyError\u001b[0m\u001b[0;34m(\u001b[0m\u001b[0mkey\u001b[0m\u001b[0;34m)\u001b[0m \u001b[0;32mfrom\u001b[0m \u001b[0merr\u001b[0m\u001b[0;34m\u001b[0m\u001b[0;34m\u001b[0m\u001b[0m\n\u001b[0m\u001b[1;32m   3364\u001b[0m \u001b[0;34m\u001b[0m\u001b[0m\n",
            "\u001b[0;31mKeyError\u001b[0m: 0",
            "\nDuring handling of the above exception, another exception occurred:\n",
            "\u001b[0;31mValueError\u001b[0m                                Traceback (most recent call last)",
            "\u001b[0;32m<ipython-input-58-0703547ea55b>\u001b[0m in \u001b[0;36m<module>\u001b[0;34m\u001b[0m\n\u001b[1;32m     12\u001b[0m \u001b[0;34m\u001b[0m\u001b[0m\n\u001b[1;32m     13\u001b[0m \u001b[0;31m# save predictions\u001b[0m\u001b[0;34m\u001b[0m\u001b[0;34m\u001b[0m\u001b[0;34m\u001b[0m\u001b[0m\n\u001b[0;32m---> 14\u001b[0;31m \u001b[0mmake_predictions_with_tta\u001b[0m\u001b[0;34m(\u001b[0m\u001b[0;34m)\u001b[0m\u001b[0;34m\u001b[0m\u001b[0;34m\u001b[0m\u001b[0m\n\u001b[0m\u001b[1;32m     15\u001b[0m \u001b[0mcalc_metrics\u001b[0m\u001b[0;34m(\u001b[0m\u001b[0;34m)\u001b[0m\u001b[0;34m\u001b[0m\u001b[0;34m\u001b[0m\u001b[0m\n\u001b[1;32m     16\u001b[0m \u001b[0;34m\u001b[0m\u001b[0m\n",
            "\u001b[0;32m<ipython-input-33-4cbb5df472c6>\u001b[0m in \u001b[0;36mmake_predictions_with_tta\u001b[0;34m()\u001b[0m\n\u001b[1;32m     10\u001b[0m       \u001b[0mpreds\u001b[0m \u001b[0;34m=\u001b[0m \u001b[0mmodel\u001b[0m\u001b[0;34m.\u001b[0m\u001b[0mpredict\u001b[0m\u001b[0;34m(\u001b[0m\u001b[0mtest_datagen\u001b[0m\u001b[0;34m.\u001b[0m\u001b[0mflow\u001b[0m\u001b[0;34m(\u001b[0m\u001b[0mx_test\u001b[0m\u001b[0;34m,\u001b[0m \u001b[0mbatch_size\u001b[0m\u001b[0;34m=\u001b[0m\u001b[0mbs\u001b[0m\u001b[0;34m,\u001b[0m \u001b[0mshuffle\u001b[0m\u001b[0;34m=\u001b[0m\u001b[0;32mFalse\u001b[0m\u001b[0;34m)\u001b[0m\u001b[0;34m,\u001b[0m \u001b[0msteps\u001b[0m \u001b[0;34m=\u001b[0m \u001b[0mlen\u001b[0m\u001b[0;34m(\u001b[0m\u001b[0mx_test\u001b[0m\u001b[0;34m)\u001b[0m\u001b[0;34m/\u001b[0m\u001b[0mbs\u001b[0m\u001b[0;34m,\u001b[0m \u001b[0mverbose\u001b[0m\u001b[0;34m=\u001b[0m\u001b[0;36m0\u001b[0m\u001b[0;34m)\u001b[0m   \u001b[0;31m#Changed X_val to X_test\u001b[0m\u001b[0;34m\u001b[0m\u001b[0;34m\u001b[0m\u001b[0m\n\u001b[1;32m     11\u001b[0m       \u001b[0mpredictions_tta\u001b[0m\u001b[0;34m.\u001b[0m\u001b[0mappend\u001b[0m\u001b[0;34m(\u001b[0m\u001b[0mpreds\u001b[0m\u001b[0;34m)\u001b[0m\u001b[0;34m\u001b[0m\u001b[0;34m\u001b[0m\u001b[0m\n\u001b[0;32m---> 12\u001b[0;31m       \u001b[0mpredictions_tta_df\u001b[0m\u001b[0;34m[\u001b[0m\u001b[0mi\u001b[0m\u001b[0;34m]\u001b[0m \u001b[0;34m=\u001b[0m \u001b[0mpd\u001b[0m\u001b[0;34m.\u001b[0m\u001b[0mDataFrame\u001b[0m\u001b[0;34m(\u001b[0m\u001b[0mpreds\u001b[0m\u001b[0;34m)\u001b[0m  \u001b[0;31m#this is a data frame nwo so easier to save and review on neptune\u001b[0m\u001b[0;34m\u001b[0m\u001b[0;34m\u001b[0m\u001b[0m\n\u001b[0m\u001b[1;32m     13\u001b[0m \u001b[0;34m\u001b[0m\u001b[0m\n\u001b[1;32m     14\u001b[0m   \u001b[0mfinal_pred\u001b[0m \u001b[0;34m=\u001b[0m \u001b[0mnp\u001b[0m\u001b[0;34m.\u001b[0m\u001b[0mmean\u001b[0m\u001b[0;34m(\u001b[0m\u001b[0mpredictions_tta\u001b[0m\u001b[0;34m,\u001b[0m \u001b[0maxis\u001b[0m\u001b[0;34m=\u001b[0m\u001b[0;36m0\u001b[0m\u001b[0;34m)\u001b[0m\u001b[0;34m\u001b[0m\u001b[0;34m\u001b[0m\u001b[0m\n",
            "\u001b[0;32m/usr/local/lib/python3.8/dist-packages/pandas/core/frame.py\u001b[0m in \u001b[0;36m__setitem__\u001b[0;34m(self, key, value)\u001b[0m\n\u001b[1;32m   3600\u001b[0m             \u001b[0mself\u001b[0m\u001b[0;34m.\u001b[0m\u001b[0m_setitem_array\u001b[0m\u001b[0;34m(\u001b[0m\u001b[0mkey\u001b[0m\u001b[0;34m,\u001b[0m \u001b[0mvalue\u001b[0m\u001b[0;34m)\u001b[0m\u001b[0;34m\u001b[0m\u001b[0;34m\u001b[0m\u001b[0m\n\u001b[1;32m   3601\u001b[0m         \u001b[0;32melif\u001b[0m \u001b[0misinstance\u001b[0m\u001b[0;34m(\u001b[0m\u001b[0mvalue\u001b[0m\u001b[0;34m,\u001b[0m \u001b[0mDataFrame\u001b[0m\u001b[0;34m)\u001b[0m\u001b[0;34m:\u001b[0m\u001b[0;34m\u001b[0m\u001b[0;34m\u001b[0m\u001b[0m\n\u001b[0;32m-> 3602\u001b[0;31m             \u001b[0mself\u001b[0m\u001b[0;34m.\u001b[0m\u001b[0m_set_item_frame_value\u001b[0m\u001b[0;34m(\u001b[0m\u001b[0mkey\u001b[0m\u001b[0;34m,\u001b[0m \u001b[0mvalue\u001b[0m\u001b[0;34m)\u001b[0m\u001b[0;34m\u001b[0m\u001b[0;34m\u001b[0m\u001b[0m\n\u001b[0m\u001b[1;32m   3603\u001b[0m         elif (\n\u001b[1;32m   3604\u001b[0m             \u001b[0mis_list_like\u001b[0m\u001b[0;34m(\u001b[0m\u001b[0mvalue\u001b[0m\u001b[0;34m)\u001b[0m\u001b[0;34m\u001b[0m\u001b[0;34m\u001b[0m\u001b[0m\n",
            "\u001b[0;32m/usr/local/lib/python3.8/dist-packages/pandas/core/frame.py\u001b[0m in \u001b[0;36m_set_item_frame_value\u001b[0;34m(self, key, value)\u001b[0m\n\u001b[1;32m   3740\u001b[0m         \u001b[0;31m# now align rows\u001b[0m\u001b[0;34m\u001b[0m\u001b[0;34m\u001b[0m\u001b[0;34m\u001b[0m\u001b[0m\n\u001b[1;32m   3741\u001b[0m         \u001b[0marraylike\u001b[0m \u001b[0;34m=\u001b[0m \u001b[0m_reindex_for_setitem\u001b[0m\u001b[0;34m(\u001b[0m\u001b[0mvalue\u001b[0m\u001b[0;34m,\u001b[0m \u001b[0mself\u001b[0m\u001b[0;34m.\u001b[0m\u001b[0mindex\u001b[0m\u001b[0;34m)\u001b[0m\u001b[0;34m\u001b[0m\u001b[0;34m\u001b[0m\u001b[0m\n\u001b[0;32m-> 3742\u001b[0;31m         \u001b[0mself\u001b[0m\u001b[0;34m.\u001b[0m\u001b[0m_set_item_mgr\u001b[0m\u001b[0;34m(\u001b[0m\u001b[0mkey\u001b[0m\u001b[0;34m,\u001b[0m \u001b[0marraylike\u001b[0m\u001b[0;34m)\u001b[0m\u001b[0;34m\u001b[0m\u001b[0;34m\u001b[0m\u001b[0m\n\u001b[0m\u001b[1;32m   3743\u001b[0m \u001b[0;34m\u001b[0m\u001b[0m\n\u001b[1;32m   3744\u001b[0m     \u001b[0;32mdef\u001b[0m \u001b[0m_iset_item_mgr\u001b[0m\u001b[0;34m(\u001b[0m\u001b[0mself\u001b[0m\u001b[0;34m,\u001b[0m \u001b[0mloc\u001b[0m\u001b[0;34m:\u001b[0m \u001b[0mint\u001b[0m \u001b[0;34m|\u001b[0m \u001b[0mslice\u001b[0m \u001b[0;34m|\u001b[0m \u001b[0mnp\u001b[0m\u001b[0;34m.\u001b[0m\u001b[0mndarray\u001b[0m\u001b[0;34m,\u001b[0m \u001b[0mvalue\u001b[0m\u001b[0;34m)\u001b[0m \u001b[0;34m->\u001b[0m \u001b[0;32mNone\u001b[0m\u001b[0;34m:\u001b[0m\u001b[0;34m\u001b[0m\u001b[0;34m\u001b[0m\u001b[0m\n",
            "\u001b[0;32m/usr/local/lib/python3.8/dist-packages/pandas/core/frame.py\u001b[0m in \u001b[0;36m_set_item_mgr\u001b[0;34m(self, key, value)\u001b[0m\n\u001b[1;32m   3752\u001b[0m         \u001b[0;32mexcept\u001b[0m \u001b[0mKeyError\u001b[0m\u001b[0;34m:\u001b[0m\u001b[0;34m\u001b[0m\u001b[0;34m\u001b[0m\u001b[0m\n\u001b[1;32m   3753\u001b[0m             \u001b[0;31m# This item wasn't present, just insert at end\u001b[0m\u001b[0;34m\u001b[0m\u001b[0;34m\u001b[0m\u001b[0;34m\u001b[0m\u001b[0m\n\u001b[0;32m-> 3754\u001b[0;31m             \u001b[0mself\u001b[0m\u001b[0;34m.\u001b[0m\u001b[0m_mgr\u001b[0m\u001b[0;34m.\u001b[0m\u001b[0minsert\u001b[0m\u001b[0;34m(\u001b[0m\u001b[0mlen\u001b[0m\u001b[0;34m(\u001b[0m\u001b[0mself\u001b[0m\u001b[0;34m.\u001b[0m\u001b[0m_info_axis\u001b[0m\u001b[0;34m)\u001b[0m\u001b[0;34m,\u001b[0m \u001b[0mkey\u001b[0m\u001b[0;34m,\u001b[0m \u001b[0mvalue\u001b[0m\u001b[0;34m)\u001b[0m\u001b[0;34m\u001b[0m\u001b[0;34m\u001b[0m\u001b[0m\n\u001b[0m\u001b[1;32m   3755\u001b[0m         \u001b[0;32melse\u001b[0m\u001b[0;34m:\u001b[0m\u001b[0;34m\u001b[0m\u001b[0;34m\u001b[0m\u001b[0m\n\u001b[1;32m   3756\u001b[0m             \u001b[0mself\u001b[0m\u001b[0;34m.\u001b[0m\u001b[0m_iset_item_mgr\u001b[0m\u001b[0;34m(\u001b[0m\u001b[0mloc\u001b[0m\u001b[0;34m,\u001b[0m \u001b[0mvalue\u001b[0m\u001b[0;34m)\u001b[0m\u001b[0;34m\u001b[0m\u001b[0;34m\u001b[0m\u001b[0m\n",
            "\u001b[0;32m/usr/local/lib/python3.8/dist-packages/pandas/core/internals/managers.py\u001b[0m in \u001b[0;36minsert\u001b[0;34m(self, loc, item, value)\u001b[0m\n\u001b[1;32m   1160\u001b[0m             \u001b[0mvalue\u001b[0m \u001b[0;34m=\u001b[0m \u001b[0mensure_block_shape\u001b[0m\u001b[0;34m(\u001b[0m\u001b[0mvalue\u001b[0m\u001b[0;34m,\u001b[0m \u001b[0mndim\u001b[0m\u001b[0;34m=\u001b[0m\u001b[0mself\u001b[0m\u001b[0;34m.\u001b[0m\u001b[0mndim\u001b[0m\u001b[0;34m)\u001b[0m\u001b[0;34m\u001b[0m\u001b[0;34m\u001b[0m\u001b[0m\n\u001b[1;32m   1161\u001b[0m \u001b[0;34m\u001b[0m\u001b[0m\n\u001b[0;32m-> 1162\u001b[0;31m         \u001b[0mblock\u001b[0m \u001b[0;34m=\u001b[0m \u001b[0mnew_block\u001b[0m\u001b[0;34m(\u001b[0m\u001b[0mvalues\u001b[0m\u001b[0;34m=\u001b[0m\u001b[0mvalue\u001b[0m\u001b[0;34m,\u001b[0m \u001b[0mndim\u001b[0m\u001b[0;34m=\u001b[0m\u001b[0mself\u001b[0m\u001b[0;34m.\u001b[0m\u001b[0mndim\u001b[0m\u001b[0;34m,\u001b[0m \u001b[0mplacement\u001b[0m\u001b[0;34m=\u001b[0m\u001b[0mslice\u001b[0m\u001b[0;34m(\u001b[0m\u001b[0mloc\u001b[0m\u001b[0;34m,\u001b[0m \u001b[0mloc\u001b[0m \u001b[0;34m+\u001b[0m \u001b[0;36m1\u001b[0m\u001b[0;34m)\u001b[0m\u001b[0;34m)\u001b[0m\u001b[0;34m\u001b[0m\u001b[0;34m\u001b[0m\u001b[0m\n\u001b[0m\u001b[1;32m   1163\u001b[0m \u001b[0;34m\u001b[0m\u001b[0m\n\u001b[1;32m   1164\u001b[0m         \u001b[0;32mfor\u001b[0m \u001b[0mblkno\u001b[0m\u001b[0;34m,\u001b[0m \u001b[0mcount\u001b[0m \u001b[0;32min\u001b[0m \u001b[0m_fast_count_smallints\u001b[0m\u001b[0;34m(\u001b[0m\u001b[0mself\u001b[0m\u001b[0;34m.\u001b[0m\u001b[0mblknos\u001b[0m\u001b[0;34m[\u001b[0m\u001b[0mloc\u001b[0m\u001b[0;34m:\u001b[0m\u001b[0;34m]\u001b[0m\u001b[0;34m)\u001b[0m\u001b[0;34m:\u001b[0m\u001b[0;34m\u001b[0m\u001b[0;34m\u001b[0m\u001b[0m\n",
            "\u001b[0;32m/usr/local/lib/python3.8/dist-packages/pandas/core/internals/blocks.py\u001b[0m in \u001b[0;36mnew_block\u001b[0;34m(values, placement, ndim, klass)\u001b[0m\n\u001b[1;32m   1935\u001b[0m \u001b[0;34m\u001b[0m\u001b[0m\n\u001b[1;32m   1936\u001b[0m     \u001b[0mvalues\u001b[0m\u001b[0;34m,\u001b[0m \u001b[0m_\u001b[0m \u001b[0;34m=\u001b[0m \u001b[0mextract_pandas_array\u001b[0m\u001b[0;34m(\u001b[0m\u001b[0mvalues\u001b[0m\u001b[0;34m,\u001b[0m \u001b[0;32mNone\u001b[0m\u001b[0;34m,\u001b[0m \u001b[0mndim\u001b[0m\u001b[0;34m)\u001b[0m\u001b[0;34m\u001b[0m\u001b[0;34m\u001b[0m\u001b[0m\n\u001b[0;32m-> 1937\u001b[0;31m     \u001b[0mcheck_ndim\u001b[0m\u001b[0;34m(\u001b[0m\u001b[0mvalues\u001b[0m\u001b[0;34m,\u001b[0m \u001b[0mplacement\u001b[0m\u001b[0;34m,\u001b[0m \u001b[0mndim\u001b[0m\u001b[0;34m)\u001b[0m\u001b[0;34m\u001b[0m\u001b[0;34m\u001b[0m\u001b[0m\n\u001b[0m\u001b[1;32m   1938\u001b[0m \u001b[0;34m\u001b[0m\u001b[0m\n\u001b[1;32m   1939\u001b[0m     \u001b[0;32mif\u001b[0m \u001b[0mklass\u001b[0m \u001b[0;32mis\u001b[0m \u001b[0;32mNone\u001b[0m\u001b[0;34m:\u001b[0m\u001b[0;34m\u001b[0m\u001b[0;34m\u001b[0m\u001b[0m\n",
            "\u001b[0;32m/usr/local/lib/python3.8/dist-packages/pandas/core/internals/blocks.py\u001b[0m in \u001b[0;36mcheck_ndim\u001b[0;34m(values, placement, ndim)\u001b[0m\n\u001b[1;32m   1977\u001b[0m             )\n\u001b[1;32m   1978\u001b[0m         \u001b[0;32mif\u001b[0m \u001b[0mlen\u001b[0m\u001b[0;34m(\u001b[0m\u001b[0mplacement\u001b[0m\u001b[0;34m)\u001b[0m \u001b[0;34m!=\u001b[0m \u001b[0mlen\u001b[0m\u001b[0;34m(\u001b[0m\u001b[0mvalues\u001b[0m\u001b[0;34m)\u001b[0m\u001b[0;34m:\u001b[0m\u001b[0;34m\u001b[0m\u001b[0;34m\u001b[0m\u001b[0m\n\u001b[0;32m-> 1979\u001b[0;31m             raise ValueError(\n\u001b[0m\u001b[1;32m   1980\u001b[0m                 \u001b[0;34mf\"Wrong number of items passed {len(values)}, \"\u001b[0m\u001b[0;34m\u001b[0m\u001b[0;34m\u001b[0m\u001b[0m\n\u001b[1;32m   1981\u001b[0m                 \u001b[0;34mf\"placement implies {len(placement)}\"\u001b[0m\u001b[0;34m\u001b[0m\u001b[0;34m\u001b[0m\u001b[0m\n",
            "\u001b[0;31mValueError\u001b[0m: Wrong number of items passed 9, placement implies 1"
          ]
        }
      ]
    },
    {
      "cell_type": "code",
      "source": [
        "run[\"val_cm\"] = val_cm                    #This should never change unless the vanilla model changes\n",
        "run[\"test_acc_all\"] = test_acc_all        #This should never change unless the vanilla model changes\n",
        "run[\"test_acc_known\"] = test_acc_known    #This should never change unless the vanilla model changes\n",
        "run[\"test_cm\"] = cm                       #This should never change unless the vanilla model changes\n",
        "run[\"true_labels\"] = true_labels        #This should never change unless Train/Val/Test Split changes on Test Set\n",
        "\n",
        "# ~~~~~~~~~~~~~~~~~~~~~~~~ TTA Specific Metrics to log: ~~~~~~~~~~~~~~~~~~~~~~~~~~~~~~~~~\n",
        "# run[\"test_acc_all_tta\"] = test_acc_all_tta\n",
        "# run[\"test_acc_known_tta\"] = test_acc_known_tta\n",
        "\n",
        "# run[\"pred_labels_tta\"] = pred_labels_tta\n",
        "# run[\"nll_tta\"] = nll_tta\n",
        "# run[\"entropy_tta\"] = entropy_tta\n",
        "# run[\"pred_max_p_tta\"] = pred_max_p_tta\n",
        "# run[\"test_cm_tta\"] = cm_tta\n",
        "# run['predictions_tta_dataframe'] = df\n",
        "\n",
        "\n",
        "# run[\"val/conf_matrix\"].upload(\"confusion_matrix.png\")\n",
        "# run[\"TTA_Conf_Matrix_Plot\"].upload(disp_tta)\n",
        "\n",
        "\n"
      ],
      "metadata": {
        "id": "Jcj8LEhbM49z",
        "colab": {
          "base_uri": "https://localhost:8080/",
          "height": 235
        },
        "outputId": "e6186872-7257-48c1-9651-da98ad2f71f4"
      },
      "execution_count": 46,
      "outputs": [
        {
          "output_type": "error",
          "ename": "NameError",
          "evalue": "ignored",
          "traceback": [
            "\u001b[0;31m---------------------------------------------------------------------------\u001b[0m",
            "\u001b[0;31mNameError\u001b[0m                                 Traceback (most recent call last)",
            "\u001b[0;32m<ipython-input-46-c48150ee187e>\u001b[0m in \u001b[0;36m<module>\u001b[0;34m\u001b[0m\n\u001b[0;32m----> 1\u001b[0;31m \u001b[0mrun\u001b[0m\u001b[0;34m[\u001b[0m\u001b[0;34m\"val_cm\"\u001b[0m\u001b[0;34m]\u001b[0m \u001b[0;34m=\u001b[0m \u001b[0mval_cm\u001b[0m                    \u001b[0;31m#This should never change unless the vanilla model changes\u001b[0m\u001b[0;34m\u001b[0m\u001b[0;34m\u001b[0m\u001b[0m\n\u001b[0m\u001b[1;32m      2\u001b[0m \u001b[0mrun\u001b[0m\u001b[0;34m[\u001b[0m\u001b[0;34m\"test_acc_all\"\u001b[0m\u001b[0;34m]\u001b[0m \u001b[0;34m=\u001b[0m \u001b[0mtest_acc_all\u001b[0m        \u001b[0;31m#This should never change unless the vanilla model changes\u001b[0m\u001b[0;34m\u001b[0m\u001b[0;34m\u001b[0m\u001b[0m\n\u001b[1;32m      3\u001b[0m \u001b[0mrun\u001b[0m\u001b[0;34m[\u001b[0m\u001b[0;34m\"test_acc_known\"\u001b[0m\u001b[0;34m]\u001b[0m \u001b[0;34m=\u001b[0m \u001b[0mtest_acc_known\u001b[0m    \u001b[0;31m#This should never change unless the vanilla model changes\u001b[0m\u001b[0;34m\u001b[0m\u001b[0;34m\u001b[0m\u001b[0m\n\u001b[1;32m      4\u001b[0m \u001b[0mrun\u001b[0m\u001b[0;34m[\u001b[0m\u001b[0;34m\"test_cm\"\u001b[0m\u001b[0;34m]\u001b[0m \u001b[0;34m=\u001b[0m \u001b[0mcm\u001b[0m                       \u001b[0;31m#This should never change unless the vanilla model changes\u001b[0m\u001b[0;34m\u001b[0m\u001b[0;34m\u001b[0m\u001b[0m\n\u001b[1;32m      5\u001b[0m \u001b[0mrun\u001b[0m\u001b[0;34m[\u001b[0m\u001b[0;34m\"true_labels\"\u001b[0m\u001b[0;34m]\u001b[0m \u001b[0;34m=\u001b[0m \u001b[0mtrue_labels\u001b[0m        \u001b[0;31m#This should never change unless Train/Val/Test Split changes on Test Set\u001b[0m\u001b[0;34m\u001b[0m\u001b[0;34m\u001b[0m\u001b[0m\n",
            "\u001b[0;31mNameError\u001b[0m: name 'run' is not defined"
          ]
        }
      ]
    },
    {
      "cell_type": "markdown",
      "source": [
        "##### Confusion Matrix for TTA "
      ],
      "metadata": {
        "id": "R5I85jNb_T01"
      }
    },
    {
      "cell_type": "code",
      "source": [
        "\n",
        "cm_tta = confusion_matrix(true_labels, pred_labels_tta)\n",
        "disp_tta = ConfusionMatrixDisplay(confusion_matrix=cm_tta, display_labels=labels)\n",
        "disp_tta.plot(cmap=plt.cm.Blues)\n",
        "plt.show()\n",
        "# neptune.types.File.as_image(disp_tta)"
      ],
      "metadata": {
        "id": "IcPsZmt8-sgc",
        "colab": {
          "base_uri": "https://localhost:8080/",
          "height": 235
        },
        "outputId": "3344ccde-f3fc-4f69-88bc-6d9eb2acaf62"
      },
      "execution_count": 41,
      "outputs": [
        {
          "output_type": "error",
          "ename": "NameError",
          "evalue": "ignored",
          "traceback": [
            "\u001b[0;31m---------------------------------------------------------------------------\u001b[0m",
            "\u001b[0;31mNameError\u001b[0m                                 Traceback (most recent call last)",
            "\u001b[0;32m<ipython-input-41-35d60fd1131d>\u001b[0m in \u001b[0;36m<module>\u001b[0;34m\u001b[0m\n\u001b[0;32m----> 1\u001b[0;31m \u001b[0mcm_tta\u001b[0m \u001b[0;34m=\u001b[0m \u001b[0mconfusion_matrix\u001b[0m\u001b[0;34m(\u001b[0m\u001b[0mtrue_labels\u001b[0m\u001b[0;34m,\u001b[0m \u001b[0mpred_labels_tta\u001b[0m\u001b[0;34m)\u001b[0m\u001b[0;34m\u001b[0m\u001b[0;34m\u001b[0m\u001b[0m\n\u001b[0m\u001b[1;32m      2\u001b[0m \u001b[0mdisp_tta\u001b[0m \u001b[0;34m=\u001b[0m \u001b[0mConfusionMatrixDisplay\u001b[0m\u001b[0;34m(\u001b[0m\u001b[0mconfusion_matrix\u001b[0m\u001b[0;34m=\u001b[0m\u001b[0mcm_tta\u001b[0m\u001b[0;34m,\u001b[0m \u001b[0mdisplay_labels\u001b[0m\u001b[0;34m=\u001b[0m\u001b[0mlabels\u001b[0m\u001b[0;34m)\u001b[0m\u001b[0;34m\u001b[0m\u001b[0;34m\u001b[0m\u001b[0m\n\u001b[1;32m      3\u001b[0m \u001b[0mdisp_tta\u001b[0m\u001b[0;34m.\u001b[0m\u001b[0mplot\u001b[0m\u001b[0;34m(\u001b[0m\u001b[0mcmap\u001b[0m\u001b[0;34m=\u001b[0m\u001b[0mplt\u001b[0m\u001b[0;34m.\u001b[0m\u001b[0mcm\u001b[0m\u001b[0;34m.\u001b[0m\u001b[0mBlues\u001b[0m\u001b[0;34m)\u001b[0m\u001b[0;34m\u001b[0m\u001b[0;34m\u001b[0m\u001b[0m\n\u001b[1;32m      4\u001b[0m \u001b[0mplt\u001b[0m\u001b[0;34m.\u001b[0m\u001b[0mshow\u001b[0m\u001b[0;34m(\u001b[0m\u001b[0;34m)\u001b[0m\u001b[0;34m\u001b[0m\u001b[0;34m\u001b[0m\u001b[0m\n\u001b[1;32m      5\u001b[0m \u001b[0;31m# neptune.types.File.as_image(disp_tta)\u001b[0m\u001b[0;34m\u001b[0m\u001b[0;34m\u001b[0m\u001b[0;34m\u001b[0m\u001b[0m\n",
            "\u001b[0;31mNameError\u001b[0m: name 'pred_labels_tta' is not defined"
          ]
        }
      ]
    },
    {
      "cell_type": "markdown",
      "source": [
        "See Misclassified Images"
      ],
      "metadata": {
        "id": "P6JKa1TginlD"
      }
    },
    {
      "cell_type": "code",
      "source": [
        " "
      ],
      "metadata": {
        "id": "h9_69EFvNMFi"
      },
      "execution_count": null,
      "outputs": []
    },
    {
      "metadata": {
        "id": "m1dcQj2-Q6MJ"
      },
      "cell_type": "markdown",
      "source": [
        "### See the impact of TTA on a single image"
      ]
    },
    {
      "metadata": {
        "id": "cEA8OgcBQ6MJ"
      },
      "cell_type": "code",
      "source": [
        "image_ix = 1\n",
        "test_image = x_val[image_ix]\n",
        "plt.imshow(revertscale_fn(test_image)/255)\n",
        "plt.title(f'real label: {np.argmax(y_val[image_ix])}')\n",
        "plt.axis('off');"
      ],
      "execution_count": null,
      "outputs": []
    },
    {
      "cell_type": "code",
      "source": [],
      "metadata": {
        "id": "02h9Og0joX63"
      },
      "execution_count": null,
      "outputs": []
    },
    {
      "metadata": {
        "id": "3Zt-DoKJQ6MP"
      },
      "cell_type": "code",
      "source": [
        "plt.figure(figsize=(20,14))\n",
        "predictions_tta_idx = []\n",
        "\n",
        "for i in range(5):\n",
        "    im = test_datagen.flow(test_image.reshape(1,32,32,3), batch_size=1, shuffle=False)\n",
        "    im = next(im)\n",
        "    pred = model.predict(im.reshape(1,32,32,3))\n",
        "    predictions_tta_idx.append(pred)\n",
        "    plt.subplot(1, 5, i+1)\n",
        "    plt.title(f'pred label: {np.argmax(pred)}')\n",
        "    im = (revertscale_fn(im)/255)\n",
        "\n",
        "    plt.imshow(im.reshape(32, 32, 3), cmap=plt.get_cmap('gray'))\n",
        "    plt.axis('off')\n",
        "plt.show()"
      ],
      "execution_count": null,
      "outputs": []
    },
    {
      "metadata": {
        "id": "Ozb5T7DqQ6MV"
      },
      "cell_type": "code",
      "source": [
        "final_pred_idx = np.mean(predictions_tta_idx, axis=0)\n",
        "print(f'final pred: {np.argmax(final_pred_idx)}')"
      ],
      "execution_count": null,
      "outputs": []
    },
    {
      "cell_type": "code",
      "source": [
        "\n",
        "now = datetime.datetime.now()\n",
        "\n",
        "# now.strftime('%Y-%m-%d %H:%M:%S')\n",
        "\n",
        "print(now)\n",
        "\n",
        "print(now-start)"
      ],
      "metadata": {
        "id": "k7i8BLiJIuTB"
      },
      "execution_count": null,
      "outputs": []
    }
  ],
  "metadata": {
    "colab": {
      "provenance": [],
      "toc_visible": true,
      "include_colab_link": true
    },
    "kernelspec": {
      "display_name": "Python 3",
      "language": "python",
      "name": "python3"
    },
    "language_info": {
      "codemirror_mode": {
        "name": "ipython",
        "version": 3
      },
      "file_extension": ".py",
      "mimetype": "text/x-python",
      "name": "python",
      "nbconvert_exporter": "python",
      "pygments_lexer": "ipython3",
      "version": "3.6.8"
    },
    "widgets": {
      "application/vnd.jupyter.widget-state+json": {
        "d62e2f1653a04efabef3755a12f1addd": {
          "model_module": "@jupyter-widgets/controls",
          "model_name": "HBoxModel",
          "model_module_version": "1.5.0",
          "state": {
            "_dom_classes": [],
            "_model_module": "@jupyter-widgets/controls",
            "_model_module_version": "1.5.0",
            "_model_name": "HBoxModel",
            "_view_count": null,
            "_view_module": "@jupyter-widgets/controls",
            "_view_module_version": "1.5.0",
            "_view_name": "HBoxView",
            "box_style": "",
            "children": [
              "IPY_MODEL_38f01ca23a0b478fb9cd33f8fa2c9c6e",
              "IPY_MODEL_658022ba608a4f428ed02c8095a95b87",
              "IPY_MODEL_5c85f27be06b469d9d0786adc6d631cd"
            ],
            "layout": "IPY_MODEL_c97b37c8b4cb4541a74cbf085119dd63"
          }
        },
        "38f01ca23a0b478fb9cd33f8fa2c9c6e": {
          "model_module": "@jupyter-widgets/controls",
          "model_name": "HTMLModel",
          "model_module_version": "1.5.0",
          "state": {
            "_dom_classes": [],
            "_model_module": "@jupyter-widgets/controls",
            "_model_module_version": "1.5.0",
            "_model_name": "HTMLModel",
            "_view_count": null,
            "_view_module": "@jupyter-widgets/controls",
            "_view_module_version": "1.5.0",
            "_view_name": "HTMLView",
            "description": "",
            "description_tooltip": null,
            "layout": "IPY_MODEL_9eb19b62946446eba0e1eb345b33a975",
            "placeholder": "​",
            "style": "IPY_MODEL_51653a904f8f4f199adf0329bc752cac",
            "value": " 32%"
          }
        },
        "658022ba608a4f428ed02c8095a95b87": {
          "model_module": "@jupyter-widgets/controls",
          "model_name": "FloatProgressModel",
          "model_module_version": "1.5.0",
          "state": {
            "_dom_classes": [],
            "_model_module": "@jupyter-widgets/controls",
            "_model_module_version": "1.5.0",
            "_model_name": "FloatProgressModel",
            "_view_count": null,
            "_view_module": "@jupyter-widgets/controls",
            "_view_module_version": "1.5.0",
            "_view_name": "ProgressView",
            "bar_style": "",
            "description": "",
            "description_tooltip": null,
            "layout": "IPY_MODEL_60bf2e3ae0d444c2b020fa15d05de26c",
            "max": 50,
            "min": 0,
            "orientation": "horizontal",
            "style": "IPY_MODEL_040744f97d134fb895b2572e5dc64f7e",
            "value": 17
          }
        },
        "5c85f27be06b469d9d0786adc6d631cd": {
          "model_module": "@jupyter-widgets/controls",
          "model_name": "HTMLModel",
          "model_module_version": "1.5.0",
          "state": {
            "_dom_classes": [],
            "_model_module": "@jupyter-widgets/controls",
            "_model_module_version": "1.5.0",
            "_model_name": "HTMLModel",
            "_view_count": null,
            "_view_module": "@jupyter-widgets/controls",
            "_view_module_version": "1.5.0",
            "_view_name": "HTMLView",
            "description": "",
            "description_tooltip": null,
            "layout": "IPY_MODEL_e205d7c618f844659d63fff9d40ab468",
            "placeholder": "​",
            "style": "IPY_MODEL_12e734b59119412bbfd3eec7166db968",
            "value": " 16/50 [02:26&lt;05:23,  9.52s/it]"
          }
        },
        "c97b37c8b4cb4541a74cbf085119dd63": {
          "model_module": "@jupyter-widgets/base",
          "model_name": "LayoutModel",
          "model_module_version": "1.2.0",
          "state": {
            "_model_module": "@jupyter-widgets/base",
            "_model_module_version": "1.2.0",
            "_model_name": "LayoutModel",
            "_view_count": null,
            "_view_module": "@jupyter-widgets/base",
            "_view_module_version": "1.2.0",
            "_view_name": "LayoutView",
            "align_content": null,
            "align_items": null,
            "align_self": null,
            "border": null,
            "bottom": null,
            "display": null,
            "flex": null,
            "flex_flow": null,
            "grid_area": null,
            "grid_auto_columns": null,
            "grid_auto_flow": null,
            "grid_auto_rows": null,
            "grid_column": null,
            "grid_gap": null,
            "grid_row": null,
            "grid_template_areas": null,
            "grid_template_columns": null,
            "grid_template_rows": null,
            "height": null,
            "justify_content": null,
            "justify_items": null,
            "left": null,
            "margin": null,
            "max_height": null,
            "max_width": null,
            "min_height": null,
            "min_width": null,
            "object_fit": null,
            "object_position": null,
            "order": null,
            "overflow": null,
            "overflow_x": null,
            "overflow_y": null,
            "padding": null,
            "right": null,
            "top": null,
            "visibility": null,
            "width": null
          }
        },
        "9eb19b62946446eba0e1eb345b33a975": {
          "model_module": "@jupyter-widgets/base",
          "model_name": "LayoutModel",
          "model_module_version": "1.2.0",
          "state": {
            "_model_module": "@jupyter-widgets/base",
            "_model_module_version": "1.2.0",
            "_model_name": "LayoutModel",
            "_view_count": null,
            "_view_module": "@jupyter-widgets/base",
            "_view_module_version": "1.2.0",
            "_view_name": "LayoutView",
            "align_content": null,
            "align_items": null,
            "align_self": null,
            "border": null,
            "bottom": null,
            "display": null,
            "flex": null,
            "flex_flow": null,
            "grid_area": null,
            "grid_auto_columns": null,
            "grid_auto_flow": null,
            "grid_auto_rows": null,
            "grid_column": null,
            "grid_gap": null,
            "grid_row": null,
            "grid_template_areas": null,
            "grid_template_columns": null,
            "grid_template_rows": null,
            "height": null,
            "justify_content": null,
            "justify_items": null,
            "left": null,
            "margin": null,
            "max_height": null,
            "max_width": null,
            "min_height": null,
            "min_width": null,
            "object_fit": null,
            "object_position": null,
            "order": null,
            "overflow": null,
            "overflow_x": null,
            "overflow_y": null,
            "padding": null,
            "right": null,
            "top": null,
            "visibility": null,
            "width": null
          }
        },
        "51653a904f8f4f199adf0329bc752cac": {
          "model_module": "@jupyter-widgets/controls",
          "model_name": "DescriptionStyleModel",
          "model_module_version": "1.5.0",
          "state": {
            "_model_module": "@jupyter-widgets/controls",
            "_model_module_version": "1.5.0",
            "_model_name": "DescriptionStyleModel",
            "_view_count": null,
            "_view_module": "@jupyter-widgets/base",
            "_view_module_version": "1.2.0",
            "_view_name": "StyleView",
            "description_width": ""
          }
        },
        "60bf2e3ae0d444c2b020fa15d05de26c": {
          "model_module": "@jupyter-widgets/base",
          "model_name": "LayoutModel",
          "model_module_version": "1.2.0",
          "state": {
            "_model_module": "@jupyter-widgets/base",
            "_model_module_version": "1.2.0",
            "_model_name": "LayoutModel",
            "_view_count": null,
            "_view_module": "@jupyter-widgets/base",
            "_view_module_version": "1.2.0",
            "_view_name": "LayoutView",
            "align_content": null,
            "align_items": null,
            "align_self": null,
            "border": null,
            "bottom": null,
            "display": null,
            "flex": null,
            "flex_flow": null,
            "grid_area": null,
            "grid_auto_columns": null,
            "grid_auto_flow": null,
            "grid_auto_rows": null,
            "grid_column": null,
            "grid_gap": null,
            "grid_row": null,
            "grid_template_areas": null,
            "grid_template_columns": null,
            "grid_template_rows": null,
            "height": null,
            "justify_content": null,
            "justify_items": null,
            "left": null,
            "margin": null,
            "max_height": null,
            "max_width": null,
            "min_height": null,
            "min_width": null,
            "object_fit": null,
            "object_position": null,
            "order": null,
            "overflow": null,
            "overflow_x": null,
            "overflow_y": null,
            "padding": null,
            "right": null,
            "top": null,
            "visibility": null,
            "width": null
          }
        },
        "040744f97d134fb895b2572e5dc64f7e": {
          "model_module": "@jupyter-widgets/controls",
          "model_name": "ProgressStyleModel",
          "model_module_version": "1.5.0",
          "state": {
            "_model_module": "@jupyter-widgets/controls",
            "_model_module_version": "1.5.0",
            "_model_name": "ProgressStyleModel",
            "_view_count": null,
            "_view_module": "@jupyter-widgets/base",
            "_view_module_version": "1.2.0",
            "_view_name": "StyleView",
            "bar_color": null,
            "description_width": ""
          }
        },
        "e205d7c618f844659d63fff9d40ab468": {
          "model_module": "@jupyter-widgets/base",
          "model_name": "LayoutModel",
          "model_module_version": "1.2.0",
          "state": {
            "_model_module": "@jupyter-widgets/base",
            "_model_module_version": "1.2.0",
            "_model_name": "LayoutModel",
            "_view_count": null,
            "_view_module": "@jupyter-widgets/base",
            "_view_module_version": "1.2.0",
            "_view_name": "LayoutView",
            "align_content": null,
            "align_items": null,
            "align_self": null,
            "border": null,
            "bottom": null,
            "display": null,
            "flex": null,
            "flex_flow": null,
            "grid_area": null,
            "grid_auto_columns": null,
            "grid_auto_flow": null,
            "grid_auto_rows": null,
            "grid_column": null,
            "grid_gap": null,
            "grid_row": null,
            "grid_template_areas": null,
            "grid_template_columns": null,
            "grid_template_rows": null,
            "height": null,
            "justify_content": null,
            "justify_items": null,
            "left": null,
            "margin": null,
            "max_height": null,
            "max_width": null,
            "min_height": null,
            "min_width": null,
            "object_fit": null,
            "object_position": null,
            "order": null,
            "overflow": null,
            "overflow_x": null,
            "overflow_y": null,
            "padding": null,
            "right": null,
            "top": null,
            "visibility": null,
            "width": null
          }
        },
        "12e734b59119412bbfd3eec7166db968": {
          "model_module": "@jupyter-widgets/controls",
          "model_name": "DescriptionStyleModel",
          "model_module_version": "1.5.0",
          "state": {
            "_model_module": "@jupyter-widgets/controls",
            "_model_module_version": "1.5.0",
            "_model_name": "DescriptionStyleModel",
            "_view_count": null,
            "_view_module": "@jupyter-widgets/base",
            "_view_module_version": "1.2.0",
            "_view_name": "StyleView",
            "description_width": ""
          }
        },
        "95a4cb21f83141fdbf6a43763b38727e": {
          "model_module": "@jupyter-widgets/controls",
          "model_name": "HBoxModel",
          "model_module_version": "1.5.0",
          "state": {
            "_dom_classes": [],
            "_model_module": "@jupyter-widgets/controls",
            "_model_module_version": "1.5.0",
            "_model_name": "HBoxModel",
            "_view_count": null,
            "_view_module": "@jupyter-widgets/controls",
            "_view_module_version": "1.5.0",
            "_view_name": "HBoxView",
            "box_style": "",
            "children": [
              "IPY_MODEL_81e42229bd6e4aca9f69da5d7dd440e3",
              "IPY_MODEL_b20b5299949c48f09c741f3c3da75fe1",
              "IPY_MODEL_915748d16d4a4e068733dfbf8bbb304e"
            ],
            "layout": "IPY_MODEL_fec8f373c39c437cb665635cd8b78b5e"
          }
        },
        "81e42229bd6e4aca9f69da5d7dd440e3": {
          "model_module": "@jupyter-widgets/controls",
          "model_name": "HTMLModel",
          "model_module_version": "1.5.0",
          "state": {
            "_dom_classes": [],
            "_model_module": "@jupyter-widgets/controls",
            "_model_module_version": "1.5.0",
            "_model_name": "HTMLModel",
            "_view_count": null,
            "_view_module": "@jupyter-widgets/controls",
            "_view_module_version": "1.5.0",
            "_view_name": "HTMLView",
            "description": "",
            "description_tooltip": null,
            "layout": "IPY_MODEL_2174ec42fb19447aa74c17aa3d049268",
            "placeholder": "​",
            "style": "IPY_MODEL_2c653b1bb7954b0286dbe54bb8061b48",
            "value": "  0%"
          }
        },
        "b20b5299949c48f09c741f3c3da75fe1": {
          "model_module": "@jupyter-widgets/controls",
          "model_name": "FloatProgressModel",
          "model_module_version": "1.5.0",
          "state": {
            "_dom_classes": [],
            "_model_module": "@jupyter-widgets/controls",
            "_model_module_version": "1.5.0",
            "_model_name": "FloatProgressModel",
            "_view_count": null,
            "_view_module": "@jupyter-widgets/controls",
            "_view_module_version": "1.5.0",
            "_view_name": "ProgressView",
            "bar_style": "danger",
            "description": "",
            "description_tooltip": null,
            "layout": "IPY_MODEL_2ee04afe405745308efb36d38c45d61d",
            "max": 50,
            "min": 0,
            "orientation": "horizontal",
            "style": "IPY_MODEL_16ab0005c3e8473cabecde7689f273a1",
            "value": 0
          }
        },
        "915748d16d4a4e068733dfbf8bbb304e": {
          "model_module": "@jupyter-widgets/controls",
          "model_name": "HTMLModel",
          "model_module_version": "1.5.0",
          "state": {
            "_dom_classes": [],
            "_model_module": "@jupyter-widgets/controls",
            "_model_module_version": "1.5.0",
            "_model_name": "HTMLModel",
            "_view_count": null,
            "_view_module": "@jupyter-widgets/controls",
            "_view_module_version": "1.5.0",
            "_view_name": "HTMLView",
            "description": "",
            "description_tooltip": null,
            "layout": "IPY_MODEL_ab4fb27cc86e4916abb5e7c98ff9a0a7",
            "placeholder": "​",
            "style": "IPY_MODEL_10427441fd2a421089b7a4e8dafcf712",
            "value": " 0/50 [00:08&lt;?, ?it/s]"
          }
        },
        "fec8f373c39c437cb665635cd8b78b5e": {
          "model_module": "@jupyter-widgets/base",
          "model_name": "LayoutModel",
          "model_module_version": "1.2.0",
          "state": {
            "_model_module": "@jupyter-widgets/base",
            "_model_module_version": "1.2.0",
            "_model_name": "LayoutModel",
            "_view_count": null,
            "_view_module": "@jupyter-widgets/base",
            "_view_module_version": "1.2.0",
            "_view_name": "LayoutView",
            "align_content": null,
            "align_items": null,
            "align_self": null,
            "border": null,
            "bottom": null,
            "display": null,
            "flex": null,
            "flex_flow": null,
            "grid_area": null,
            "grid_auto_columns": null,
            "grid_auto_flow": null,
            "grid_auto_rows": null,
            "grid_column": null,
            "grid_gap": null,
            "grid_row": null,
            "grid_template_areas": null,
            "grid_template_columns": null,
            "grid_template_rows": null,
            "height": null,
            "justify_content": null,
            "justify_items": null,
            "left": null,
            "margin": null,
            "max_height": null,
            "max_width": null,
            "min_height": null,
            "min_width": null,
            "object_fit": null,
            "object_position": null,
            "order": null,
            "overflow": null,
            "overflow_x": null,
            "overflow_y": null,
            "padding": null,
            "right": null,
            "top": null,
            "visibility": null,
            "width": null
          }
        },
        "2174ec42fb19447aa74c17aa3d049268": {
          "model_module": "@jupyter-widgets/base",
          "model_name": "LayoutModel",
          "model_module_version": "1.2.0",
          "state": {
            "_model_module": "@jupyter-widgets/base",
            "_model_module_version": "1.2.0",
            "_model_name": "LayoutModel",
            "_view_count": null,
            "_view_module": "@jupyter-widgets/base",
            "_view_module_version": "1.2.0",
            "_view_name": "LayoutView",
            "align_content": null,
            "align_items": null,
            "align_self": null,
            "border": null,
            "bottom": null,
            "display": null,
            "flex": null,
            "flex_flow": null,
            "grid_area": null,
            "grid_auto_columns": null,
            "grid_auto_flow": null,
            "grid_auto_rows": null,
            "grid_column": null,
            "grid_gap": null,
            "grid_row": null,
            "grid_template_areas": null,
            "grid_template_columns": null,
            "grid_template_rows": null,
            "height": null,
            "justify_content": null,
            "justify_items": null,
            "left": null,
            "margin": null,
            "max_height": null,
            "max_width": null,
            "min_height": null,
            "min_width": null,
            "object_fit": null,
            "object_position": null,
            "order": null,
            "overflow": null,
            "overflow_x": null,
            "overflow_y": null,
            "padding": null,
            "right": null,
            "top": null,
            "visibility": null,
            "width": null
          }
        },
        "2c653b1bb7954b0286dbe54bb8061b48": {
          "model_module": "@jupyter-widgets/controls",
          "model_name": "DescriptionStyleModel",
          "model_module_version": "1.5.0",
          "state": {
            "_model_module": "@jupyter-widgets/controls",
            "_model_module_version": "1.5.0",
            "_model_name": "DescriptionStyleModel",
            "_view_count": null,
            "_view_module": "@jupyter-widgets/base",
            "_view_module_version": "1.2.0",
            "_view_name": "StyleView",
            "description_width": ""
          }
        },
        "2ee04afe405745308efb36d38c45d61d": {
          "model_module": "@jupyter-widgets/base",
          "model_name": "LayoutModel",
          "model_module_version": "1.2.0",
          "state": {
            "_model_module": "@jupyter-widgets/base",
            "_model_module_version": "1.2.0",
            "_model_name": "LayoutModel",
            "_view_count": null,
            "_view_module": "@jupyter-widgets/base",
            "_view_module_version": "1.2.0",
            "_view_name": "LayoutView",
            "align_content": null,
            "align_items": null,
            "align_self": null,
            "border": null,
            "bottom": null,
            "display": null,
            "flex": null,
            "flex_flow": null,
            "grid_area": null,
            "grid_auto_columns": null,
            "grid_auto_flow": null,
            "grid_auto_rows": null,
            "grid_column": null,
            "grid_gap": null,
            "grid_row": null,
            "grid_template_areas": null,
            "grid_template_columns": null,
            "grid_template_rows": null,
            "height": null,
            "justify_content": null,
            "justify_items": null,
            "left": null,
            "margin": null,
            "max_height": null,
            "max_width": null,
            "min_height": null,
            "min_width": null,
            "object_fit": null,
            "object_position": null,
            "order": null,
            "overflow": null,
            "overflow_x": null,
            "overflow_y": null,
            "padding": null,
            "right": null,
            "top": null,
            "visibility": null,
            "width": null
          }
        },
        "16ab0005c3e8473cabecde7689f273a1": {
          "model_module": "@jupyter-widgets/controls",
          "model_name": "ProgressStyleModel",
          "model_module_version": "1.5.0",
          "state": {
            "_model_module": "@jupyter-widgets/controls",
            "_model_module_version": "1.5.0",
            "_model_name": "ProgressStyleModel",
            "_view_count": null,
            "_view_module": "@jupyter-widgets/base",
            "_view_module_version": "1.2.0",
            "_view_name": "StyleView",
            "bar_color": null,
            "description_width": ""
          }
        },
        "ab4fb27cc86e4916abb5e7c98ff9a0a7": {
          "model_module": "@jupyter-widgets/base",
          "model_name": "LayoutModel",
          "model_module_version": "1.2.0",
          "state": {
            "_model_module": "@jupyter-widgets/base",
            "_model_module_version": "1.2.0",
            "_model_name": "LayoutModel",
            "_view_count": null,
            "_view_module": "@jupyter-widgets/base",
            "_view_module_version": "1.2.0",
            "_view_name": "LayoutView",
            "align_content": null,
            "align_items": null,
            "align_self": null,
            "border": null,
            "bottom": null,
            "display": null,
            "flex": null,
            "flex_flow": null,
            "grid_area": null,
            "grid_auto_columns": null,
            "grid_auto_flow": null,
            "grid_auto_rows": null,
            "grid_column": null,
            "grid_gap": null,
            "grid_row": null,
            "grid_template_areas": null,
            "grid_template_columns": null,
            "grid_template_rows": null,
            "height": null,
            "justify_content": null,
            "justify_items": null,
            "left": null,
            "margin": null,
            "max_height": null,
            "max_width": null,
            "min_height": null,
            "min_width": null,
            "object_fit": null,
            "object_position": null,
            "order": null,
            "overflow": null,
            "overflow_x": null,
            "overflow_y": null,
            "padding": null,
            "right": null,
            "top": null,
            "visibility": null,
            "width": null
          }
        },
        "10427441fd2a421089b7a4e8dafcf712": {
          "model_module": "@jupyter-widgets/controls",
          "model_name": "DescriptionStyleModel",
          "model_module_version": "1.5.0",
          "state": {
            "_model_module": "@jupyter-widgets/controls",
            "_model_module_version": "1.5.0",
            "_model_name": "DescriptionStyleModel",
            "_view_count": null,
            "_view_module": "@jupyter-widgets/base",
            "_view_module_version": "1.2.0",
            "_view_name": "StyleView",
            "description_width": ""
          }
        }
      }
    },
    "gpuClass": "standard"
  },
  "nbformat": 4,
  "nbformat_minor": 0
}